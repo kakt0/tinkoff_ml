{
  "cells": [
    {
      "cell_type": "code",
      "execution_count": 1,
      "metadata": {
        "colab": {
          "base_uri": "https://localhost:8080/"
        },
        "id": "SdUutl9eJcm_",
        "outputId": "f299ff4f-cd79-4c1e-c3ae-d49d7771450e"
      },
      "outputs": [
        {
          "output_type": "stream",
          "name": "stdout",
          "text": [
            "Looking in indexes: https://pypi.org/simple, https://us-python.pkg.dev/colab-wheels/public/simple/\n",
            "Requirement already satisfied: pandas_datareader in /usr/local/lib/python3.7/dist-packages (0.9.0)\n",
            "Requirement already satisfied: requests>=2.19.0 in /usr/local/lib/python3.7/dist-packages (from pandas_datareader) (2.23.0)\n",
            "Requirement already satisfied: pandas>=0.23 in /usr/local/lib/python3.7/dist-packages (from pandas_datareader) (1.3.5)\n",
            "Requirement already satisfied: lxml in /usr/local/lib/python3.7/dist-packages (from pandas_datareader) (4.9.1)\n",
            "Requirement already satisfied: numpy>=1.17.3 in /usr/local/lib/python3.7/dist-packages (from pandas>=0.23->pandas_datareader) (1.21.6)\n",
            "Requirement already satisfied: pytz>=2017.3 in /usr/local/lib/python3.7/dist-packages (from pandas>=0.23->pandas_datareader) (2022.5)\n",
            "Requirement already satisfied: python-dateutil>=2.7.3 in /usr/local/lib/python3.7/dist-packages (from pandas>=0.23->pandas_datareader) (2.8.2)\n",
            "Requirement already satisfied: six>=1.5 in /usr/local/lib/python3.7/dist-packages (from python-dateutil>=2.7.3->pandas>=0.23->pandas_datareader) (1.15.0)\n",
            "Requirement already satisfied: certifi>=2017.4.17 in /usr/local/lib/python3.7/dist-packages (from requests>=2.19.0->pandas_datareader) (2022.9.24)\n",
            "Requirement already satisfied: urllib3!=1.25.0,!=1.25.1,<1.26,>=1.21.1 in /usr/local/lib/python3.7/dist-packages (from requests>=2.19.0->pandas_datareader) (1.24.3)\n",
            "Requirement already satisfied: idna<3,>=2.5 in /usr/local/lib/python3.7/dist-packages (from requests>=2.19.0->pandas_datareader) (2.10)\n",
            "Requirement already satisfied: chardet<4,>=3.0.2 in /usr/local/lib/python3.7/dist-packages (from requests>=2.19.0->pandas_datareader) (3.0.4)\n"
          ]
        }
      ],
      "source": [
        "!pip install pandas_datareader"
      ]
    },
    {
      "cell_type": "code",
      "execution_count": 4,
      "metadata": {
        "id": "ZTXptXKMJcnA"
      },
      "outputs": [],
      "source": [
        "import pandas as pd\n",
        "import pandas_datareader.data as web\n",
        "import numpy as np\n",
        "import datetime\n",
        "# start = datetime.datetime(2010, 1, 1)\n",
        "# end = datetime.datetime(2022, 8, 6)\n",
        "stocks_data = pd.read_csv('Stocks_processed.csv', index_col='<DATE>').drop(columns=['Unnamed: 0'])"
      ]
    },
    {
      "cell_type": "code",
      "execution_count": null,
      "metadata": {
        "colab": {
          "base_uri": "https://localhost:8080/",
          "height": 455
        },
        "id": "KRdq7gQ5JcnA",
        "outputId": "a9b89b53-aa52-49b0-d8ba-485f604edbfd"
      },
      "outputs": [
        {
          "output_type": "execute_result",
          "data": {
            "text/plain": [
              "          CHFUSD_lrr  GOLD_lrr  EURUSD_lrr  BRENT_lrr   GAS_lrr    PL_lrr  \\\n",
              "<DATE>                                                                      \n",
              "03/01/19    0.002473  0.004094    0.004652   0.015786  0.004803  0.009322   \n",
              "04/01/19    0.001284 -0.008516    0.000377   0.033109  0.037284  0.022267   \n",
              "07/01/19    0.006982 -0.006752    0.006802  -0.003641  0.010373 -0.009521   \n",
              "08/01/19   -0.001765 -0.000545   -0.003194   0.017562 -0.001666  0.000968   \n",
              "09/01/19    0.008212  0.010618    0.009907   0.045868 -0.003675  0.005189   \n",
              "...              ...       ...         ...        ...       ...       ...   \n",
              "27/12/21    0.001928  0.002761    0.000574   0.032578  0.029549 -0.001651   \n",
              "28/12/21    0.000028 -0.003315   -0.001457   0.002541 -0.001224  0.009456   \n",
              "29/12/21    0.003553 -0.001107    0.004049   0.004810 -0.054108 -0.009973   \n",
              "30/12/21    0.000000  0.006295   -0.003280  -0.000758 -0.069325 -0.004245   \n",
              "31/12/21    0.001826  0.007623    0.003932  -0.015279  0.041265  0.002177   \n",
              "\n",
              "          RUBUSD_lrr   SPY_lrr  \n",
              "<DATE>                          \n",
              "03/01/19    0.003656 -0.025068  \n",
              "04/01/19    0.013339  0.033759  \n",
              "07/01/19    0.015553  0.006986  \n",
              "08/01/19   -0.004553  0.009649  \n",
              "09/01/19    0.002413  0.004090  \n",
              "...              ...       ...  \n",
              "27/12/21   -0.000736  0.013744  \n",
              "28/12/21   -0.003687 -0.001011  \n",
              "29/12/21   -0.004888  0.001401  \n",
              "30/12/21   -0.007602 -0.002994  \n",
              "31/12/21   -0.006530 -0.002630  \n",
              "\n",
              "[756 rows x 8 columns]"
            ],
            "text/html": [
              "\n",
              "  <div id=\"df-ada68c7b-3851-41cd-b466-b9b4a18ce453\">\n",
              "    <div class=\"colab-df-container\">\n",
              "      <div>\n",
              "<style scoped>\n",
              "    .dataframe tbody tr th:only-of-type {\n",
              "        vertical-align: middle;\n",
              "    }\n",
              "\n",
              "    .dataframe tbody tr th {\n",
              "        vertical-align: top;\n",
              "    }\n",
              "\n",
              "    .dataframe thead th {\n",
              "        text-align: right;\n",
              "    }\n",
              "</style>\n",
              "<table border=\"1\" class=\"dataframe\">\n",
              "  <thead>\n",
              "    <tr style=\"text-align: right;\">\n",
              "      <th></th>\n",
              "      <th>CHFUSD_lrr</th>\n",
              "      <th>GOLD_lrr</th>\n",
              "      <th>EURUSD_lrr</th>\n",
              "      <th>BRENT_lrr</th>\n",
              "      <th>GAS_lrr</th>\n",
              "      <th>PL_lrr</th>\n",
              "      <th>RUBUSD_lrr</th>\n",
              "      <th>SPY_lrr</th>\n",
              "    </tr>\n",
              "    <tr>\n",
              "      <th>&lt;DATE&gt;</th>\n",
              "      <th></th>\n",
              "      <th></th>\n",
              "      <th></th>\n",
              "      <th></th>\n",
              "      <th></th>\n",
              "      <th></th>\n",
              "      <th></th>\n",
              "      <th></th>\n",
              "    </tr>\n",
              "  </thead>\n",
              "  <tbody>\n",
              "    <tr>\n",
              "      <th>03/01/19</th>\n",
              "      <td>0.002473</td>\n",
              "      <td>0.004094</td>\n",
              "      <td>0.004652</td>\n",
              "      <td>0.015786</td>\n",
              "      <td>0.004803</td>\n",
              "      <td>0.009322</td>\n",
              "      <td>0.003656</td>\n",
              "      <td>-0.025068</td>\n",
              "    </tr>\n",
              "    <tr>\n",
              "      <th>04/01/19</th>\n",
              "      <td>0.001284</td>\n",
              "      <td>-0.008516</td>\n",
              "      <td>0.000377</td>\n",
              "      <td>0.033109</td>\n",
              "      <td>0.037284</td>\n",
              "      <td>0.022267</td>\n",
              "      <td>0.013339</td>\n",
              "      <td>0.033759</td>\n",
              "    </tr>\n",
              "    <tr>\n",
              "      <th>07/01/19</th>\n",
              "      <td>0.006982</td>\n",
              "      <td>-0.006752</td>\n",
              "      <td>0.006802</td>\n",
              "      <td>-0.003641</td>\n",
              "      <td>0.010373</td>\n",
              "      <td>-0.009521</td>\n",
              "      <td>0.015553</td>\n",
              "      <td>0.006986</td>\n",
              "    </tr>\n",
              "    <tr>\n",
              "      <th>08/01/19</th>\n",
              "      <td>-0.001765</td>\n",
              "      <td>-0.000545</td>\n",
              "      <td>-0.003194</td>\n",
              "      <td>0.017562</td>\n",
              "      <td>-0.001666</td>\n",
              "      <td>0.000968</td>\n",
              "      <td>-0.004553</td>\n",
              "      <td>0.009649</td>\n",
              "    </tr>\n",
              "    <tr>\n",
              "      <th>09/01/19</th>\n",
              "      <td>0.008212</td>\n",
              "      <td>0.010618</td>\n",
              "      <td>0.009907</td>\n",
              "      <td>0.045868</td>\n",
              "      <td>-0.003675</td>\n",
              "      <td>0.005189</td>\n",
              "      <td>0.002413</td>\n",
              "      <td>0.004090</td>\n",
              "    </tr>\n",
              "    <tr>\n",
              "      <th>...</th>\n",
              "      <td>...</td>\n",
              "      <td>...</td>\n",
              "      <td>...</td>\n",
              "      <td>...</td>\n",
              "      <td>...</td>\n",
              "      <td>...</td>\n",
              "      <td>...</td>\n",
              "      <td>...</td>\n",
              "    </tr>\n",
              "    <tr>\n",
              "      <th>27/12/21</th>\n",
              "      <td>0.001928</td>\n",
              "      <td>0.002761</td>\n",
              "      <td>0.000574</td>\n",
              "      <td>0.032578</td>\n",
              "      <td>0.029549</td>\n",
              "      <td>-0.001651</td>\n",
              "      <td>-0.000736</td>\n",
              "      <td>0.013744</td>\n",
              "    </tr>\n",
              "    <tr>\n",
              "      <th>28/12/21</th>\n",
              "      <td>0.000028</td>\n",
              "      <td>-0.003315</td>\n",
              "      <td>-0.001457</td>\n",
              "      <td>0.002541</td>\n",
              "      <td>-0.001224</td>\n",
              "      <td>0.009456</td>\n",
              "      <td>-0.003687</td>\n",
              "      <td>-0.001011</td>\n",
              "    </tr>\n",
              "    <tr>\n",
              "      <th>29/12/21</th>\n",
              "      <td>0.003553</td>\n",
              "      <td>-0.001107</td>\n",
              "      <td>0.004049</td>\n",
              "      <td>0.004810</td>\n",
              "      <td>-0.054108</td>\n",
              "      <td>-0.009973</td>\n",
              "      <td>-0.004888</td>\n",
              "      <td>0.001401</td>\n",
              "    </tr>\n",
              "    <tr>\n",
              "      <th>30/12/21</th>\n",
              "      <td>0.000000</td>\n",
              "      <td>0.006295</td>\n",
              "      <td>-0.003280</td>\n",
              "      <td>-0.000758</td>\n",
              "      <td>-0.069325</td>\n",
              "      <td>-0.004245</td>\n",
              "      <td>-0.007602</td>\n",
              "      <td>-0.002994</td>\n",
              "    </tr>\n",
              "    <tr>\n",
              "      <th>31/12/21</th>\n",
              "      <td>0.001826</td>\n",
              "      <td>0.007623</td>\n",
              "      <td>0.003932</td>\n",
              "      <td>-0.015279</td>\n",
              "      <td>0.041265</td>\n",
              "      <td>0.002177</td>\n",
              "      <td>-0.006530</td>\n",
              "      <td>-0.002630</td>\n",
              "    </tr>\n",
              "  </tbody>\n",
              "</table>\n",
              "<p>756 rows × 8 columns</p>\n",
              "</div>\n",
              "      <button class=\"colab-df-convert\" onclick=\"convertToInteractive('df-ada68c7b-3851-41cd-b466-b9b4a18ce453')\"\n",
              "              title=\"Convert this dataframe to an interactive table.\"\n",
              "              style=\"display:none;\">\n",
              "        \n",
              "  <svg xmlns=\"http://www.w3.org/2000/svg\" height=\"24px\"viewBox=\"0 0 24 24\"\n",
              "       width=\"24px\">\n",
              "    <path d=\"M0 0h24v24H0V0z\" fill=\"none\"/>\n",
              "    <path d=\"M18.56 5.44l.94 2.06.94-2.06 2.06-.94-2.06-.94-.94-2.06-.94 2.06-2.06.94zm-11 1L8.5 8.5l.94-2.06 2.06-.94-2.06-.94L8.5 2.5l-.94 2.06-2.06.94zm10 10l.94 2.06.94-2.06 2.06-.94-2.06-.94-.94-2.06-.94 2.06-2.06.94z\"/><path d=\"M17.41 7.96l-1.37-1.37c-.4-.4-.92-.59-1.43-.59-.52 0-1.04.2-1.43.59L10.3 9.45l-7.72 7.72c-.78.78-.78 2.05 0 2.83L4 21.41c.39.39.9.59 1.41.59.51 0 1.02-.2 1.41-.59l7.78-7.78 2.81-2.81c.8-.78.8-2.07 0-2.86zM5.41 20L4 18.59l7.72-7.72 1.47 1.35L5.41 20z\"/>\n",
              "  </svg>\n",
              "      </button>\n",
              "      \n",
              "  <style>\n",
              "    .colab-df-container {\n",
              "      display:flex;\n",
              "      flex-wrap:wrap;\n",
              "      gap: 12px;\n",
              "    }\n",
              "\n",
              "    .colab-df-convert {\n",
              "      background-color: #E8F0FE;\n",
              "      border: none;\n",
              "      border-radius: 50%;\n",
              "      cursor: pointer;\n",
              "      display: none;\n",
              "      fill: #1967D2;\n",
              "      height: 32px;\n",
              "      padding: 0 0 0 0;\n",
              "      width: 32px;\n",
              "    }\n",
              "\n",
              "    .colab-df-convert:hover {\n",
              "      background-color: #E2EBFA;\n",
              "      box-shadow: 0px 1px 2px rgba(60, 64, 67, 0.3), 0px 1px 3px 1px rgba(60, 64, 67, 0.15);\n",
              "      fill: #174EA6;\n",
              "    }\n",
              "\n",
              "    [theme=dark] .colab-df-convert {\n",
              "      background-color: #3B4455;\n",
              "      fill: #D2E3FC;\n",
              "    }\n",
              "\n",
              "    [theme=dark] .colab-df-convert:hover {\n",
              "      background-color: #434B5C;\n",
              "      box-shadow: 0px 1px 3px 1px rgba(0, 0, 0, 0.15);\n",
              "      filter: drop-shadow(0px 1px 2px rgba(0, 0, 0, 0.3));\n",
              "      fill: #FFFFFF;\n",
              "    }\n",
              "  </style>\n",
              "\n",
              "      <script>\n",
              "        const buttonEl =\n",
              "          document.querySelector('#df-ada68c7b-3851-41cd-b466-b9b4a18ce453 button.colab-df-convert');\n",
              "        buttonEl.style.display =\n",
              "          google.colab.kernel.accessAllowed ? 'block' : 'none';\n",
              "\n",
              "        async function convertToInteractive(key) {\n",
              "          const element = document.querySelector('#df-ada68c7b-3851-41cd-b466-b9b4a18ce453');\n",
              "          const dataTable =\n",
              "            await google.colab.kernel.invokeFunction('convertToInteractive',\n",
              "                                                     [key], {});\n",
              "          if (!dataTable) return;\n",
              "\n",
              "          const docLinkHtml = 'Like what you see? Visit the ' +\n",
              "            '<a target=\"_blank\" href=https://colab.research.google.com/notebooks/data_table.ipynb>data table notebook</a>'\n",
              "            + ' to learn more about interactive tables.';\n",
              "          element.innerHTML = '';\n",
              "          dataTable['output_type'] = 'display_data';\n",
              "          await google.colab.output.renderOutput(dataTable, element);\n",
              "          const docLink = document.createElement('div');\n",
              "          docLink.innerHTML = docLinkHtml;\n",
              "          element.appendChild(docLink);\n",
              "        }\n",
              "      </script>\n",
              "    </div>\n",
              "  </div>\n",
              "  "
            ]
          },
          "metadata": {},
          "execution_count": 3
        }
      ],
      "source": [
        "stocks_data"
      ]
    },
    {
      "cell_type": "code",
      "execution_count": null,
      "metadata": {
        "colab": {
          "base_uri": "https://localhost:8080/",
          "height": 313
        },
        "id": "nhm7ZP6sJcnB",
        "outputId": "2863fb53-a3d2-4ec4-e489-d788c3e3f2e3"
      },
      "outputs": [
        {
          "output_type": "execute_result",
          "data": {
            "text/plain": [
              "<matplotlib.axes._subplots.AxesSubplot at 0x7f669dd46150>"
            ]
          },
          "metadata": {},
          "execution_count": 4
        },
        {
          "output_type": "display_data",
          "data": {
            "text/plain": [
              "<Figure size 432x288 with 1 Axes>"
            ],
            "image/png": "[encoded data removed]"
          },
          "metadata": {
            "needs_background": "light"
          }
        }
      ],
      "source": [
        "stocks_data['SPY_lrr'].plot(title='S&P 500 daily log returns')\n"
      ]
    },
    {
      "cell_type": "code",
      "execution_count": null,
      "metadata": {
        "id": "UougfjclJcnB"
      },
      "outputs": [],
      "source": [
        "small_pop = stocks_data['SPY_lrr'].dropna().sample(n=10)\n",
        "big_pop = stocks_data['SPY_lrr'].dropna().sample(n=600)"
      ]
    },
    {
      "cell_type": "code",
      "execution_count": null,
      "metadata": {
        "colab": {
          "base_uri": "https://localhost:8080/"
        },
        "id": "iWMNQ_Q6JcnB",
        "outputId": "d37dd848-b536-4e07-cdc7-c2ede2243cd5"
      },
      "outputs": [
        {
          "output_type": "stream",
          "name": "stdout",
          "text": [
            "small_pop mean: 0.0011390050811150298\n",
            "small_pop standard deviation: 0.010744710356415723\n",
            "big_pop mean: 0.0005914330362759421\n",
            "big_pop standard deviation: 0.014330882759138517\n"
          ]
        }
      ],
      "source": [
        "print('small_pop mean:', np.mean(small_pop))\n",
        "print('small_pop standard deviation:',np.std(small_pop))\n",
        "print('big_pop mean:', np.mean(big_pop))\n",
        "print('big_pop standard deviation:',np.std(big_pop))"
      ]
    },
    {
      "cell_type": "code",
      "execution_count": null,
      "metadata": {
        "id": "YEp4UpFSJcnB"
      },
      "outputs": [],
      "source": [
        "spy_log_return  = stocks_data['SPY_lrr'].dropna()"
      ]
    },
    {
      "cell_type": "code",
      "execution_count": null,
      "metadata": {
        "colab": {
          "base_uri": "https://localhost:8080/"
        },
        "id": "qyG2V5UiJcnB",
        "outputId": "0c1cdb94-fa55-42c7-a7d6-6587b0fcc6eb"
      },
      "outputs": [
        {
          "output_type": "stream",
          "name": "stdout",
          "text": [
            "10 days 95% confidence inverval: (-0.003663232590257857, 0.007797414777982837)\n",
            "600 days 95% confidence inverval: (-0.0003711872073257534, 0.0020880825781114994)\n"
          ]
        }
      ],
      "source": [
        "bottom_1 = np.mean(spy_log_return.tail(10))-1.96*np.std(spy_log_return.tail(10))/(np.sqrt(len((spy_log_return.tail(10)))))\n",
        "upper_1 = np.mean(spy_log_return.tail(10))+1.96*np.std(spy_log_return.tail(10))/(np.sqrt(len((spy_log_return.tail(10)))))\n",
        "bottom_2 = np.mean(spy_log_return.tail(600))-1.96*np.std(spy_log_return.tail(600))/(np.sqrt(len((spy_log_return.tail(600)))))\n",
        "upper_2 = np.mean(spy_log_return.tail(600))+1.96*np.std(spy_log_return.tail(600))/(np.sqrt(len((spy_log_return.tail(600)))))\n",
        "#print the outcomes\n",
        "print('10 days 95% confidence inverval:', (bottom_1,upper_1))\n",
        "print('600 days 95% confidence inverval:', (bottom_2,upper_2))"
      ]
    },
    {
      "cell_type": "markdown",
      "metadata": {
        "id": "YtLRgnzAJcnC"
      },
      "source": [
        "# Проверка гипотезы о среднем\n",
        "Мы посмотрели на график log daily returns и предположили, что среднее для всег SPY –  0"
      ]
    },
    {
      "cell_type": "markdown",
      "metadata": {
        "id": "RQkdCKj5JcnD"
      },
      "source": [
        "Cначала давайте проверим через доверительные интервалы "
      ]
    },
    {
      "cell_type": "code",
      "execution_count": null,
      "metadata": {
        "colab": {
          "base_uri": "https://localhost:8080/"
        },
        "id": "1Nrd-jxjJcnD",
        "outputId": "43b23c1e-7570-469b-f8ea-bbf41e0d29d1"
      },
      "outputs": [
        {
          "output_type": "stream",
          "name": "stdout",
          "text": [
            "mean_10     0.002067\n",
            "std_10      0.009245\n",
            "mean_600    0.000858\n",
            "std_600     0.015367\n",
            "dtype: float64\n"
          ]
        }
      ],
      "source": [
        "mean_600 = np.mean(spy_log_return.tail(600))\n",
        "std_600 = np.std(spy_log_return.tail(600))\n",
        "mean_10 = np.mean(spy_log_return.tail(10))\n",
        "std_10 = np.std(spy_log_return.tail(10))\n",
        "s = pd.Series([mean_10,std_10,mean_600,std_600],index = ['mean_10', 'std_10','mean_600','std_600'])\n",
        "print(s)"
      ]
    },
    {
      "cell_type": "markdown",
      "metadata": {
        "id": "rXHDSBftJcnD"
      },
      "source": [
        "Видим, что наше выборочное среднее попало в 90% доверительный интервал"
      ]
    },
    {
      "cell_type": "code",
      "execution_count": null,
      "metadata": {
        "colab": {
          "base_uri": "https://localhost:8080/"
        },
        "id": "xGmWr6n3JcnD",
        "outputId": "f0186b4c-b52d-4f41-a2a7-2d670323dd27"
      },
      "outputs": [
        {
          "output_type": "stream",
          "name": "stdout",
          "text": [
            "(-0.0010288781755400753, 0.0010288781755400753)\n"
          ]
        }
      ],
      "source": [
        "bottom = 0 - 1.64*std_600/np.sqrt(600)\n",
        "upper = 0 + 1.64*std_600/np.sqrt(600)\n",
        "print((bottom, upper))"
      ]
    },
    {
      "cell_type": "code",
      "execution_count": null,
      "metadata": {
        "colab": {
          "base_uri": "https://localhost:8080/"
        },
        "id": "nF_J7s5fJcnD",
        "outputId": "19ac81e7-0c9f-4ffe-96c5-b3094fa8183b"
      },
      "outputs": [
        {
          "output_type": "stream",
          "name": "stdout",
          "text": [
            "(-0.0012296348927186265, 0.0012296348927186265)\n"
          ]
        }
      ],
      "source": [
        "bottom = 0 - 1.96*std_600/np.sqrt(600)\n",
        "upper = 0 + 1.96*std_600/np.sqrt(600)\n",
        "print((bottom, upper))"
      ]
    },
    {
      "cell_type": "markdown",
      "metadata": {
        "id": "tOtlv0b7JcnE"
      },
      "source": [
        "Но попало в 95%"
      ]
    },
    {
      "cell_type": "markdown",
      "metadata": {
        "id": "L48fy5nRJcnE"
      },
      "source": [
        "Теперь давайте проведём Z-test\n",
        "$$\n",
        "H_0: \\mu = 0 \\\\\n",
        "H_1: \\mu \\neq 0\n",
        "$$"
      ]
    },
    {
      "cell_type": "code",
      "execution_count": null,
      "metadata": {
        "id": "_JjfooWcJcnE"
      },
      "outputs": [],
      "source": [
        "z_crit = (np.sqrt(600)*(mean_600 - 0)/std_600)\n"
      ]
    },
    {
      "cell_type": "code",
      "execution_count": null,
      "metadata": {
        "colab": {
          "base_uri": "https://localhost:8080/"
        },
        "id": "B64RpoKDJcnE",
        "outputId": "15ca6b2b-b751-4a5e-e9f5-d6c1bd968f24"
      },
      "outputs": [
        {
          "output_type": "stream",
          "name": "stdout",
          "text": [
            "0.08560298359554741\n"
          ]
        }
      ],
      "source": [
        "import scipy.stats as st\n",
        "print((1 - st.norm.cdf(z_crit)))"
      ]
    },
    {
      "cell_type": "markdown",
      "metadata": {
        "id": "T-aB_rxDJcnE"
      },
      "source": [
        "При среднем размере выборки нулевая гипотеза принимается"
      ]
    },
    {
      "cell_type": "code",
      "execution_count": null,
      "metadata": {
        "colab": {
          "base_uri": "https://localhost:8080/"
        },
        "id": "Z79LZXjgJcnE",
        "outputId": "d689fa1c-2c93-4401-85b1-8346a890cf7f"
      },
      "outputs": [
        {
          "output_type": "stream",
          "name": "stdout",
          "text": [
            "z-score =  1.6396762988672497\n",
            "p_value =  0.05053624473191887\n"
          ]
        }
      ],
      "source": [
        "mean_all = np.mean(spy_log_return)\n",
        "std_all = np.std(spy_log_return)\n",
        "z_score = np.sqrt(len(spy_log_return))*(mean_all - 0)/std_all\n",
        "print('z-score = ',z_score)\n",
        "p_value = (1 - st.norm.cdf(z_score))\n",
        "print('p_value = ',p_value)"
      ]
    },
    {
      "cell_type": "markdown",
      "metadata": {
        "id": "jV_v4mvQJcnF"
      },
      "source": [
        "При большем объёме выборки видим, что нулевая гипотеза cнова принимается на уровне значимости 0.95 и даже 0.9"
      ]
    },
    {
      "cell_type": "markdown",
      "metadata": {
        "id": "pQL5n_woJcnF"
      },
      "source": [
        "Все рассмотренные тесты так же есть и в модуле statsmodels.stats"
      ]
    },
    {
      "cell_type": "code",
      "execution_count": null,
      "metadata": {
        "colab": {
          "base_uri": "https://localhost:8080/"
        },
        "id": "YOuehMviJcnF",
        "outputId": "d41af064-8dbb-4674-f8fb-7f3a50a3ada1"
      },
      "outputs": [
        {
          "output_type": "stream",
          "name": "stdout",
          "text": [
            "0.10129836417233666\n",
            "mean is 0\n"
          ]
        }
      ],
      "source": [
        "from statsmodels.stats import weightstats as stests\n",
        "ztest ,pval = stests.ztest(spy_log_return, value=0, alternative='two-sided')\n",
        "print(pval)\n",
        "if pval<0.025:\n",
        "    print(\"mean is not 0\")\n",
        "else:\n",
        "    print(\"mean is 0\")"
      ]
    },
    {
      "cell_type": "markdown",
      "metadata": {
        "id": "OG2f9G2qJcnF"
      },
      "source": [
        "## Некоторые другие тесты для"
      ]
    },
    {
      "cell_type": "code",
      "execution_count": null,
      "metadata": {
        "colab": {
          "base_uri": "https://localhost:8080/",
          "height": 501
        },
        "id": "f09ffKl4JcnF",
        "outputId": "89a5b052-2e9e-44f8-cdab-f53a1b5996db"
      },
      "outputs": [
        {
          "output_type": "execute_result",
          "data": {
            "text/plain": [
              "<matplotlib.axes._subplots.AxesSubplot at 0x7f6691dcfad0>"
            ]
          },
          "metadata": {},
          "execution_count": 16
        },
        {
          "output_type": "display_data",
          "data": {
            "text/plain": [
              "<Figure size 864x576 with 1 Axes>"
            ],
            "image/png": "[encoded data removed]"
          },
          "metadata": {
            "needs_background": "light"
          }
        }
      ],
      "source": [
        "spy_log_return.hist(bins=50, figsize=(12,8))"
      ]
    },
    {
      "cell_type": "code",
      "execution_count": null,
      "metadata": {
        "colab": {
          "base_uri": "https://localhost:8080/"
        },
        "id": "PT_NRmp5JcnF",
        "outputId": "7d677edf-c233-435f-87ab-65f50434091f"
      },
      "outputs": [
        {
          "output_type": "stream",
          "name": "stdout",
          "text": [
            "stat=0.792, p=0.000\n",
            "Probably not Gaussian\n"
          ]
        }
      ],
      "source": [
        "# Example of the Shapiro-Wilk Normality Test\n",
        "from scipy.stats import shapiro\n",
        "stat, p = shapiro(spy_log_return)\n",
        "print('stat=%.3f, p=%.3f' % (stat, p))\n",
        "if p > 0.05:\n",
        "\tprint('Probably Gaussian')\n",
        "else:\n",
        "\tprint('Probably not Gaussian')"
      ]
    },
    {
      "cell_type": "code",
      "execution_count": null,
      "metadata": {
        "colab": {
          "base_uri": "https://localhost:8080/",
          "height": 455
        },
        "id": "nLqpFAM7JcnG",
        "outputId": "05b758bc-12fe-4a9d-c838-7f14b886e30c"
      },
      "outputs": [
        {
          "output_type": "execute_result",
          "data": {
            "text/plain": [
              "          CHFUSD_lrr  GOLD_lrr  EURUSD_lrr  BRENT_lrr   GAS_lrr    PL_lrr  \\\n",
              "<DATE>                                                                      \n",
              "03/01/19    0.002473  0.004094    0.004652   0.015786  0.004803  0.009322   \n",
              "04/01/19    0.001284 -0.008516    0.000377   0.033109  0.037284  0.022267   \n",
              "07/01/19    0.006982 -0.006752    0.006802  -0.003641  0.010373 -0.009521   \n",
              "08/01/19   -0.001765 -0.000545   -0.003194   0.017562 -0.001666  0.000968   \n",
              "09/01/19    0.008212  0.010618    0.009907   0.045868 -0.003675  0.005189   \n",
              "...              ...       ...         ...        ...       ...       ...   \n",
              "27/12/21    0.001928  0.002761    0.000574   0.032578  0.029549 -0.001651   \n",
              "28/12/21    0.000028 -0.003315   -0.001457   0.002541 -0.001224  0.009456   \n",
              "29/12/21    0.003553 -0.001107    0.004049   0.004810 -0.054108 -0.009973   \n",
              "30/12/21    0.000000  0.006295   -0.003280  -0.000758 -0.069325 -0.004245   \n",
              "31/12/21    0.001826  0.007623    0.003932  -0.015279  0.041265  0.002177   \n",
              "\n",
              "          RUBUSD_lrr   SPY_lrr  \n",
              "<DATE>                          \n",
              "03/01/19    0.003656 -0.025068  \n",
              "04/01/19    0.013339  0.033759  \n",
              "07/01/19    0.015553  0.006986  \n",
              "08/01/19   -0.004553  0.009649  \n",
              "09/01/19    0.002413  0.004090  \n",
              "...              ...       ...  \n",
              "27/12/21   -0.000736  0.013744  \n",
              "28/12/21   -0.003687 -0.001011  \n",
              "29/12/21   -0.004888  0.001401  \n",
              "30/12/21   -0.007602 -0.002994  \n",
              "31/12/21   -0.006530 -0.002630  \n",
              "\n",
              "[756 rows x 8 columns]"
            ],
            "text/html": [
              "\n",
              "  <div id=\"df-680b135d-2c86-4df4-a773-abd74670359b\">\n",
              "    <div class=\"colab-df-container\">\n",
              "      <div>\n",
              "<style scoped>\n",
              "    .dataframe tbody tr th:only-of-type {\n",
              "        vertical-align: middle;\n",
              "    }\n",
              "\n",
              "    .dataframe tbody tr th {\n",
              "        vertical-align: top;\n",
              "    }\n",
              "\n",
              "    .dataframe thead th {\n",
              "        text-align: right;\n",
              "    }\n",
              "</style>\n",
              "<table border=\"1\" class=\"dataframe\">\n",
              "  <thead>\n",
              "    <tr style=\"text-align: right;\">\n",
              "      <th></th>\n",
              "      <th>CHFUSD_lrr</th>\n",
              "      <th>GOLD_lrr</th>\n",
              "      <th>EURUSD_lrr</th>\n",
              "      <th>BRENT_lrr</th>\n",
              "      <th>GAS_lrr</th>\n",
              "      <th>PL_lrr</th>\n",
              "      <th>RUBUSD_lrr</th>\n",
              "      <th>SPY_lrr</th>\n",
              "    </tr>\n",
              "    <tr>\n",
              "      <th>&lt;DATE&gt;</th>\n",
              "      <th></th>\n",
              "      <th></th>\n",
              "      <th></th>\n",
              "      <th></th>\n",
              "      <th></th>\n",
              "      <th></th>\n",
              "      <th></th>\n",
              "      <th></th>\n",
              "    </tr>\n",
              "  </thead>\n",
              "  <tbody>\n",
              "    <tr>\n",
              "      <th>03/01/19</th>\n",
              "      <td>0.002473</td>\n",
              "      <td>0.004094</td>\n",
              "      <td>0.004652</td>\n",
              "      <td>0.015786</td>\n",
              "      <td>0.004803</td>\n",
              "      <td>0.009322</td>\n",
              "      <td>0.003656</td>\n",
              "      <td>-0.025068</td>\n",
              "    </tr>\n",
              "    <tr>\n",
              "      <th>04/01/19</th>\n",
              "      <td>0.001284</td>\n",
              "      <td>-0.008516</td>\n",
              "      <td>0.000377</td>\n",
              "      <td>0.033109</td>\n",
              "      <td>0.037284</td>\n",
              "      <td>0.022267</td>\n",
              "      <td>0.013339</td>\n",
              "      <td>0.033759</td>\n",
              "    </tr>\n",
              "    <tr>\n",
              "      <th>07/01/19</th>\n",
              "      <td>0.006982</td>\n",
              "      <td>-0.006752</td>\n",
              "      <td>0.006802</td>\n",
              "      <td>-0.003641</td>\n",
              "      <td>0.010373</td>\n",
              "      <td>-0.009521</td>\n",
              "      <td>0.015553</td>\n",
              "      <td>0.006986</td>\n",
              "    </tr>\n",
              "    <tr>\n",
              "      <th>08/01/19</th>\n",
              "      <td>-0.001765</td>\n",
              "      <td>-0.000545</td>\n",
              "      <td>-0.003194</td>\n",
              "      <td>0.017562</td>\n",
              "      <td>-0.001666</td>\n",
              "      <td>0.000968</td>\n",
              "      <td>-0.004553</td>\n",
              "      <td>0.009649</td>\n",
              "    </tr>\n",
              "    <tr>\n",
              "      <th>09/01/19</th>\n",
              "      <td>0.008212</td>\n",
              "      <td>0.010618</td>\n",
              "      <td>0.009907</td>\n",
              "      <td>0.045868</td>\n",
              "      <td>-0.003675</td>\n",
              "      <td>0.005189</td>\n",
              "      <td>0.002413</td>\n",
              "      <td>0.004090</td>\n",
              "    </tr>\n",
              "    <tr>\n",
              "      <th>...</th>\n",
              "      <td>...</td>\n",
              "      <td>...</td>\n",
              "      <td>...</td>\n",
              "      <td>...</td>\n",
              "      <td>...</td>\n",
              "      <td>...</td>\n",
              "      <td>...</td>\n",
              "      <td>...</td>\n",
              "    </tr>\n",
              "    <tr>\n",
              "      <th>27/12/21</th>\n",
              "      <td>0.001928</td>\n",
              "      <td>0.002761</td>\n",
              "      <td>0.000574</td>\n",
              "      <td>0.032578</td>\n",
              "      <td>0.029549</td>\n",
              "      <td>-0.001651</td>\n",
              "      <td>-0.000736</td>\n",
              "      <td>0.013744</td>\n",
              "    </tr>\n",
              "    <tr>\n",
              "      <th>28/12/21</th>\n",
              "      <td>0.000028</td>\n",
              "      <td>-0.003315</td>\n",
              "      <td>-0.001457</td>\n",
              "      <td>0.002541</td>\n",
              "      <td>-0.001224</td>\n",
              "      <td>0.009456</td>\n",
              "      <td>-0.003687</td>\n",
              "      <td>-0.001011</td>\n",
              "    </tr>\n",
              "    <tr>\n",
              "      <th>29/12/21</th>\n",
              "      <td>0.003553</td>\n",
              "      <td>-0.001107</td>\n",
              "      <td>0.004049</td>\n",
              "      <td>0.004810</td>\n",
              "      <td>-0.054108</td>\n",
              "      <td>-0.009973</td>\n",
              "      <td>-0.004888</td>\n",
              "      <td>0.001401</td>\n",
              "    </tr>\n",
              "    <tr>\n",
              "      <th>30/12/21</th>\n",
              "      <td>0.000000</td>\n",
              "      <td>0.006295</td>\n",
              "      <td>-0.003280</td>\n",
              "      <td>-0.000758</td>\n",
              "      <td>-0.069325</td>\n",
              "      <td>-0.004245</td>\n",
              "      <td>-0.007602</td>\n",
              "      <td>-0.002994</td>\n",
              "    </tr>\n",
              "    <tr>\n",
              "      <th>31/12/21</th>\n",
              "      <td>0.001826</td>\n",
              "      <td>0.007623</td>\n",
              "      <td>0.003932</td>\n",
              "      <td>-0.015279</td>\n",
              "      <td>0.041265</td>\n",
              "      <td>0.002177</td>\n",
              "      <td>-0.006530</td>\n",
              "      <td>-0.002630</td>\n",
              "    </tr>\n",
              "  </tbody>\n",
              "</table>\n",
              "<p>756 rows × 8 columns</p>\n",
              "</div>\n",
              "      <button class=\"colab-df-convert\" onclick=\"convertToInteractive('df-680b135d-2c86-4df4-a773-abd74670359b')\"\n",
              "              title=\"Convert this dataframe to an interactive table.\"\n",
              "              style=\"display:none;\">\n",
              "        \n",
              "  <svg xmlns=\"http://www.w3.org/2000/svg\" height=\"24px\"viewBox=\"0 0 24 24\"\n",
              "       width=\"24px\">\n",
              "    <path d=\"M0 0h24v24H0V0z\" fill=\"none\"/>\n",
              "    <path d=\"M18.56 5.44l.94 2.06.94-2.06 2.06-.94-2.06-.94-.94-2.06-.94 2.06-2.06.94zm-11 1L8.5 8.5l.94-2.06 2.06-.94-2.06-.94L8.5 2.5l-.94 2.06-2.06.94zm10 10l.94 2.06.94-2.06 2.06-.94-2.06-.94-.94-2.06-.94 2.06-2.06.94z\"/><path d=\"M17.41 7.96l-1.37-1.37c-.4-.4-.92-.59-1.43-.59-.52 0-1.04.2-1.43.59L10.3 9.45l-7.72 7.72c-.78.78-.78 2.05 0 2.83L4 21.41c.39.39.9.59 1.41.59.51 0 1.02-.2 1.41-.59l7.78-7.78 2.81-2.81c.8-.78.8-2.07 0-2.86zM5.41 20L4 18.59l7.72-7.72 1.47 1.35L5.41 20z\"/>\n",
              "  </svg>\n",
              "      </button>\n",
              "      \n",
              "  <style>\n",
              "    .colab-df-container {\n",
              "      display:flex;\n",
              "      flex-wrap:wrap;\n",
              "      gap: 12px;\n",
              "    }\n",
              "\n",
              "    .colab-df-convert {\n",
              "      background-color: #E8F0FE;\n",
              "      border: none;\n",
              "      border-radius: 50%;\n",
              "      cursor: pointer;\n",
              "      display: none;\n",
              "      fill: #1967D2;\n",
              "      height: 32px;\n",
              "      padding: 0 0 0 0;\n",
              "      width: 32px;\n",
              "    }\n",
              "\n",
              "    .colab-df-convert:hover {\n",
              "      background-color: #E2EBFA;\n",
              "      box-shadow: 0px 1px 2px rgba(60, 64, 67, 0.3), 0px 1px 3px 1px rgba(60, 64, 67, 0.15);\n",
              "      fill: #174EA6;\n",
              "    }\n",
              "\n",
              "    [theme=dark] .colab-df-convert {\n",
              "      background-color: #3B4455;\n",
              "      fill: #D2E3FC;\n",
              "    }\n",
              "\n",
              "    [theme=dark] .colab-df-convert:hover {\n",
              "      background-color: #434B5C;\n",
              "      box-shadow: 0px 1px 3px 1px rgba(0, 0, 0, 0.15);\n",
              "      filter: drop-shadow(0px 1px 2px rgba(0, 0, 0, 0.3));\n",
              "      fill: #FFFFFF;\n",
              "    }\n",
              "  </style>\n",
              "\n",
              "      <script>\n",
              "        const buttonEl =\n",
              "          document.querySelector('#df-680b135d-2c86-4df4-a773-abd74670359b button.colab-df-convert');\n",
              "        buttonEl.style.display =\n",
              "          google.colab.kernel.accessAllowed ? 'block' : 'none';\n",
              "\n",
              "        async function convertToInteractive(key) {\n",
              "          const element = document.querySelector('#df-680b135d-2c86-4df4-a773-abd74670359b');\n",
              "          const dataTable =\n",
              "            await google.colab.kernel.invokeFunction('convertToInteractive',\n",
              "                                                     [key], {});\n",
              "          if (!dataTable) return;\n",
              "\n",
              "          const docLinkHtml = 'Like what you see? Visit the ' +\n",
              "            '<a target=\"_blank\" href=https://colab.research.google.com/notebooks/data_table.ipynb>data table notebook</a>'\n",
              "            + ' to learn more about interactive tables.';\n",
              "          element.innerHTML = '';\n",
              "          dataTable['output_type'] = 'display_data';\n",
              "          await google.colab.output.renderOutput(dataTable, element);\n",
              "          const docLink = document.createElement('div');\n",
              "          docLink.innerHTML = docLinkHtml;\n",
              "          element.appendChild(docLink);\n",
              "        }\n",
              "      </script>\n",
              "    </div>\n",
              "  </div>\n",
              "  "
            ]
          },
          "metadata": {},
          "execution_count": 18
        }
      ],
      "source": [
        "stocks_data"
      ]
    },
    {
      "cell_type": "code",
      "execution_count": null,
      "metadata": {
        "colab": {
          "base_uri": "https://localhost:8080/"
        },
        "id": "7dRKicy-JcnG",
        "outputId": "52128db0-fc9a-41a0-b8f7-aa00f75aa287"
      },
      "outputs": [
        {
          "output_type": "stream",
          "name": "stdout",
          "text": [
            "p-value for significance is:  0.8688157804263602\n",
            "accept null hypothesis\n"
          ]
        }
      ],
      "source": [
        "# Anova Test\n",
        "from scipy import stats\n",
        "from statsmodels.stats import weightstats as stests\n",
        "F, p = stats.f_oneway(stocks_data['SPY_lrr'],stocks_data['GOLD_lrr'], stocks_data['GAS_lrr'])\n",
        "print(\"p-value for significance is: \", p)\n",
        "if p<0.05:\n",
        "    print(\"reject null hypothesis\")\n",
        "else:\n",
        "    print(\"accept null hypothesis\")"
      ]
    },
    {
      "cell_type": "markdown",
      "metadata": {
        "id": "VlqMIUXOJcnG"
      },
      "source": [
        "# Correlation test"
      ]
    },
    {
      "cell_type": "code",
      "execution_count": null,
      "metadata": {
        "colab": {
          "base_uri": "https://localhost:8080/",
          "height": 531
        },
        "id": "IYM0t4-7JcnG",
        "outputId": "e2272429-0c5f-4cd6-a29a-95b9beb27cf1"
      },
      "outputs": [
        {
          "output_type": "execute_result",
          "data": {
            "text/plain": [
              "<matplotlib.axes._subplots.AxesSubplot at 0x7f6691ce9c90>"
            ]
          },
          "metadata": {},
          "execution_count": 20
        },
        {
          "output_type": "display_data",
          "data": {
            "text/plain": [
              "<Figure size 864x576 with 1 Axes>"
            ],
            "image/png": "[encoded data removed]"
          },
          "metadata": {
            "needs_background": "light"
          }
        }
      ],
      "source": [
        "stocks_data['SPY_lrr'].plot(title='S&P 500 daily log returns', legend=True, figsize=(12,8))\n",
        "stocks_data['GOLD_lrr'].plot(title='Gold daily log returns', legend=True, figsize=(12,8))"
      ]
    },
    {
      "cell_type": "code",
      "execution_count": null,
      "metadata": {
        "colab": {
          "base_uri": "https://localhost:8080/"
        },
        "id": "NMuo10OTJcnG",
        "outputId": "a2414fe1-4ab6-4410-b42a-4ec7f91f18ed"
      },
      "outputs": [
        {
          "output_type": "stream",
          "name": "stdout",
          "text": [
            "p-value for significance is:  3.314217905408008e-05\n",
            "correlation is:  0.15035033069076756\n"
          ]
        }
      ],
      "source": [
        "from scipy.stats.stats import pearsonr\n",
        "corr, p = pearsonr(stocks_data['SPY_lrr'],stocks_data['GOLD_lrr'])\n",
        "print(\"p-value for significance is: \", p)\n",
        "print(\"correlation is: \", corr)\n"
      ]
    },
    {
      "cell_type": "markdown",
      "metadata": {
        "id": "kHXn07jnJcnG"
      },
      "source": [
        "## Проверка связи двух категориальных признаков"
      ]
    },
    {
      "cell_type": "code",
      "execution_count": null,
      "metadata": {
        "id": "PnfL5jVIJcnG"
      },
      "outputs": [],
      "source": [
        "df = pd.DataFrame({'Order': [1, 2, 3, 4, 5, 6, 7, 8, 9, 10,\n",
        "                            11, 12, 13, 14, 15, 16, 17, 18, 19, 20],\n",
        "                   'Product': ['TV', 'TV', 'Comp', 'TV', 'TV', 'Comp',\n",
        "                               'Comp', 'Comp', 'TV', 'Radio', 'TV', 'Radio', 'Radio',\n",
        "                               'Radio', 'Comp', 'Comp', 'TV', 'TV', 'Radio', 'TV'],\n",
        "                   'Country': ['A', 'A', 'A', 'A', 'B', 'B', 'B', 'B', 'B', 'B', 'B',\n",
        "                               'B', 'C', 'C', 'C', 'C', 'C', 'C', 'C', 'C']})"
      ]
    },
    {
      "cell_type": "code",
      "execution_count": null,
      "metadata": {
        "colab": {
          "base_uri": "https://localhost:8080/"
        },
        "id": "8M95S6lUJcnG",
        "outputId": "c80b6073-5224-4415-fc5f-aff379daf4fd"
      },
      "outputs": [
        {
          "output_type": "stream",
          "name": "stdout",
          "text": [
            "stat=2.750, p=0.600\n",
            "Probably independent\n"
          ]
        }
      ],
      "source": [
        "from scipy.stats import chi2_contingency\n",
        "\n",
        "table = pd.crosstab(index=df['Country'], columns=df['Product'])\n",
        "stat, p, dof, expected = chi2_contingency(table)\n",
        "print('stat=%.3f, p=%.3f' % (stat, p))\n",
        "if p > 0.05:\n",
        "\tprint('Probably independent')\n",
        "else:\n",
        "\tprint('Probably dependent')"
      ]
    },
    {
      "cell_type": "markdown",
      "metadata": {
        "id": "ggyg33EBJcnH"
      },
      "source": [
        "# Теперь давайте сами"
      ]
    },
    {
      "cell_type": "code",
      "source": [
        "!pip install --upgrade pandas\n",
        "!pip install --upgrade pandas-datareader"
      ],
      "metadata": {
        "colab": {
          "base_uri": "https://localhost:8080/",
          "height": 617
        },
        "id": "heKqlDn3N1F1",
        "outputId": "458f1430-6f40-4a24-c49c-cc448e464fed"
      },
      "execution_count": 8,
      "outputs": [
        {
          "output_type": "stream",
          "name": "stdout",
          "text": [
            "Looking in indexes: https://pypi.org/simple, https://us-python.pkg.dev/colab-wheels/public/simple/\n",
            "Requirement already satisfied: pandas in /usr/local/lib/python3.7/dist-packages (1.3.5)\n",
            "Requirement already satisfied: python-dateutil>=2.7.3 in /usr/local/lib/python3.7/dist-packages (from pandas) (2.8.2)\n",
            "Requirement already satisfied: numpy>=1.17.3 in /usr/local/lib/python3.7/dist-packages (from pandas) (1.21.6)\n",
            "Requirement already satisfied: pytz>=2017.3 in /usr/local/lib/python3.7/dist-packages (from pandas) (2022.5)\n",
            "Requirement already satisfied: six>=1.5 in /usr/local/lib/python3.7/dist-packages (from python-dateutil>=2.7.3->pandas) (1.15.0)\n",
            "Looking in indexes: https://pypi.org/simple, https://us-python.pkg.dev/colab-wheels/public/simple/\n",
            "Requirement already satisfied: pandas-datareader in /usr/local/lib/python3.7/dist-packages (0.9.0)\n",
            "Collecting pandas-datareader\n",
            "  Downloading pandas_datareader-0.10.0-py3-none-any.whl (109 kB)\n",
            "\u001b[K     |████████████████████████████████| 109 kB 8.9 MB/s \n",
            "\u001b[?25hRequirement already satisfied: lxml in /usr/local/lib/python3.7/dist-packages (from pandas-datareader) (4.9.1)\n",
            "Requirement already satisfied: pandas>=0.23 in /usr/local/lib/python3.7/dist-packages (from pandas-datareader) (1.3.5)\n",
            "Requirement already satisfied: requests>=2.19.0 in /usr/local/lib/python3.7/dist-packages (from pandas-datareader) (2.23.0)\n",
            "Requirement already satisfied: python-dateutil>=2.7.3 in /usr/local/lib/python3.7/dist-packages (from pandas>=0.23->pandas-datareader) (2.8.2)\n",
            "Requirement already satisfied: numpy>=1.17.3 in /usr/local/lib/python3.7/dist-packages (from pandas>=0.23->pandas-datareader) (1.21.6)\n",
            "Requirement already satisfied: pytz>=2017.3 in /usr/local/lib/python3.7/dist-packages (from pandas>=0.23->pandas-datareader) (2022.5)\n",
            "Requirement already satisfied: six>=1.5 in /usr/local/lib/python3.7/dist-packages (from python-dateutil>=2.7.3->pandas>=0.23->pandas-datareader) (1.15.0)\n",
            "Requirement already satisfied: chardet<4,>=3.0.2 in /usr/local/lib/python3.7/dist-packages (from requests>=2.19.0->pandas-datareader) (3.0.4)\n",
            "Requirement already satisfied: idna<3,>=2.5 in /usr/local/lib/python3.7/dist-packages (from requests>=2.19.0->pandas-datareader) (2.10)\n",
            "Requirement already satisfied: certifi>=2017.4.17 in /usr/local/lib/python3.7/dist-packages (from requests>=2.19.0->pandas-datareader) (2022.9.24)\n",
            "Requirement already satisfied: urllib3!=1.25.0,!=1.25.1,<1.26,>=1.21.1 in /usr/local/lib/python3.7/dist-packages (from requests>=2.19.0->pandas-datareader) (1.24.3)\n",
            "Installing collected packages: pandas-datareader\n",
            "  Attempting uninstall: pandas-datareader\n",
            "    Found existing installation: pandas-datareader 0.9.0\n",
            "    Uninstalling pandas-datareader-0.9.0:\n",
            "      Successfully uninstalled pandas-datareader-0.9.0\n",
            "Successfully installed pandas-datareader-0.10.0\n"
          ]
        },
        {
          "output_type": "display_data",
          "data": {
            "application/vnd.colab-display-data+json": {
              "pip_warning": {
                "packages": [
                  "pandas_datareader"
                ]
              }
            }
          },
          "metadata": {}
        }
      ]
    },
    {
      "cell_type": "code",
      "source": [
        "import pandas as pd\n",
        "import pandas_datareader.data as web\n",
        "import numpy as np\n",
        "import datetime"
      ],
      "metadata": {
        "id": "WI5Y-1jcPSje"
      },
      "execution_count": 1,
      "outputs": []
    },
    {
      "cell_type": "code",
      "execution_count": 2,
      "metadata": {
        "id": "NFdNWOrcJcnH"
      },
      "outputs": [],
      "source": [
        "aapl_stock_price_data = web.DataReader('AAPL', 'yahoo', '2014-09-17', '2022-08-06')"
      ]
    },
    {
      "cell_type": "code",
      "execution_count": 3,
      "metadata": {
        "id": "n8rJkEp3JcnH"
      },
      "outputs": [],
      "source": [
        "btc_price_data = web.DataReader('BTC-USD', 'yahoo', '2010-01-01', '2022-08-06')"
      ]
    },
    {
      "cell_type": "code",
      "execution_count": 4,
      "metadata": {
        "colab": {
          "base_uri": "https://localhost:8080/",
          "height": 483
        },
        "id": "eAK9nL0YJcnH",
        "outputId": "5b468a2b-9f68-4c21-b1d2-0601ab69c4ce"
      },
      "outputs": [
        {
          "output_type": "display_data",
          "data": {
            "text/plain": [
              "<Figure size 864x576 with 2 Axes>"
            ],
            "image/png": "[encoded data removed]"
          },
          "metadata": {
            "needs_background": "light"
          }
        }
      ],
      "source": [
        "import matplotlib.pyplot as plt\n",
        "\n",
        "fig, ax = plt.subplots(figsize=(12,8))\n",
        "\n",
        "# Plot linear sequence, and set tick labels to the same color\n",
        "ax.plot(aapl_stock_price_data['Adj Close'], color='red')\n",
        "ax.tick_params(axis='y', labelcolor='red')\n",
        "\n",
        "# Generate a new Axes instance, on the twin-X axes (same position)\n",
        "ax2 = ax.twinx()\n",
        "\n",
        "# Plot exponential sequence, set scale to logarithmic and change tick color\n",
        "ax2.plot(btc_price_data['Adj Close'], color='green')\n",
        "ax2.tick_params(axis='y', labelcolor='green')\n",
        "\n",
        "plt.show()"
      ]
    },
    {
      "cell_type": "code",
      "execution_count": null,
      "metadata": {
        "id": "e9Y-DwZcJcnH"
      },
      "outputs": [],
      "source": [
        "# на основе Adj Close извлеките логарифмическую доходность task1, ответ – мю и сигма\n",
        "# проверьте распределение получившихся данных task2, ответ yes/no \n",
        "# возмонжо попробуйте их нормализовать task3, ответ – mu и sigma\n",
        "# попробуйте предположить по подвыборке размером 634 дней среднее значение для обоих доходностей на уровне 90 95 99 – task 4, ответ – val + [a;b]\n",
        "# проверьте корреляцию доходностей – task5, ответ – yes/no"
      ]
    },
    {
      "cell_type": "code",
      "source": [
        "# task1\n",
        "\n",
        "#Логарифмическая доходность для aapl_stock_price_data\n",
        "aapl_stock_price_data[\"logret\"] = np.log(aapl_stock_price_data['Adj Close']) - np.log(aapl_stock_price_data['Adj Close'].shift(1))\n",
        "aapl_stock_price_data_logret = aapl_stock_price_data[\"logret\"].dropna()\n",
        "\n",
        "#Логарифмическая доходность для btc_price_data\n",
        "btc_price_data[\"logret\"] = np.log(btc_price_data['Adj Close']) - np.log(btc_price_data['Adj Close'].shift(1))\n",
        "btc_price_data_logret = btc_price_data[\"logret\"].dropna()\n",
        "\n",
        "task1_aapl_stock_price_data_mu = np.mean(aapl_stock_price_data_logret)\n",
        "task1_aapl_stock_price_data_sigma = np.std(aapl_stock_price_data_logret)\n",
        "print(\"Мю для логарифмической доходности aapl_stock_price_data: \", task1_aapl_stock_price_data_mu)\n",
        "print(\"Сигма для логарифмической доходности aapl_stock_price_data: \", task1_aapl_stock_price_data_sigma)\n",
        "\n",
        "task1_btc_price_data_mu = np.mean(btc_price_data_logret)\n",
        "task1_btc_price_data_sigma = np.std(btc_price_data_logret)\n",
        "print(\"Мю для логарифмической доходности btc_price_data: \", task1_btc_price_data_mu)\n",
        "print(\"Сигма для логарифмической доходности btc_price_data: \", task1_btc_price_data_sigma)"
      ],
      "metadata": {
        "id": "rRj62a08TDXZ",
        "colab": {
          "base_uri": "https://localhost:8080/"
        },
        "outputId": "f2c61d1b-983f-400a-d25a-095d0f9832cf"
      },
      "execution_count": 5,
      "outputs": [
        {
          "output_type": "stream",
          "name": "stdout",
          "text": [
            "Мю для логарифмической доходности aapl_stock_price_data:  0.0009981768816810946\n",
            "Сигма для логарифмической доходности aapl_stock_price_data:  0.018433240750362755\n",
            "Мю для логарифмической доходности btc_price_data:  0.0013625316939291335\n",
            "Сигма для логарифмической доходности btc_price_data:  0.03907049354954439\n"
          ]
        }
      ]
    },
    {
      "cell_type": "code",
      "source": [
        "# task2\n",
        "\n",
        "from scipy.stats import shapiro"
      ],
      "metadata": {
        "id": "nc1uZR6uWDe6"
      },
      "execution_count": 6,
      "outputs": []
    },
    {
      "cell_type": "code",
      "source": [
        "# Проверка гипотезы на нормальность распределения для btc_price_data\n",
        "stat, p = shapiro(btc_price_data_logret)\n",
        "print('stat=%.3f, p=%.3f' % (stat, p))\n",
        "if p > 0.05:\n",
        "\tprint('btc_price_data probably normal')\n",
        "else:\n",
        "\tprint('btc_price_data probably not normal')"
      ],
      "metadata": {
        "colab": {
          "base_uri": "https://localhost:8080/"
        },
        "id": "uqJayBbiU12L",
        "outputId": "95448cf9-d572-49bd-9f8a-009b5fbff3db"
      },
      "execution_count": 7,
      "outputs": [
        {
          "output_type": "stream",
          "name": "stdout",
          "text": [
            "stat=0.908, p=0.000\n",
            "btc_price_data probably not normal\n"
          ]
        }
      ]
    },
    {
      "cell_type": "code",
      "source": [
        "# task3\n",
        "\n",
        "# Нормализация btc_price_data через StandardScaler\n",
        "btc_price_data_norm_stand = (btc_price_data[\"logret\"] - btc_price_data[\"logret\"].mean()) / task1_btc_price_data_sigma\n",
        "btc_price_data_logret_norm_stand = btc_price_data_norm_stand.dropna()\n",
        "\n",
        "# Нормализация btc_price_data через MaxMin\n",
        "btc_price_data_norm = (btc_price_data[\"logret\"] - btc_price_data[\"logret\"].min())/(btc_price_data[\"logret\"].max() - btc_price_data[\"logret\"].min())\n",
        "btc_price_data_logret_norm = btc_price_data_norm.dropna()\n",
        "\n",
        "task3_aapl_stock_price_data_mu = np.mean(btc_price_data_logret_norm_stand )\n",
        "task3_aapl_stock_price_data_sigma = np.std(btc_price_data_logret_norm_stand )\n",
        "print(\"Мю для нормализованной логарифмической доходности btc_price_data через StandardScaler: \", task3_aapl_stock_price_data_mu)\n",
        "print(\"Сигма для нормализованной логарифмической доходности btc_price_data через StandardScaler: \", task3_aapl_stock_price_data_sigma)\n",
        "\n",
        "task3_btc_price_data_mu = np.mean(btc_price_data_logret_norm)\n",
        "task3_btc_price_data_sigma = np.std(btc_price_data_logret_norm)\n",
        "print(\"Мю для нормализованной логарифмической доходности btc_price_data через MaxMin: \", task3_btc_price_data_mu)\n",
        "print(\"Сигма для нормализованной логарифмической доходности btc_price_data через MaxMin: \", task3_btc_price_data_sigma)"
      ],
      "metadata": {
        "colab": {
          "base_uri": "https://localhost:8080/"
        },
        "id": "XzRDsf3BW1OO",
        "outputId": "a4197da9-7fd7-4ec1-c60a-f013554ac7e0"
      },
      "execution_count": 8,
      "outputs": [
        {
          "output_type": "stream",
          "name": "stdout",
          "text": [
            "Мю для нормализованной логарифмической доходности btc_price_data через StandardScaler:  -1.8497294405417394e-17\n",
            "Сигма для нормализованной логарифмической доходности btc_price_data через StandardScaler:  1.0\n",
            "Мю для нормализованной логарифмической доходности btc_price_data через MaxMin:  0.6756444082913678\n",
            "Сигма для нормализованной логарифмической доходности btc_price_data через MaxMin:  0.05663628736852301\n"
          ]
        }
      ]
    },
    {
      "cell_type": "code",
      "source": [
        "# task4\n",
        "\n",
        "# Доверительные интервалы для btc_price_data\n",
        "mean_btc_price_data_634 = np.mean(btc_price_data_logret.tail(634))\n",
        "\n",
        "btc_price_data_bottom_90 = 0.0001 - 1.64*np.std(btc_price_data_logret.tail(634))/(np.sqrt(len(btc_price_data_logret.tail(634))))\n",
        "btc_price_data_upper_90 = 0.0001 + 1.64*np.std(btc_price_data_logret.tail(634))/(np.sqrt(len(btc_price_data_logret.tail(634))))\n",
        "\n",
        "btc_price_data_bottom_95 = 0.0001 - 1.96*np.std(btc_price_data_logret.tail(634))/(np.sqrt(len(btc_price_data_logret.tail(634))))\n",
        "btc_price_data_upper_95 = 0.0001 + 1.96*np.std(btc_price_data_logret.tail(634))/(np.sqrt(len(btc_price_data_logret.tail(634))))\n",
        "\n",
        "btc_price_data_bottom_99 = 0.0001 - 2.57*np.std(btc_price_data_logret.tail(634))/(np.sqrt(len(btc_price_data_logret.tail(634))))\n",
        "btc_price_data_upper_99 = 0.0001 + 2.57*np.std(btc_price_data_logret.tail(634))/(np.sqrt(len(btc_price_data_logret.tail(634))))\n",
        "\n",
        "\n",
        "print('634 days 90% confidence inverval for btc_price_data:', (btc_price_data_bottom_90, btc_price_data_upper_90))\n",
        "print('634 days 95% confidence inverval for btc_price_data:', (btc_price_data_bottom_95, btc_price_data_upper_95))\n",
        "print('634 days 99% confidence inverval for btc_price_data:', (btc_price_data_bottom_99, btc_price_data_upper_99))\n",
        "print('Mean btc_price_data: ', mean_btc_price_data_634)"
      ],
      "metadata": {
        "colab": {
          "base_uri": "https://localhost:8080/"
        },
        "id": "vBWnmwSWcdhe",
        "outputId": "2b2d580e-0d56-4335-f06d-68268bb5b519"
      },
      "execution_count": 9,
      "outputs": [
        {
          "output_type": "stream",
          "name": "stdout",
          "text": [
            "634 days 90% confidence inverval for btc_price_data: (-0.002483823459172004, 0.0026838234591720035)\n",
            "634 days 95% confidence inverval for btc_price_data: (-0.0029879841341323944, 0.003187984134132394)\n",
            "634 days 99% confidence inverval for btc_price_data: (-0.003949040420775639, 0.00414904042077564)\n",
            "Mean btc_price_data:  0.0006141427319479162\n"
          ]
        }
      ]
    },
    {
      "cell_type": "code",
      "source": [
        "# task5\n",
        "\n",
        "from scipy.stats.stats import pearsonr\n",
        "corr, p = pearsonr(aapl_stock_price_data_logret, btc_price_data_logret.sample(len(aapl_stock_price_data_logret)))\n",
        "print(\"p-value for significance is: \", p)\n",
        "print(\"correlation is: \", corr)\n",
        "\n",
        "if p > 0.05:\n",
        "  print(\"No correlation\")\n",
        "else:\n",
        "   print(\"Correlation\")"
      ],
      "metadata": {
        "colab": {
          "base_uri": "https://localhost:8080/"
        },
        "id": "HRm1lzsYtUAV",
        "outputId": "714782f4-589c-44e0-f241-1c3af2ee9a53"
      },
      "execution_count": 10,
      "outputs": [
        {
          "output_type": "stream",
          "name": "stdout",
          "text": [
            "p-value for significance is:  0.08636237440836439\n",
            "correlation is:  0.03850106899884968\n",
            "No correlation\n"
          ]
        }
      ]
    },
    {
      "cell_type": "code",
      "execution_count": 14,
      "metadata": {
        "id": "ugAUCVwaJcnH"
      },
      "outputs": [],
      "source": [
        "ANSWERS = {\n",
        "    'tasks' : {\n",
        "        'task1_mu' : {\n",
        "            \"answer\" : 0.0013625316939291335\n",
        "        }, \n",
        "        'task1_sigma' : {\n",
        "            \"answer\" : 0.03907049354954439\n",
        "        }, \n",
        "        'task2_normal' : {\n",
        "            'answer' : 'no'\n",
        "        }, \n",
        "        'task3_mu' : {\n",
        "            \"answer\" : -1.8497294405417394e-17\n",
        "        }, \n",
        "        'task3_sigma' : {\n",
        "            \"answer\" : 1.0\n",
        "        }, \n",
        "        'task4_90' : {\n",
        "            \"answer\" : 0.0001\n",
        "        }, \n",
        "        'task4_90_int' : {\n",
        "            \"answer\" : [-0.0019696807272240875, 0.00319796619111992]\n",
        "        }, \n",
        "        'task4_95' : {\n",
        "            \"answer\" : 0.0001\n",
        "        }, \n",
        "        'task4_95_int' : {\n",
        "            \"answer\" : [-0.002473841402184478, 0.0037021268660803104]\n",
        "        }, \n",
        "        'task4_99' : {\n",
        "            \"answer\" : 0.0001\n",
        "        }, \n",
        "        'task4_99_int' : {\n",
        "            \"answer\" : [-0.0034348976888277233, 0.004663183152723556]\n",
        "        },\n",
        "        'task5_corr' : {\n",
        "            \"answer\" : \"no\"\n",
        "        }\n",
        "    }\n",
        "}"
      ]
    },
    {
      "cell_type": "code",
      "source": [
        "!pip install virtualenv\n",
        "!pip install pyyaml"
      ],
      "metadata": {
        "colab": {
          "base_uri": "https://localhost:8080/"
        },
        "id": "X5Q9InF1UY_W",
        "outputId": "ab05ebd9-e697-4ad9-c7a0-e20ecf5f4057"
      },
      "execution_count": 11,
      "outputs": [
        {
          "output_type": "stream",
          "name": "stdout",
          "text": [
            "Looking in indexes: https://pypi.org/simple, https://us-python.pkg.dev/colab-wheels/public/simple/\n",
            "Collecting virtualenv\n",
            "  Downloading virtualenv-20.16.6-py3-none-any.whl (8.8 MB)\n",
            "\u001b[K     |████████████████████████████████| 8.8 MB 6.8 MB/s \n",
            "\u001b[?25hRequirement already satisfied: filelock<4,>=3.4.1 in /usr/local/lib/python3.7/dist-packages (from virtualenv) (3.8.0)\n",
            "Collecting platformdirs<3,>=2.4\n",
            "  Downloading platformdirs-2.5.3-py3-none-any.whl (14 kB)\n",
            "Requirement already satisfied: importlib-metadata>=4.8.3 in /usr/local/lib/python3.7/dist-packages (from virtualenv) (4.13.0)\n",
            "Collecting distlib<1,>=0.3.6\n",
            "  Downloading distlib-0.3.6-py2.py3-none-any.whl (468 kB)\n",
            "\u001b[K     |████████████████████████████████| 468 kB 55.9 MB/s \n",
            "\u001b[?25hRequirement already satisfied: typing-extensions>=3.6.4 in /usr/local/lib/python3.7/dist-packages (from importlib-metadata>=4.8.3->virtualenv) (4.1.1)\n",
            "Requirement already satisfied: zipp>=0.5 in /usr/local/lib/python3.7/dist-packages (from importlib-metadata>=4.8.3->virtualenv) (3.10.0)\n",
            "Installing collected packages: platformdirs, distlib, virtualenv\n",
            "Successfully installed distlib-0.3.6 platformdirs-2.5.3 virtualenv-20.16.6\n",
            "Looking in indexes: https://pypi.org/simple, https://us-python.pkg.dev/colab-wheels/public/simple/\n",
            "Requirement already satisfied: pyyaml in /usr/local/lib/python3.7/dist-packages (6.0)\n"
          ]
        }
      ]
    },
    {
      "cell_type": "code",
      "source": [
        "import yaml"
      ],
      "metadata": {
        "id": "0yjqUchOWwL8"
      },
      "execution_count": 12,
      "outputs": []
    },
    {
      "cell_type": "code",
      "execution_count": 17,
      "metadata": {
        "colab": {
          "base_uri": "https://localhost:8080/"
        },
        "id": "Z5b8G6JUJcnH",
        "outputId": "293294ab-a8b7-40c2-a518-a9bc9697568e"
      },
      "outputs": [
        {
          "output_type": "stream",
          "name": "stdout",
          "text": [
            "tasks:\n",
            "  task1_mu:\n",
            "    answer: 0.0013625316939291335\n",
            "  task1_sigma:\n",
            "    answer: 0.03907049354954439\n",
            "  task2_normal:\n",
            "    answer: 'no'\n",
            "  task3_mu:\n",
            "    answer: -1.8497294405417394e-17\n",
            "  task3_sigma:\n",
            "    answer: 1.0\n",
            "  task4_90:\n",
            "    answer: 0.0001\n",
            "  task4_90_int:\n",
            "    answer:\n",
            "    - -0.0019696807272240875\n",
            "    - 0.00319796619111992\n",
            "  task4_95:\n",
            "    answer: 0.0001\n",
            "  task4_95_int:\n",
            "    answer:\n",
            "    - -0.002473841402184478\n",
            "    - 0.0037021268660803104\n",
            "  task4_99:\n",
            "    answer: 0.0001\n",
            "  task4_99_int:\n",
            "    answer:\n",
            "    - -0.0034348976888277233\n",
            "    - 0.004663183152723556\n",
            "  task5_corr:\n",
            "    answer: 'no'\n",
            "\n"
          ]
        }
      ],
      "source": [
        "yaml_result = yaml.dump(ANSWERS)\n",
        "\n",
        "print(yaml_result)\n",
        "\n",
        "with open(f\"hw03.yaml\", \"w\") as f:\n",
        "    f.write(yaml_result)"
      ]
    }
  ],
  "metadata": {
    "kernelspec": {
      "display_name": "Python 3.7.11 ('finances')",
      "language": "python",
      "name": "python3"
    },
    "language_info": {
      "codemirror_mode": {
        "name": "ipython",
        "version": 3
      },
      "file_extension": ".py",
      "mimetype": "text/x-python",
      "name": "python",
      "nbconvert_exporter": "python",
      "pygments_lexer": "ipython3",
      "version": "3.7.11"
    },
    "orig_nbformat": 4,
    "vscode": {
      "interpreter": {
        "hash": "06eb64162e3feaf379b141db2033635c6d42f608f67f90b96907f99ab752a0b5"
      }
    },
    "colab": {
      "provenance": [],
      "collapsed_sections": []
    }
  },
  "nbformat": 4,
  "nbformat_minor": 0
}