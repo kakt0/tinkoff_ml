{
  "nbformat": 4,
  "nbformat_minor": 0,
  "metadata": {
    "colab": {
      "provenance": []
    },
    "kernelspec": {
      "name": "python3",
      "display_name": "Python 3"
    },
    "language_info": {
      "name": "python"
    }
  },
  "cells": [
    {
      "cell_type": "code",
      "source": [
        "!pip install catboost\n",
        "!pip install category_encoders"
      ],
      "metadata": {
        "colab": {
          "base_uri": "https://localhost:8080/"
        },
        "id": "iPsBMQUQwQLV",
        "outputId": "3b14f905-b390-48e7-d37d-bb4cd01fc69d"
      },
      "execution_count": 1,
      "outputs": [
        {
          "output_type": "stream",
          "name": "stdout",
          "text": [
            "Looking in indexes: https://pypi.org/simple, https://us-python.pkg.dev/colab-wheels/public/simple/\n",
            "Requirement already satisfied: catboost in /usr/local/lib/python3.8/dist-packages (1.1.1)\n",
            "Requirement already satisfied: six in /usr/local/lib/python3.8/dist-packages (from catboost) (1.15.0)\n",
            "Requirement already satisfied: scipy in /usr/local/lib/python3.8/dist-packages (from catboost) (1.7.3)\n",
            "Requirement already satisfied: pandas>=0.24.0 in /usr/local/lib/python3.8/dist-packages (from catboost) (1.3.5)\n",
            "Requirement already satisfied: matplotlib in /usr/local/lib/python3.8/dist-packages (from catboost) (3.2.2)\n",
            "Requirement already satisfied: numpy>=1.16.0 in /usr/local/lib/python3.8/dist-packages (from catboost) (1.21.6)\n",
            "Requirement already satisfied: graphviz in /usr/local/lib/python3.8/dist-packages (from catboost) (0.10.1)\n",
            "Requirement already satisfied: plotly in /usr/local/lib/python3.8/dist-packages (from catboost) (5.5.0)\n",
            "Requirement already satisfied: pytz>=2017.3 in /usr/local/lib/python3.8/dist-packages (from pandas>=0.24.0->catboost) (2022.7)\n",
            "Requirement already satisfied: python-dateutil>=2.7.3 in /usr/local/lib/python3.8/dist-packages (from pandas>=0.24.0->catboost) (2.8.2)\n",
            "Requirement already satisfied: kiwisolver>=1.0.1 in /usr/local/lib/python3.8/dist-packages (from matplotlib->catboost) (1.4.4)\n",
            "Requirement already satisfied: pyparsing!=2.0.4,!=2.1.2,!=2.1.6,>=2.0.1 in /usr/local/lib/python3.8/dist-packages (from matplotlib->catboost) (3.0.9)\n",
            "Requirement already satisfied: cycler>=0.10 in /usr/local/lib/python3.8/dist-packages (from matplotlib->catboost) (0.11.0)\n",
            "Requirement already satisfied: tenacity>=6.2.0 in /usr/local/lib/python3.8/dist-packages (from plotly->catboost) (8.1.0)\n",
            "Looking in indexes: https://pypi.org/simple, https://us-python.pkg.dev/colab-wheels/public/simple/\n",
            "Requirement already satisfied: category_encoders in /usr/local/lib/python3.8/dist-packages (2.5.1.post0)\n",
            "Requirement already satisfied: patsy>=0.5.1 in /usr/local/lib/python3.8/dist-packages (from category_encoders) (0.5.3)\n",
            "Requirement already satisfied: statsmodels>=0.9.0 in /usr/local/lib/python3.8/dist-packages (from category_encoders) (0.12.2)\n",
            "Requirement already satisfied: pandas>=1.0.5 in /usr/local/lib/python3.8/dist-packages (from category_encoders) (1.3.5)\n",
            "Requirement already satisfied: numpy>=1.14.0 in /usr/local/lib/python3.8/dist-packages (from category_encoders) (1.21.6)\n",
            "Requirement already satisfied: scikit-learn>=0.20.0 in /usr/local/lib/python3.8/dist-packages (from category_encoders) (1.0.2)\n",
            "Requirement already satisfied: scipy>=1.0.0 in /usr/local/lib/python3.8/dist-packages (from category_encoders) (1.7.3)\n",
            "Requirement already satisfied: python-dateutil>=2.7.3 in /usr/local/lib/python3.8/dist-packages (from pandas>=1.0.5->category_encoders) (2.8.2)\n",
            "Requirement already satisfied: pytz>=2017.3 in /usr/local/lib/python3.8/dist-packages (from pandas>=1.0.5->category_encoders) (2022.7)\n",
            "Requirement already satisfied: six in /usr/local/lib/python3.8/dist-packages (from patsy>=0.5.1->category_encoders) (1.15.0)\n",
            "Requirement already satisfied: joblib>=0.11 in /usr/local/lib/python3.8/dist-packages (from scikit-learn>=0.20.0->category_encoders) (1.2.0)\n",
            "Requirement already satisfied: threadpoolctl>=2.0.0 in /usr/local/lib/python3.8/dist-packages (from scikit-learn>=0.20.0->category_encoders) (3.1.0)\n"
          ]
        }
      ]
    },
    {
      "cell_type": "code",
      "execution_count": 90,
      "metadata": {
        "id": "jSesEiLRkV2M"
      },
      "outputs": [],
      "source": [
        "import pandas as pd\n",
        "import numpy as np\n",
        "import seaborn as sns\n",
        "from matplotlib import pyplot as plt\n",
        "from sklearn.linear_model import LinearRegression, LogisticRegression\n",
        "from sklearn.tree import DecisionTreeRegressor\n",
        "from sklearn.metrics import mean_squared_error as mse, r2_score\n",
        "from sklearn.svm import LinearSVR\n",
        "from sklearn.pipeline import make_pipeline\n",
        "from sklearn.ensemble import StackingClassifier, BaggingRegressor, StackingRegressor\n",
        "from sklearn.ensemble import RandomForestRegressor\n",
        "from sklearn.model_selection import train_test_split\n",
        "from sklearn.preprocessing import OneHotEncoder\n",
        "from catboost import CatBoostRegressor\n",
        "from sklearn.metrics import classification_report\n",
        "from sklearn import preprocessing\n",
        "from sklearn.preprocessing import StandardScaler\n",
        "from category_encoders import TargetEncoder"
      ]
    },
    {
      "cell_type": "markdown",
      "source": [
        "# Домашняя работа: ансамбли"
      ],
      "metadata": {
        "id": "MVTZmFccmyHP"
      }
    },
    {
      "cell_type": "markdown",
      "source": [
        "Эта домашняя работа является идейным продолжением предыдущей. В данной работе вам будет необходимо поэкспериментировать с различными методами ансамблирования и проверить, какие из них работают лучше. Пайплайн предобработки данных можно взять полностью из предыдущей работы.\n",
        "\n",
        "Требования к домашней работе:\n",
        "- Во всех графиках (если вы их строите) должны быть подписи через title, legend, etc.\n",
        "- Во время обучения моделей проверяйте, что у вас не текут данные. Обычно это позитивно влияет на качество модели на тесте, но негативно влияет на оценку 🌚\n",
        "- Если вы сдаете работу в Google Colaboratory, убедитесь, что ваша тетрадка доступна по ссылке. Если в итоге по каким-то причинам тетрадка не будет открываться у преподавателя, задание не будет засчитано\n",
        "- Использование мемов допускается. Если задания дались тяжело, можно дополнительно приложить какой-нибудь постироничный мем про ваши страдания во время выполнения данной домашней работы. За мемы с использованием нецензурной лексики баллы будут снижены."
      ],
      "metadata": {
        "id": "VE36FyB9m4Gp"
      }
    },
    {
      "cell_type": "markdown",
      "source": [
        "# Загрузка и подготовка данных (1 балл)"
      ],
      "metadata": {
        "id": "_u-DyeiInWN2"
      }
    },
    {
      "cell_type": "markdown",
      "source": [
        "В этой секции предлагается прогнать предобработку данных из прошлой тетрадки заново и сохранить получившийся датасет в формате csv.\n",
        "\n",
        "Если вы **не хотите заморачиваться**, то просто скопируйте код с предобработкой ниже.\n",
        "\n",
        "В противном случае в старой тетрадке:\n",
        "1. Отдельно выполните предобработку (`fit_transform`) тренировочной части данных\n",
        "2. Добавьте колонку `split` к датафрейму с обучающей выборкой, в этой колонке проставьте значение `train` для всех объектов\n",
        "3. Затем примените **только** предобработку (`transform`) к тестовой части данных\n",
        "4. Добавьте колонку `split` к тестовой выборке, в этой колонке проставьте значение `test` для всех объектов\n",
        "5. Объедините два датафрейма в один при помощи функции `pd.concat`\n",
        "6. Сохраните получившийся датафрейм при помощи функции `to_csv`, не забудьте передать аргумент `index=False`\n",
        "\n",
        "Получившийся файл сохраните отдельно и используйте в этой домашней работе. Для разбиения датасета на обучающую и тестовую части вместо функции `train_test_split` можете применять колонку `split`."
      ],
      "metadata": {
        "id": "kfY_eyP7nc3P"
      }
    },
    {
      "cell_type": "code",
      "source": [
        "!gdown 18PVwZWFbpRbEHW-Hc8R0DUTl9CF1aQa0 -O data.csv"
      ],
      "metadata": {
        "colab": {
          "base_uri": "https://localhost:8080/"
        },
        "id": "i86hfxORvNXz",
        "outputId": "8971ca7b-4e0b-48cf-ab17-9d3fec17ebee"
      },
      "execution_count": 16,
      "outputs": [
        {
          "output_type": "stream",
          "name": "stdout",
          "text": [
            "Downloading...\n",
            "From: https://drive.google.com/uc?id=18PVwZWFbpRbEHW-Hc8R0DUTl9CF1aQa0\n",
            "To: /content/data.csv\n",
            "100% 30.0M/30.0M [00:00<00:00, 264MB/s]\n"
          ]
        }
      ]
    },
    {
      "cell_type": "code",
      "source": [
        "df = pd.read_csv('data.csv').drop(columns=[\n",
        "    'product_name',\n",
        "    'index',\n",
        "    'uniq_id',\n",
        "    'customers_who_bought_this_item_also_bought',\n",
        "    'items_customers_buy_after_viewing_this_item',\n",
        "    'sellers',\n",
        "    'description', # text\n",
        "    'product_information', # text\n",
        "    'product_description', # text\n",
        "    'customer_questions_and_answers', # text\n",
        "    'customer_reviews', # text\n",
        "])"
      ],
      "metadata": {
        "id": "4O4k7ncnvOL8"
      },
      "execution_count": 17,
      "outputs": []
    },
    {
      "cell_type": "code",
      "source": [
        "df = df.drop(index=df[df.isna().sum(axis=1) > 2].index)\n",
        "df = df.reset_index(drop=True)\n",
        "X, y = df.drop(columns=['price']), df.price\n",
        "\n",
        "df_copy = df.copy()\n",
        "\n",
        "# Переведем доступное количество в численное значение и отделим состояние в отдельный признак\n",
        "df_copy[[\"number_available_in_stock\", \"condition\"]] = df_copy[\"number_available_in_stock\"].dropna().str.split(expand=True)\n",
        "df_copy[\"number_available_in_stock\"] = df_copy[\"number_available_in_stock\"].dropna().astype(float)\n",
        "\n",
        "# Переведем стоимость в численное значение\n",
        "df_copy[\"price\"] = df_copy[\"price\"].str.replace('£', '').str.replace(',', '').astype(float)\n",
        "\n",
        "# Переведем рейтинг в численное значение\n",
        "df_copy[\"average_review_rating\"] = df_copy[\"average_review_rating\"].dropna().apply(lambda x: float(x.split()[0]))\n",
        "\n",
        "# Переводим число отзывов в численное значение\n",
        "df_copy[\"number_of_reviews\"] = df_copy[\"number_of_reviews\"].dropna().str.replace(',', '').astype(float)\n",
        "\n",
        "# Переводим число ответов в численное значение\n",
        "df_copy[\"number_of_answered_questions\"] = df_copy[\"number_of_answered_questions\"].dropna().astype(float)\n",
        "\n",
        "# Заполняем пропуски по среднему и округляем там, где значения должны быть целыми\n",
        "df_copy[\"average_review_rating\"] = df_copy[\"average_review_rating\"].fillna(np.mean(df_copy[\"average_review_rating\"].dropna()))\n",
        "df_copy[\"number_of_reviews\"] = df_copy[\"number_of_reviews\"].fillna(np.mean(df_copy[\"number_of_reviews\"].dropna())).round(0)\n",
        "df_copy[\"number_of_answered_questions\"] = df_copy[\"number_of_answered_questions\"].fillna(np.mean(df_copy[\"number_of_answered_questions\"].dropna())).round(0)\n",
        "df_copy[\"number_available_in_stock\"] = df_copy[\"number_available_in_stock\"].fillna(np.mean(df_copy[\"number_available_in_stock\"].dropna()))\n",
        "\n",
        "# Заполним пропуски в текстовых данных\n",
        "df_copy[[\"manufacturer\", \"amazon_category_and_sub_category\", \"condition\"]] = df_copy[[\"manufacturer\", \"amazon_category_and_sub_category\", \"condition\"]].fillna(\"no information\")\n",
        "\n",
        "# Разделим amazon_category_and_sub_category на 5 признаков (тк максимум встречается 5 категорий) и заполним все пропуски\n",
        "df_copy[[\"amazon_category\", \"1_sub_category\", \"2_sub_category\", \"3_sub_category\", \"4_sub_category\"]] = df_copy[\"amazon_category_and_sub_category\"].str.split(\" > \", expand=True)\n",
        "df_copy[[\"1_sub_category\", \"2_sub_category\", \"3_sub_category\", \"4_sub_category\"]] = df_copy[[\"1_sub_category\", \"2_sub_category\", \"3_sub_category\", \"4_sub_category\"]].fillna(\"no_category\")\n",
        "df_copy = df_copy.drop(columns=[\"amazon_category_and_sub_category\", \"4_sub_category\"])\n",
        "\n",
        "X, y = df_copy.drop(columns=['price']), df_copy.price\n",
        "X_train, X_test, y_train, y_test = train_test_split(X, y, train_size=0.65, random_state=42)\n",
        "X_train_new, X_test_new = X_train, X_test\n",
        "\n",
        "# Кодируем категориальные признаки\n",
        "\n",
        "features = [\"manufacturer\", \"condition\", \"amazon_category\", \"1_sub_category\", \"2_sub_category\", \"3_sub_category\"]\n",
        "encoder = TargetEncoder(cols=features, handle_missing='value', handle_unknown='value')\n",
        "X_train = encoder.fit_transform(X_train, y_train)\n",
        "X_test = encoder.transform(X_test)"
      ],
      "metadata": {
        "colab": {
          "base_uri": "https://localhost:8080/"
        },
        "id": "2ovbzsYqvQBI",
        "outputId": "fe7920ec-6b09-478b-ec9b-c6a4e24e5c35"
      },
      "execution_count": 96,
      "outputs": [
        {
          "output_type": "stream",
          "name": "stderr",
          "text": [
            "/usr/local/lib/python3.8/dist-packages/category_encoders/target_encoder.py:122: FutureWarning: Default parameter min_samples_leaf will change in version 2.6.See https://github.com/scikit-learn-contrib/category_encoders/issues/327\n",
            "  warnings.warn(\"Default parameter min_samples_leaf will change in version 2.6.\"\n",
            "/usr/local/lib/python3.8/dist-packages/category_encoders/target_encoder.py:127: FutureWarning: Default parameter smoothing will change in version 2.6.See https://github.com/scikit-learn-contrib/category_encoders/issues/327\n",
            "  warnings.warn(\"Default parameter smoothing will change in version 2.6.\"\n"
          ]
        }
      ]
    },
    {
      "cell_type": "markdown",
      "source": [
        "Кодируем TargetEncoder для быстроты"
      ],
      "metadata": {
        "id": "mEy4VjA4oMlM"
      }
    },
    {
      "cell_type": "code",
      "source": [
        "# Нормализуем признаки\n",
        "\n",
        "scaler = StandardScaler()\n",
        "scaler.fit(X_train)\n",
        "X_train_scl = scaler.transform(X_train)\n",
        "X_test_scl = scaler.transform(X_test)\n",
        "\n",
        "X_train = pd.DataFrame(X_train_scl, index=X_train.index, columns=X_train.columns)\n",
        "X_test = pd.DataFrame(X_test_scl, index=X_test.index, columns=X_test.columns)"
      ],
      "metadata": {
        "id": "lSkrHZI_4m2b"
      },
      "execution_count": 19,
      "outputs": []
    },
    {
      "cell_type": "markdown",
      "source": [
        "Важно: во всех разделах ниже задачу регрессии важно оценивать не только при помощи `MSE`, но и при помощи `r2_score`. Если вы хотите перебрать какой-либо гиперпараметр, не забывайте оценивать то, насколько сильно переобучается модель и как меняется каждый из параметров в процессе обучения."
      ],
      "metadata": {
        "id": "XXUtaMSv5oGF"
      }
    },
    {
      "cell_type": "markdown",
      "source": [
        "# Стекинг (максимум 3 балла)"
      ],
      "metadata": {
        "id": "cO5VjK7kp_si"
      }
    },
    {
      "cell_type": "markdown",
      "source": [
        "Решите задачу, используя разные комбинации базовых моделей. В качестве базовой модели обязательно попробуйте линейную регрессию, дерево и SVM для регрессии.\n",
        "\n",
        "Какой набор моделей дает лучший результат? Попробуйте улучшить его, перебрав несколько гиперпараметров (как у базовой модели, так и у ансамбля)."
      ],
      "metadata": {
        "id": "sDbjOEre6Xst"
      }
    },
    {
      "cell_type": "markdown",
      "source": [
        "## Простой стекинг своими руками (2 балла)"
      ],
      "metadata": {
        "id": "9HnkGgBpqfgI"
      }
    },
    {
      "cell_type": "code",
      "source": [
        "class StackingRegressionSolver:\n",
        "    def __init__(self, base_estimators: list, meta_estimator):\n",
        "        self._base_estimators = base_estimators\n",
        "        self._meta_estimator = meta_estimator\n",
        "\n",
        "    def _fit_base(self, X: pd.DataFrame, y: pd.Series) -> None:\n",
        "        for estimator in self._base_estimators:\n",
        "            estimator.fit(X, y)\n",
        "\n",
        "    def _predict_base(self, X: pd.DataFrame) -> pd.DataFrame:\n",
        "        meta_features = pd.DataFrame()\n",
        "        for estimator in self._base_estimators:\n",
        "            meta_features[type(estimator).__name__] = estimator.predict(X)\n",
        "        return meta_features\n",
        "\n",
        "    def fit(self, X: pd.DataFrame, y: pd.Series):\n",
        "        self._fit_base(X, y)\n",
        "        meta_features = self._predict_base(X)\n",
        "        self._fit_base(X, y)\n",
        "        self._meta_estimator.fit(meta_features, y)\n",
        "\n",
        "    def predict(self, X: pd.DataFrame) -> pd.Series:\n",
        "        meta_features = self._predict_base(X)\n",
        "        return self._meta_estimator.predict(meta_features)"
      ],
      "metadata": {
        "id": "in4yMYq1qVei"
      },
      "execution_count": 41,
      "outputs": []
    },
    {
      "cell_type": "code",
      "source": [
        "line_regression = LinearRegression()\n",
        "tree = DecisionTreeRegressor(max_depth=10)\n",
        "svr = LinearSVR()\n",
        "\n",
        "estimators = [[[line_regression, svr], [tree]], [[line_regression, tree], [svr]], [[tree, svr], [line_regression]]]\n",
        "\n",
        "for est in estimators:\n",
        "    stacking_regressor = StackingRegressionSolver(base_estimators=est[0], meta_estimator=est[1][0])\n",
        "    stacking_regressor.fit(X_train, y_train)\n",
        "    y_pred = stacking_regressor.predict(X_test)\n",
        "    print(f'base_estimators: {est[0]}, final_estimator: {est[1][0]}')\n",
        "    print(f'mse: {mse(y_test, y_pred)}, r2_score: {r2_score(y_test, y_pred)}\\n')"
      ],
      "metadata": {
        "id": "OnrpvxiHccHL",
        "colab": {
          "base_uri": "https://localhost:8080/"
        },
        "outputId": "fb90c0ae-a05a-46df-d6ce-27b099bb7964"
      },
      "execution_count": 64,
      "outputs": [
        {
          "output_type": "stream",
          "name": "stdout",
          "text": [
            "base_estimators: [LinearRegression(), LinearSVR()], final_estimator: DecisionTreeRegressor(max_depth=10)\n",
            "mse: 1572.7105438694068, r2_score: 0.07780067751525976\n",
            "\n",
            "base_estimators: [LinearRegression(), DecisionTreeRegressor(max_depth=10)], final_estimator: LinearSVR()\n",
            "mse: 3421.0784937631684, r2_score: -1.0060374627827793\n",
            "\n",
            "base_estimators: [DecisionTreeRegressor(max_depth=10), LinearSVR()], final_estimator: LinearRegression()\n",
            "mse: 3322.3514296852486, r2_score: -0.9481463066774982\n",
            "\n"
          ]
        },
        {
          "output_type": "stream",
          "name": "stderr",
          "text": [
            "/usr/local/lib/python3.8/dist-packages/sklearn/svm/_base.py:1206: ConvergenceWarning: Liblinear failed to converge, increase the number of iterations.\n",
            "  warnings.warn(\n"
          ]
        }
      ]
    },
    {
      "cell_type": "markdown",
      "source": [
        "**Ответ:** лучший результат был при комбинации базовой модели [LinearRegression(), LinearSVR()] и DecisionTreeRegressor(max_depth=10)    \n",
        "Ps: увеличением каоличества итераций проблему в ConvergenceWarning решить не получается"
      ],
      "metadata": {
        "id": "fWzM4ZMf4aUy"
      }
    },
    {
      "cell_type": "code",
      "source": [
        "# Переберем несколько гиперпараметров\n",
        "\n",
        "for max_depth in range(10, 31, 2):\n",
        "  for C in np.arange(0.5, 5.1, 0.5):\n",
        "    stacking_regressor = StackingRegressionSolver(base_estimators= [LinearRegression(), LinearSVR(C=C)], meta_estimator=DecisionTreeRegressor(max_depth=max_depth))\n",
        "    stacking_regressor.fit(X_train, y_train)\n",
        "    y_pred = stacking_regressor.predict(X_test)\n",
        "    print(f'C for LinearSVR: {C}, max_depth for DecisionTreeRegressor: {max_depth}')\n",
        "    print(f'mse: {mse(y_test, y_pred)}, r2_score: {r2_score(y_test, y_pred)}\\n')"
      ],
      "metadata": {
        "colab": {
          "base_uri": "https://localhost:8080/"
        },
        "id": "tevsQpY4ePp4",
        "outputId": "759f6084-156d-4aac-97e2-26f97777b196"
      },
      "execution_count": 70,
      "outputs": [
        {
          "output_type": "stream",
          "name": "stdout",
          "text": [
            "C for LinearSVR: 0.5, max_depth for DecisionTreeRegressor: 10\n",
            "mse: 1779.7622463000716, r2_score: -0.043609419495399315\n",
            "\n",
            "C for LinearSVR: 1.0, max_depth for DecisionTreeRegressor: 10\n",
            "mse: 1671.8139542101715, r2_score: 0.01968884108837221\n",
            "\n",
            "C for LinearSVR: 1.5, max_depth for DecisionTreeRegressor: 10\n",
            "mse: 1635.7011582113068, r2_score: 0.04086450887606652\n",
            "\n",
            "C for LinearSVR: 2.0, max_depth for DecisionTreeRegressor: 10\n",
            "mse: 1731.850096594856, r2_score: -0.015514896845205683\n",
            "\n",
            "C for LinearSVR: 2.5, max_depth for DecisionTreeRegressor: 10\n",
            "mse: 1761.0640450205792, r2_score: -0.03264524772275634\n",
            "\n",
            "C for LinearSVR: 3.0, max_depth for DecisionTreeRegressor: 10\n",
            "mse: 1593.8448198096219, r2_score: 0.06540805063980193\n",
            "\n",
            "C for LinearSVR: 3.5, max_depth for DecisionTreeRegressor: 10\n",
            "mse: 1708.8741303814802, r2_score: -0.0020423474571431566\n",
            "\n",
            "C for LinearSVR: 4.0, max_depth for DecisionTreeRegressor: 10\n",
            "mse: 1667.0129322622597, r2_score: 0.02250404392710026\n",
            "\n",
            "C for LinearSVR: 4.5, max_depth for DecisionTreeRegressor: 10\n",
            "mse: 1626.2949718705697, r2_score: 0.046380068433040766\n",
            "\n",
            "C for LinearSVR: 5.0, max_depth for DecisionTreeRegressor: 10\n",
            "mse: 1629.5350324488425, r2_score: 0.044480175485962725\n",
            "\n",
            "C for LinearSVR: 0.5, max_depth for DecisionTreeRegressor: 12\n",
            "mse: 3669.3933042248696, r2_score: -1.1516432456544954\n",
            "\n",
            "C for LinearSVR: 1.0, max_depth for DecisionTreeRegressor: 12\n",
            "mse: 1663.7052269696917, r2_score: 0.02444360209416152\n",
            "\n",
            "C for LinearSVR: 1.5, max_depth for DecisionTreeRegressor: 12\n",
            "mse: 3564.4670195738026, r2_score: -1.0901170169449292\n",
            "\n",
            "C for LinearSVR: 2.0, max_depth for DecisionTreeRegressor: 12\n",
            "mse: 1632.3621413937535, r2_score: 0.04282242736203068\n",
            "\n",
            "C for LinearSVR: 2.5, max_depth for DecisionTreeRegressor: 12\n",
            "mse: 1657.7401816789366, r2_score: 0.02794135999193137\n",
            "\n",
            "C for LinearSVR: 3.0, max_depth for DecisionTreeRegressor: 12\n",
            "mse: 1751.175295232356, r2_score: -0.02684672466301774\n",
            "\n",
            "C for LinearSVR: 3.5, max_depth for DecisionTreeRegressor: 12\n",
            "mse: 1680.2690406627187, r2_score: 0.014730983440324086\n",
            "\n",
            "C for LinearSVR: 4.0, max_depth for DecisionTreeRegressor: 12\n",
            "mse: 3669.7088545110532, r2_score: -1.1518282766897756\n",
            "\n",
            "C for LinearSVR: 4.5, max_depth for DecisionTreeRegressor: 12\n",
            "mse: 1799.5808567327445, r2_score: -0.055230572023971414\n",
            "\n",
            "C for LinearSVR: 5.0, max_depth for DecisionTreeRegressor: 12\n",
            "mse: 1702.7455484357872, r2_score: 0.0015513043690886796\n",
            "\n",
            "C for LinearSVR: 0.5, max_depth for DecisionTreeRegressor: 14\n",
            "mse: 3957.0367442613033, r2_score: -1.3203103831343124\n",
            "\n",
            "C for LinearSVR: 1.0, max_depth for DecisionTreeRegressor: 14\n",
            "mse: 1914.5354368646192, r2_score: -0.12263715000322839\n",
            "\n",
            "C for LinearSVR: 1.5, max_depth for DecisionTreeRegressor: 14\n",
            "mse: 1898.0905830587267, r2_score: -0.11299428654226196\n",
            "\n",
            "C for LinearSVR: 2.0, max_depth for DecisionTreeRegressor: 14\n",
            "mse: 1843.8049984196882, r2_score: -0.08116253621162617\n",
            "\n",
            "C for LinearSVR: 2.5, max_depth for DecisionTreeRegressor: 14\n",
            "mse: 1908.351183297975, r2_score: -0.11901085368858566\n",
            "\n",
            "C for LinearSVR: 3.0, max_depth for DecisionTreeRegressor: 14\n",
            "mse: 1878.1090852393509, r2_score: -0.10127762080037539\n",
            "\n",
            "C for LinearSVR: 3.5, max_depth for DecisionTreeRegressor: 14\n",
            "mse: 3819.660455163157, r2_score: -1.239756258775178\n",
            "\n",
            "C for LinearSVR: 4.0, max_depth for DecisionTreeRegressor: 14\n",
            "mse: 1994.1254019590917, r2_score: -0.16930677536615302\n",
            "\n",
            "C for LinearSVR: 4.5, max_depth for DecisionTreeRegressor: 14\n",
            "mse: 1958.773401271273, r2_score: -0.1485772194985009\n",
            "\n",
            "C for LinearSVR: 5.0, max_depth for DecisionTreeRegressor: 14\n",
            "mse: 1885.1079954794602, r2_score: -0.10538161203176899\n",
            "\n",
            "C for LinearSVR: 0.5, max_depth for DecisionTreeRegressor: 16\n",
            "mse: 1838.1704842028007, r2_score: -0.07785859371972959\n",
            "\n",
            "C for LinearSVR: 1.0, max_depth for DecisionTreeRegressor: 16\n",
            "mse: 1885.7397488604213, r2_score: -0.10575205689345735\n",
            "\n",
            "C for LinearSVR: 1.5, max_depth for DecisionTreeRegressor: 16\n",
            "mse: 1896.3694599272626, r2_score: -0.11198506167762545\n",
            "\n",
            "C for LinearSVR: 2.0, max_depth for DecisionTreeRegressor: 16\n",
            "mse: 1901.8305414830493, r2_score: -0.11518730746303851\n",
            "\n",
            "C for LinearSVR: 2.5, max_depth for DecisionTreeRegressor: 16\n",
            "mse: 1777.1784992332432, r2_score: -0.04209437287490769\n",
            "\n",
            "C for LinearSVR: 3.0, max_depth for DecisionTreeRegressor: 16\n",
            "mse: 1821.9095511520402, r2_score: -0.06832357692923607\n",
            "\n",
            "C for LinearSVR: 3.5, max_depth for DecisionTreeRegressor: 16\n",
            "mse: 1919.8631552853794, r2_score: -0.1257611948805053\n",
            "\n",
            "C for LinearSVR: 4.0, max_depth for DecisionTreeRegressor: 16\n",
            "mse: 1829.6467037118048, r2_score: -0.07286045555346199\n",
            "\n",
            "C for LinearSVR: 4.5, max_depth for DecisionTreeRegressor: 16\n",
            "mse: 1887.2993275732672, r2_score: -0.10666655602869546\n",
            "\n",
            "C for LinearSVR: 5.0, max_depth for DecisionTreeRegressor: 16\n",
            "mse: 1935.430407807738, r2_score: -0.13488945423187126\n",
            "\n",
            "C for LinearSVR: 0.5, max_depth for DecisionTreeRegressor: 18\n",
            "mse: 2000.0282882555775, r2_score: -0.17276808473712624\n",
            "\n",
            "C for LinearSVR: 1.0, max_depth for DecisionTreeRegressor: 18\n",
            "mse: 3814.2616642366343, r2_score: -1.2365905387041298\n",
            "\n",
            "C for LinearSVR: 1.5, max_depth for DecisionTreeRegressor: 18\n",
            "mse: 2013.6379356108566, r2_score: -0.18074845189319255\n",
            "\n",
            "C for LinearSVR: 2.0, max_depth for DecisionTreeRegressor: 18\n",
            "mse: 1815.7884731027993, r2_score: -0.06473432520590361\n",
            "\n",
            "C for LinearSVR: 2.5, max_depth for DecisionTreeRegressor: 18\n",
            "mse: 2008.178424878187, r2_score: -0.1775471272003606\n",
            "\n",
            "C for LinearSVR: 3.0, max_depth for DecisionTreeRegressor: 18\n",
            "mse: 1979.6315381001627, r2_score: -0.16080792509583874\n",
            "\n",
            "C for LinearSVR: 3.5, max_depth for DecisionTreeRegressor: 18\n",
            "mse: 1941.8920067689635, r2_score: -0.1386783791598809\n",
            "\n",
            "C for LinearSVR: 4.0, max_depth for DecisionTreeRegressor: 18\n",
            "mse: 2217.5856055967974, r2_score: -0.3003384195554133\n",
            "\n",
            "C for LinearSVR: 4.5, max_depth for DecisionTreeRegressor: 18\n",
            "mse: 1901.0444235246282, r2_score: -0.11472634695668549\n",
            "\n",
            "C for LinearSVR: 5.0, max_depth for DecisionTreeRegressor: 18\n",
            "mse: 1795.4566478537358, r2_score: -0.052812235955180364\n",
            "\n",
            "C for LinearSVR: 0.5, max_depth for DecisionTreeRegressor: 20\n",
            "mse: 1848.2557539192628, r2_score: -0.08377235129950278\n",
            "\n",
            "C for LinearSVR: 1.0, max_depth for DecisionTreeRegressor: 20\n",
            "mse: 1905.3249749420556, r2_score: -0.11723635849847902\n",
            "\n",
            "C for LinearSVR: 1.5, max_depth for DecisionTreeRegressor: 20\n",
            "mse: 1942.8100949711243, r2_score: -0.13921672381669925\n",
            "\n",
            "C for LinearSVR: 2.0, max_depth for DecisionTreeRegressor: 20\n",
            "mse: 1866.7363123458963, r2_score: -0.09460890258137455\n",
            "\n",
            "C for LinearSVR: 2.5, max_depth for DecisionTreeRegressor: 20\n",
            "mse: 1902.1259471193678, r2_score: -0.11536052616417414\n",
            "\n",
            "C for LinearSVR: 3.0, max_depth for DecisionTreeRegressor: 20\n",
            "mse: 2008.6452389903513, r2_score: -0.17782085567483596\n",
            "\n",
            "C for LinearSVR: 3.5, max_depth for DecisionTreeRegressor: 20\n",
            "mse: 1927.1354786955324, r2_score: -0.13002550896415888\n",
            "\n",
            "C for LinearSVR: 4.0, max_depth for DecisionTreeRegressor: 20\n",
            "mse: 1784.7912192209672, r2_score: -0.046558287256553754\n",
            "\n",
            "C for LinearSVR: 4.5, max_depth for DecisionTreeRegressor: 20\n",
            "mse: 1796.9203864062556, r2_score: -0.05367053674466171\n",
            "\n",
            "C for LinearSVR: 5.0, max_depth for DecisionTreeRegressor: 20\n",
            "mse: 2024.7189506363761, r2_score: -0.18724609037397455\n",
            "\n",
            "C for LinearSVR: 0.5, max_depth for DecisionTreeRegressor: 22\n",
            "mse: 1957.586003406055, r2_score: -0.14788095818640334\n",
            "\n",
            "C for LinearSVR: 1.0, max_depth for DecisionTreeRegressor: 22\n",
            "mse: 1947.0057989634408, r2_score: -0.14167698288607689\n",
            "\n",
            "C for LinearSVR: 1.5, max_depth for DecisionTreeRegressor: 22\n",
            "mse: 1739.8161427036225, r2_score: -0.020185993095576338\n",
            "\n",
            "C for LinearSVR: 2.0, max_depth for DecisionTreeRegressor: 22\n",
            "mse: 1970.3007135474281, r2_score: -0.15533655586372008\n",
            "\n",
            "C for LinearSVR: 2.5, max_depth for DecisionTreeRegressor: 22\n",
            "mse: 1951.4307990172415, r2_score: -0.1442716956051575\n",
            "\n",
            "C for LinearSVR: 3.0, max_depth for DecisionTreeRegressor: 22\n",
            "mse: 3936.8985359935114, r2_score: -1.3085018261859234\n",
            "\n",
            "C for LinearSVR: 3.5, max_depth for DecisionTreeRegressor: 22\n",
            "mse: 1878.3777777656007, r2_score: -0.10143517558159698\n",
            "\n",
            "C for LinearSVR: 4.0, max_depth for DecisionTreeRegressor: 22\n",
            "mse: 1818.3915334136254, r2_score: -0.06626069664430223\n",
            "\n",
            "C for LinearSVR: 4.5, max_depth for DecisionTreeRegressor: 22\n",
            "mse: 4102.324320455571, r2_score: -1.4055034943867857\n",
            "\n",
            "C for LinearSVR: 5.0, max_depth for DecisionTreeRegressor: 22\n",
            "mse: 2105.6302655837712, r2_score: -0.23469052324606254\n",
            "\n",
            "C for LinearSVR: 0.5, max_depth for DecisionTreeRegressor: 24\n",
            "mse: 2035.5311122067876, r2_score: -0.1935860797087552\n",
            "\n",
            "C for LinearSVR: 1.0, max_depth for DecisionTreeRegressor: 24\n",
            "mse: 1827.4231912946739, r2_score: -0.07155664179535637\n",
            "\n",
            "C for LinearSVR: 1.5, max_depth for DecisionTreeRegressor: 24\n",
            "mse: 1921.0499848104407, r2_score: -0.12645712293171774\n",
            "\n",
            "C for LinearSVR: 2.0, max_depth for DecisionTreeRegressor: 24\n",
            "mse: 1997.013272606896, r2_score: -0.17100015267910473\n",
            "\n",
            "C for LinearSVR: 2.5, max_depth for DecisionTreeRegressor: 24\n",
            "mse: 2071.159669941578, r2_score: -0.2144778019218545\n",
            "\n",
            "C for LinearSVR: 3.0, max_depth for DecisionTreeRegressor: 24\n",
            "mse: 3830.258450660873, r2_score: -1.2459706663187582\n",
            "\n",
            "C for LinearSVR: 3.5, max_depth for DecisionTreeRegressor: 24\n",
            "mse: 1963.1016682508923, r2_score: -0.15111521028879427\n",
            "\n",
            "C for LinearSVR: 4.0, max_depth for DecisionTreeRegressor: 24\n",
            "mse: 1934.7162183405271, r2_score: -0.1344706708483967\n",
            "\n",
            "C for LinearSVR: 4.5, max_depth for DecisionTreeRegressor: 24\n",
            "mse: 1892.9184622741989, r2_score: -0.10996148034541053\n",
            "\n",
            "C for LinearSVR: 5.0, max_depth for DecisionTreeRegressor: 24\n",
            "mse: 1991.775006489283, r2_score: -0.16792856046304938\n",
            "\n",
            "C for LinearSVR: 0.5, max_depth for DecisionTreeRegressor: 26\n",
            "mse: 1904.173614278071, r2_score: -0.11656122852723194\n",
            "\n",
            "C for LinearSVR: 1.0, max_depth for DecisionTreeRegressor: 26\n",
            "mse: 1961.4231315058523, r2_score: -0.1501309570483773\n",
            "\n",
            "C for LinearSVR: 1.5, max_depth for DecisionTreeRegressor: 26\n",
            "mse: 1945.592507661747, r2_score: -0.14084826314106347\n",
            "\n",
            "C for LinearSVR: 2.0, max_depth for DecisionTreeRegressor: 26\n",
            "mse: 1878.590269194919, r2_score: -0.10155977540253347\n",
            "\n",
            "C for LinearSVR: 2.5, max_depth for DecisionTreeRegressor: 26\n",
            "mse: 1831.797967168905, r2_score: -0.07412190427354415\n",
            "\n",
            "C for LinearSVR: 3.0, max_depth for DecisionTreeRegressor: 26\n",
            "mse: 2057.701726022743, r2_score: -0.2065863899818976\n",
            "\n",
            "C for LinearSVR: 3.5, max_depth for DecisionTreeRegressor: 26\n",
            "mse: 1869.0754821574124, r2_score: -0.09598053503069304\n",
            "\n",
            "C for LinearSVR: 4.0, max_depth for DecisionTreeRegressor: 26\n",
            "mse: 1954.6535698463608, r2_score: -0.1461614502626325\n",
            "\n",
            "C for LinearSVR: 4.5, max_depth for DecisionTreeRegressor: 26\n",
            "mse: 1973.14217605234, r2_score: -0.15700272056714248\n",
            "\n",
            "C for LinearSVR: 5.0, max_depth for DecisionTreeRegressor: 26\n",
            "mse: 1826.7007757713386, r2_score: -0.07113303485206401\n",
            "\n",
            "C for LinearSVR: 0.5, max_depth for DecisionTreeRegressor: 28\n",
            "mse: 2011.0204652297662, r2_score: -0.17921363073905527\n",
            "\n",
            "C for LinearSVR: 1.0, max_depth for DecisionTreeRegressor: 28\n",
            "mse: 1903.6493733317611, r2_score: -0.11625382634989534\n",
            "\n",
            "C for LinearSVR: 1.5, max_depth for DecisionTreeRegressor: 28\n",
            "mse: 1982.451449202948, r2_score: -0.1624614525797059\n",
            "\n",
            "C for LinearSVR: 2.0, max_depth for DecisionTreeRegressor: 28\n",
            "mse: 1926.8355008388498, r2_score: -0.12984960922388478\n",
            "\n",
            "C for LinearSVR: 2.5, max_depth for DecisionTreeRegressor: 28\n",
            "mse: 1917.5337094475135, r2_score: -0.12439526433351489\n",
            "\n",
            "C for LinearSVR: 3.0, max_depth for DecisionTreeRegressor: 28\n",
            "mse: 1892.0962742588654, r2_score: -0.10947936923243362\n",
            "\n",
            "C for LinearSVR: 3.5, max_depth for DecisionTreeRegressor: 28\n",
            "mse: 1981.707332475734, r2_score: -0.1620251205767438\n",
            "\n",
            "C for LinearSVR: 4.0, max_depth for DecisionTreeRegressor: 28\n",
            "mse: 3948.726618956484, r2_score: -1.3154375271877803\n",
            "\n",
            "C for LinearSVR: 4.5, max_depth for DecisionTreeRegressor: 28\n",
            "mse: 1933.7438954965455, r2_score: -0.13390052431288102\n",
            "\n",
            "C for LinearSVR: 5.0, max_depth for DecisionTreeRegressor: 28\n",
            "mse: 1945.8328686921454, r2_score: -0.1409892050201964\n",
            "\n",
            "C for LinearSVR: 0.5, max_depth for DecisionTreeRegressor: 30\n",
            "mse: 4036.712916232618, r2_score: -1.3670305581191795\n",
            "\n",
            "C for LinearSVR: 1.0, max_depth for DecisionTreeRegressor: 30\n",
            "mse: 2055.813102072301, r2_score: -0.20547894669914224\n",
            "\n",
            "C for LinearSVR: 1.5, max_depth for DecisionTreeRegressor: 30\n",
            "mse: 1945.5701620030557, r2_score: -0.14083516018872033\n",
            "\n",
            "C for LinearSVR: 2.0, max_depth for DecisionTreeRegressor: 30\n",
            "mse: 1932.2144039983318, r2_score: -0.1330036675906463\n",
            "\n",
            "C for LinearSVR: 2.5, max_depth for DecisionTreeRegressor: 30\n",
            "mse: 1957.8642680659793, r2_score: -0.14804412583467408\n",
            "\n",
            "C for LinearSVR: 3.0, max_depth for DecisionTreeRegressor: 30\n",
            "mse: 2034.894367928352, r2_score: -0.1932127083058237\n",
            "\n",
            "C for LinearSVR: 3.5, max_depth for DecisionTreeRegressor: 30\n",
            "mse: 1878.5940961564984, r2_score: -0.10156201943999443\n",
            "\n",
            "C for LinearSVR: 4.0, max_depth for DecisionTreeRegressor: 30\n",
            "mse: 1988.7526953925158, r2_score: -0.16615635053119537\n",
            "\n",
            "C for LinearSVR: 4.5, max_depth for DecisionTreeRegressor: 30\n",
            "mse: 1955.2792754165039, r2_score: -0.14652834883472532\n",
            "\n",
            "C for LinearSVR: 5.0, max_depth for DecisionTreeRegressor: 30\n",
            "mse: 1900.9260313432087, r2_score: -0.11465692465267763\n",
            "\n"
          ]
        }
      ]
    },
    {
      "cell_type": "markdown",
      "source": [
        "Лучший результат при C=1.0, max_depth=10:  \n",
        "mse: 1671.8139542101715, r2_score: 0.01968884108837221"
      ],
      "metadata": {
        "id": "n7xQiwsXgPHV"
      }
    },
    {
      "cell_type": "markdown",
      "source": [
        "## Использование встроенной модели стекинга (0.5 балла)"
      ],
      "metadata": {
        "id": "tISuwHbhqjGN"
      }
    },
    {
      "cell_type": "code",
      "source": [
        "estimators = [(\"ln_reg\", LinearRegression()), (\"svr\", LinearSVR())]\n",
        "clf = StackingRegressor(estimators, tree)\n",
        "clf.fit(X_train, y_train)\n",
        "y_pred = clf.predict(X_test)\n",
        "print(f'mse: {mse(y_test, y_pred)}, r2_score: {r2_score(y_test, y_pred)}\\n')"
      ],
      "metadata": {
        "colab": {
          "base_uri": "https://localhost:8080/"
        },
        "id": "r6mtwfOscTrP",
        "outputId": "60a4a8d6-cb40-4571-e75e-25f741148fd5"
      },
      "execution_count": 71,
      "outputs": [
        {
          "output_type": "stream",
          "name": "stdout",
          "text": [
            "mse: 1871.7272294534341, r2_score: -0.09753545533648267\n",
            "\n"
          ]
        }
      ]
    },
    {
      "cell_type": "markdown",
      "source": [
        "## Блендинг (0.5 балла)\n",
        "\n",
        "Реализуйте схему блендинга. Для этого разбейте **тестовую** выборку на *валидационную* и *тестовую* части, при необходимости также доработайте код класса `StackingRegressionSolver`. Используйте для обучения базовых моделей обучающую выборку, а для обучения метамодели - валидационную.\n",
        "\n",
        "Как изменилось качество? Как вы думаете, правдоподобнее ли выглядит такой результат?"
      ],
      "metadata": {
        "id": "_Y95u9XcqmeP"
      }
    },
    {
      "cell_type": "code",
      "source": [
        "class BlendingRegressionSolver:\n",
        "    def __init__(self, base_estimators: list, meta_estimator):\n",
        "        self._base_estimators = base_estimators\n",
        "        self._meta_estimator = meta_estimator\n",
        "\n",
        "    def _fit_base(self, X: pd.DataFrame, y: pd.Series) -> None:\n",
        "        for estimator in self._base_estimators:\n",
        "            estimator.fit(X, y)\n",
        "\n",
        "    def _predict_base(self, X: pd.DataFrame) -> pd.DataFrame:\n",
        "        meta_features = pd.DataFrame()\n",
        "        for estimator in self._base_estimators:\n",
        "            meta_features[type(estimator).__name__] = estimator.predict(X)\n",
        "        return meta_features\n",
        "\n",
        "    def fit(self, X_train, X_valid: pd.DataFrame, y_train, y_valid:pd.Series):\n",
        "        self._fit_base(X_train, y_train)\n",
        "        meta_features = self._predict_base(X_valid)\n",
        "        self._meta_estimator.fit(meta_features, y_valid)\n",
        "\n",
        "    def predict(self, X: pd.DataFrame) -> pd.Series:\n",
        "        meta_features = self._predict_base(X)\n",
        "        return self._meta_estimator.predict(meta_features)"
      ],
      "metadata": {
        "id": "t6JPX4o4rBP1"
      },
      "execution_count": 72,
      "outputs": []
    },
    {
      "cell_type": "code",
      "source": [
        "X_valid, X_new_test, y_valid, y_new_test = train_test_split(X_test, y_test, train_size=0.65, random_state=42)"
      ],
      "metadata": {
        "id": "RBCOWKH4_65R"
      },
      "execution_count": 73,
      "outputs": []
    },
    {
      "cell_type": "code",
      "source": [
        "blending_regressor = BlendingRegressionSolver([line_regression, svr], tree)\n",
        "blending_regressor.fit(X_train, X_valid, y_train, y_valid)\n",
        "y_pred = blending_regressor.predict(X_new_test)\n",
        "\n",
        "print(f'mse: {mse(y_new_test, y_pred)}, r2_score: {r2_score(y_new_test, y_pred)}\\n')"
      ],
      "metadata": {
        "colab": {
          "base_uri": "https://localhost:8080/"
        },
        "id": "mWD3v_6o_1Kc",
        "outputId": "928bd2ad-6d3e-41eb-b543-8076ea36efca"
      },
      "execution_count": 74,
      "outputs": [
        {
          "output_type": "stream",
          "name": "stdout",
          "text": [
            "mse: 1780.437845490899, r2_score: -0.369571082822884\n",
            "\n"
          ]
        }
      ]
    },
    {
      "cell_type": "markdown",
      "source": [
        "**Ответ:** качество не улучшилось"
      ],
      "metadata": {
        "id": "VGN1B1fBIC8W"
      }
    },
    {
      "cell_type": "markdown",
      "source": [
        "# Бэггинг (максимум 3 балла)"
      ],
      "metadata": {
        "id": "bu3-DYDlqKhT"
      }
    },
    {
      "cell_type": "markdown",
      "source": [
        "В этой секции аналогично нужно решить задачу при помощи бэггинга - сначала написанного самостоятельно, а затем взятого из sklearn."
      ],
      "metadata": {
        "id": "UIJY9_baafxr"
      }
    },
    {
      "cell_type": "markdown",
      "source": [
        "## Бэггинг своими руками (2 балла)"
      ],
      "metadata": {
        "id": "cWrKsOxerRUC"
      }
    },
    {
      "cell_type": "markdown",
      "source": [
        "Решите задачу, используя в качестве базовой модели линейную регрессию, дерево и SVM. Какой из алгоритмов в качестве базовой модели дает лучший результат? Почему, как вы думаете?"
      ],
      "metadata": {
        "id": "frsguFTtawet"
      }
    },
    {
      "cell_type": "code",
      "source": [
        "from typing import Tuple\n",
        "\n",
        "\n",
        "class BaggingRegressionSolver:\n",
        "    def __init__(\n",
        "        self,\n",
        "        base_estimator_ctor,\n",
        "        max_samples: float = 1,\n",
        "        n_estimators: int = 10,\n",
        "        sample_random_state=42,\n",
        "        **model_kwargs\n",
        "    ):\n",
        "        if max_samples < 0 or max_samples > 1:\n",
        "            raise ValueError\n",
        "        self._estimators = [\n",
        "            base_estimator_ctor(**model_kwargs) for _ in range(n_estimators)\n",
        "        ]\n",
        "        self.n_estimators = n_estimators\n",
        "        self._max_samples = max_samples\n",
        "        self._random_state = sample_random_state\n",
        "\n",
        "    def _sample_data(self, X: pd.DataFrame, y: pd.Series) -> Tuple[pd.DataFrame, pd.Series]:\n",
        "        x_i = X.sample(frac=self._max_samples, random_state=self._random_state)\n",
        "        y_i = y.loc[x_i.index]\n",
        "        return x_i, y_i\n",
        "\n",
        "    def fit(self, X: pd.DataFrame, y: pd.Series):\n",
        "        for estimator in self._estimators:\n",
        "            x_i, y_i = self._sample_data(X, y)\n",
        "            estimator.fit(x_i, y_i)\n",
        "\n",
        "    def predict(self, X: pd.DataFrame) -> pd.Series:\n",
        "        pred = pd.DataFrame()\n",
        "        for i in range(self.n_estimators):\n",
        "            pred[i] = self._estimators[i].predict(X)\n",
        "        return pred.mean(axis=1)"
      ],
      "metadata": {
        "id": "M6TGRabcnSxG"
      },
      "execution_count": 75,
      "outputs": []
    },
    {
      "cell_type": "code",
      "source": [
        "estimators = [LinearRegression, DecisionTreeRegressor, LinearSVR]\n",
        "\n",
        "for estimator in estimators:\n",
        "    bagging_regressor = BaggingRegressionSolver(estimator, n_estimators=10, max_samples=0.5)\n",
        "    bagging_regressor.fit(X_train, y_train)\n",
        "    y_pred = bagging_regressor.predict(X_test)\n",
        "    print(f'base_estimator_ctor: {estimator}')\n",
        "    print(f'mse: {mse(y_test, y_pred)}, r2_score: {r2_score(y_test, y_pred)}\\n')"
      ],
      "metadata": {
        "id": "R7E2FbSHa_Hf",
        "colab": {
          "base_uri": "https://localhost:8080/"
        },
        "outputId": "db792501-f6db-4451-8aed-257ab4c12062"
      },
      "execution_count": 76,
      "outputs": [
        {
          "output_type": "stream",
          "name": "stdout",
          "text": [
            "base_estimator_ctor: <class 'sklearn.linear_model._base.LinearRegression'>\n",
            "mse: 1394.7455912546416, r2_score: 0.18215500982842403\n",
            "\n",
            "base_estimator_ctor: <class 'sklearn.tree._classes.DecisionTreeRegressor'>\n",
            "mse: 1851.9907673363248, r2_score: -0.0859624725879451\n",
            "\n",
            "base_estimator_ctor: <class 'sklearn.svm._classes.LinearSVR'>\n",
            "mse: 1417.8653120696292, r2_score: 0.1685981662282272\n",
            "\n"
          ]
        }
      ]
    },
    {
      "cell_type": "markdown",
      "source": [
        "**Ответ:** лучше всего справились деревья, попробуем улучшить результат, подобрав гиперпараметры для деревьев"
      ],
      "metadata": {
        "id": "rMvB97kONcjk"
      }
    },
    {
      "cell_type": "code",
      "source": [
        "for n_estimators in range(10, 51, 2):\n",
        "  for max_samples in np.arange(0.01, 1, 0.2):  \n",
        "    bagging_regressor = BaggingRegressionSolver(DecisionTreeRegressor, n_estimators=n_estimators, max_samples=max_samples)\n",
        "    bagging_regressor.fit(X_train, y_train)\n",
        "    y_pred = bagging_regressor.predict(X_test)\n",
        "    print(f'n_estimators: {n_estimators}, max_samples: {max_samples}')\n",
        "    print(f'mse: {mse(y_test, y_pred)}, r2_score: {r2_score(y_test, y_pred)}\\n')"
      ],
      "metadata": {
        "colab": {
          "base_uri": "https://localhost:8080/"
        },
        "id": "bCBgPj7LNovb",
        "outputId": "159898fe-d4c5-4dcf-9ec5-301b35af64fa"
      },
      "execution_count": 77,
      "outputs": [
        {
          "output_type": "stream",
          "name": "stdout",
          "text": [
            "n_estimators: 10, max_samples: 0.01\n",
            "mse: 1611.9597149086037, r2_score: 0.05478591546541578\n",
            "\n",
            "n_estimators: 10, max_samples: 0.21000000000000002\n",
            "mse: 1935.512132553928, r2_score: -0.1349373756410972\n",
            "\n",
            "n_estimators: 10, max_samples: 0.41000000000000003\n",
            "mse: 1856.607436399723, r2_score: -0.08866957536601072\n",
            "\n",
            "n_estimators: 10, max_samples: 0.6100000000000001\n",
            "mse: 1877.0282878873927, r2_score: -0.1006438674440413\n",
            "\n",
            "n_estimators: 10, max_samples: 0.81\n",
            "mse: 1687.9136555958582, r2_score: 0.010248366636183448\n",
            "\n",
            "n_estimators: 12, max_samples: 0.01\n",
            "mse: 1620.3684066310493, r2_score: 0.04985526256196182\n",
            "\n",
            "n_estimators: 12, max_samples: 0.21000000000000002\n",
            "mse: 1895.3708198989602, r2_score: -0.11139948338345262\n",
            "\n",
            "n_estimators: 12, max_samples: 0.41000000000000003\n",
            "mse: 1889.9991587126508, r2_score: -0.10824967153413168\n",
            "\n",
            "n_estimators: 12, max_samples: 0.6100000000000001\n",
            "mse: 1911.9303455846823, r2_score: -0.12110958765379687\n",
            "\n",
            "n_estimators: 12, max_samples: 0.81\n",
            "mse: 1702.8170741453102, r2_score: 0.0015093634276233114\n",
            "\n",
            "n_estimators: 14, max_samples: 0.01\n",
            "mse: 1609.7757113104062, r2_score: 0.05606656221024309\n",
            "\n",
            "n_estimators: 14, max_samples: 0.21000000000000002\n",
            "mse: 1855.343230673048, r2_score: -0.08792827578665374\n",
            "\n",
            "n_estimators: 14, max_samples: 0.41000000000000003\n",
            "mse: 1887.5771997121394, r2_score: -0.10682949351214033\n",
            "\n",
            "n_estimators: 14, max_samples: 0.6100000000000001\n",
            "mse: 1888.2538586365415, r2_score: -0.10722626989548001\n",
            "\n",
            "n_estimators: 14, max_samples: 0.81\n",
            "mse: 1685.9130780464088, r2_score: 0.011421456794364238\n",
            "\n",
            "n_estimators: 16, max_samples: 0.01\n",
            "mse: 1609.373626932332, r2_score: 0.05630233473843482\n",
            "\n",
            "n_estimators: 16, max_samples: 0.21000000000000002\n",
            "mse: 1962.72486717326, r2_score: -0.15089426327482625\n",
            "\n",
            "n_estimators: 16, max_samples: 0.41000000000000003\n",
            "mse: 1866.4457275912623, r2_score: -0.09443851072834564\n",
            "\n",
            "n_estimators: 16, max_samples: 0.6100000000000001\n",
            "mse: 1870.4008258685515, r2_score: -0.09675768444145816\n",
            "\n",
            "n_estimators: 16, max_samples: 0.81\n",
            "mse: 1703.3638437027791, r2_score: 0.001188751019053469\n",
            "\n",
            "n_estimators: 18, max_samples: 0.01\n",
            "mse: 1608.3123433211613, r2_score: 0.05692464571040656\n",
            "\n",
            "n_estimators: 18, max_samples: 0.21000000000000002\n",
            "mse: 1860.8906035982427, r2_score: -0.09118112073840057\n",
            "\n",
            "n_estimators: 18, max_samples: 0.41000000000000003\n",
            "mse: 1873.4794483593687, r2_score: -0.0985629140091524\n",
            "\n",
            "n_estimators: 18, max_samples: 0.6100000000000001\n",
            "mse: 1897.5204485091654, r2_score: -0.11265997346896306\n",
            "\n",
            "n_estimators: 18, max_samples: 0.81\n",
            "mse: 1695.9567572997782, r2_score: 0.005532086853521356\n",
            "\n",
            "n_estimators: 20, max_samples: 0.01\n",
            "mse: 1609.7487542145968, r2_score: 0.05608236919747833\n",
            "\n",
            "n_estimators: 20, max_samples: 0.21000000000000002\n",
            "mse: 1900.5938629396042, r2_score: -0.11446214915635444\n",
            "\n",
            "n_estimators: 20, max_samples: 0.41000000000000003\n",
            "mse: 1869.0849237472137, r2_score: -0.09598607134998072\n",
            "\n",
            "n_estimators: 20, max_samples: 0.6100000000000001\n",
            "mse: 1904.2802814071626, r2_score: -0.11662377554490377\n",
            "\n",
            "n_estimators: 20, max_samples: 0.81\n",
            "mse: 1697.6181519274962, r2_score: 0.00455788533498136\n",
            "\n",
            "n_estimators: 22, max_samples: 0.01\n",
            "mse: 1616.2637709239352, r2_score: 0.052262121397430805\n",
            "\n",
            "n_estimators: 22, max_samples: 0.21000000000000002\n",
            "mse: 1982.252430482368, r2_score: -0.16234475282844163\n",
            "\n",
            "n_estimators: 22, max_samples: 0.41000000000000003\n",
            "mse: 1891.824962322863, r2_score: -0.1093202784928573\n",
            "\n",
            "n_estimators: 22, max_samples: 0.6100000000000001\n",
            "mse: 1897.3340231921864, r2_score: -0.11255065818416243\n",
            "\n",
            "n_estimators: 22, max_samples: 0.81\n",
            "mse: 1694.6758909888906, r2_score: 0.0062831557954181605\n",
            "\n",
            "n_estimators: 24, max_samples: 0.01\n",
            "mse: 1608.2493836868325, r2_score: 0.05696156371311745\n",
            "\n",
            "n_estimators: 24, max_samples: 0.21000000000000002\n",
            "mse: 1864.0385630381345, r2_score: -0.09302700781151385\n",
            "\n",
            "n_estimators: 24, max_samples: 0.41000000000000003\n",
            "mse: 1880.775798177876, r2_score: -0.10284131659599116\n",
            "\n",
            "n_estimators: 24, max_samples: 0.6100000000000001\n",
            "mse: 1883.3296493175887, r2_score: -0.10433883296984048\n",
            "\n",
            "n_estimators: 24, max_samples: 0.81\n",
            "mse: 1697.2522067970508, r2_score: 0.004772466684791032\n",
            "\n",
            "n_estimators: 26, max_samples: 0.01\n",
            "mse: 1621.599940285666, r2_score: 0.04913312109331602\n",
            "\n",
            "n_estimators: 26, max_samples: 0.21000000000000002\n",
            "mse: 1932.323048791344, r2_score: -0.13306737426247972\n",
            "\n",
            "n_estimators: 26, max_samples: 0.41000000000000003\n",
            "mse: 1872.6450272130805, r2_score: -0.09807362968485434\n",
            "\n",
            "n_estimators: 26, max_samples: 0.6100000000000001\n",
            "mse: 1870.2336479299058, r2_score: -0.09665965535253607\n",
            "\n",
            "n_estimators: 26, max_samples: 0.81\n",
            "mse: 1691.34373808671, r2_score: 0.008237049447867517\n",
            "\n",
            "n_estimators: 28, max_samples: 0.01\n",
            "mse: 1617.9989463192117, r2_score: 0.0512446566260818\n",
            "\n",
            "n_estimators: 28, max_samples: 0.21000000000000002\n",
            "mse: 1886.6508426130533, r2_score: -0.1062863001746972\n",
            "\n",
            "n_estimators: 28, max_samples: 0.41000000000000003\n",
            "mse: 1886.7350534189657, r2_score: -0.10633567934905397\n",
            "\n",
            "n_estimators: 28, max_samples: 0.6100000000000001\n",
            "mse: 1887.0978330628488, r2_score: -0.10654840453431103\n",
            "\n",
            "n_estimators: 28, max_samples: 0.81\n",
            "mse: 1698.3272836948133, r2_score: 0.004142067664068327\n",
            "\n",
            "n_estimators: 30, max_samples: 0.01\n",
            "mse: 1613.041590381728, r2_score: 0.05415152992497596\n",
            "\n",
            "n_estimators: 30, max_samples: 0.21000000000000002\n",
            "mse: 1958.2785451718355, r2_score: -0.14828704788274627\n",
            "\n",
            "n_estimators: 30, max_samples: 0.41000000000000003\n",
            "mse: 1876.7510289259917, r2_score: -0.10048128951299518\n",
            "\n",
            "n_estimators: 30, max_samples: 0.6100000000000001\n",
            "mse: 1873.0874781264574, r2_score: -0.09833307217040232\n",
            "\n",
            "n_estimators: 30, max_samples: 0.81\n",
            "mse: 1690.3140495162206, r2_score: 0.008840833854207975\n",
            "\n",
            "n_estimators: 32, max_samples: 0.01\n",
            "mse: 1616.1484473543555, r2_score: 0.05232974434187365\n",
            "\n",
            "n_estimators: 32, max_samples: 0.21000000000000002\n",
            "mse: 1943.198144913322, r2_score: -0.1394442668920477\n",
            "\n",
            "n_estimators: 32, max_samples: 0.41000000000000003\n",
            "mse: 1868.68913026739, r2_score: -0.09575398765196019\n",
            "\n",
            "n_estimators: 32, max_samples: 0.6100000000000001\n",
            "mse: 1886.2139026031364, r2_score: -0.10603008914929113\n",
            "\n",
            "n_estimators: 32, max_samples: 0.81\n",
            "mse: 1699.0492481575006, r2_score: 0.003718725211801055\n",
            "\n",
            "n_estimators: 34, max_samples: 0.01\n",
            "mse: 1611.1816066099288, r2_score: 0.055242179301539185\n",
            "\n",
            "n_estimators: 34, max_samples: 0.21000000000000002\n",
            "mse: 1992.1751986594354, r2_score: -0.16816322344640455\n",
            "\n",
            "n_estimators: 34, max_samples: 0.41000000000000003\n",
            "mse: 1864.904537582654, r2_score: -0.0935347942833209\n",
            "\n",
            "n_estimators: 34, max_samples: 0.6100000000000001\n",
            "mse: 1894.801176967421, r2_score: -0.11106545858303973\n",
            "\n",
            "n_estimators: 34, max_samples: 0.81\n",
            "mse: 1687.6748790450408, r2_score: 0.010388379414915994\n",
            "\n",
            "n_estimators: 36, max_samples: 0.01\n",
            "mse: 1613.8135293137805, r2_score: 0.05369888365582398\n",
            "\n",
            "n_estimators: 36, max_samples: 0.21000000000000002\n",
            "mse: 1952.393767860954, r2_score: -0.14483635718176302\n",
            "\n",
            "n_estimators: 36, max_samples: 0.41000000000000003\n",
            "mse: 1886.0077634986626, r2_score: -0.10590921417759058\n",
            "\n",
            "n_estimators: 36, max_samples: 0.6100000000000001\n",
            "mse: 1887.1874300961838, r2_score: -0.1066009420618046\n",
            "\n",
            "n_estimators: 36, max_samples: 0.81\n",
            "mse: 1705.1303261097066, r2_score: 0.00015292857531135073\n",
            "\n",
            "n_estimators: 38, max_samples: 0.01\n",
            "mse: 1614.4459532693843, r2_score: 0.053328045585427364\n",
            "\n",
            "n_estimators: 38, max_samples: 0.21000000000000002\n",
            "mse: 1877.3303389130429, r2_score: -0.10082098284032082\n",
            "\n",
            "n_estimators: 38, max_samples: 0.41000000000000003\n",
            "mse: 1875.011713593024, r2_score: -0.09946139718258329\n",
            "\n",
            "n_estimators: 38, max_samples: 0.6100000000000001\n",
            "mse: 1857.0509578627516, r2_score: -0.08892964559591232\n",
            "\n",
            "n_estimators: 38, max_samples: 0.81\n",
            "mse: 1696.9980650831071, r2_score: 0.004921489222553976\n",
            "\n",
            "n_estimators: 40, max_samples: 0.01\n",
            "mse: 1613.0322759018036, r2_score: 0.054156991710114344\n",
            "\n",
            "n_estimators: 40, max_samples: 0.21000000000000002\n",
            "mse: 1939.5122229753235, r2_score: -0.13728293165639083\n",
            "\n",
            "n_estimators: 40, max_samples: 0.41000000000000003\n",
            "mse: 1867.608857094977, r2_score: -0.09512054166179951\n",
            "\n",
            "n_estimators: 40, max_samples: 0.6100000000000001\n",
            "mse: 1905.3398980050056, r2_score: -0.11724510902068763\n",
            "\n",
            "n_estimators: 40, max_samples: 0.81\n",
            "mse: 1697.6215037571867, r2_score: 0.00455591990333748\n",
            "\n",
            "n_estimators: 42, max_samples: 0.01\n",
            "mse: 1611.2013561538397, r2_score: 0.05523059864794411\n",
            "\n",
            "n_estimators: 42, max_samples: 0.21000000000000002\n",
            "mse: 1951.2800319215476, r2_score: -0.14418328943655623\n",
            "\n",
            "n_estimators: 42, max_samples: 0.41000000000000003\n",
            "mse: 1858.4641123313213, r2_score: -0.08975828510530004\n",
            "\n",
            "n_estimators: 42, max_samples: 0.6100000000000001\n",
            "mse: 1883.264016011733, r2_score: -0.10430034719098646\n",
            "\n",
            "n_estimators: 42, max_samples: 0.81\n",
            "mse: 1698.8367101067245, r2_score: 0.0038433523704297645\n",
            "\n",
            "n_estimators: 44, max_samples: 0.01\n",
            "mse: 1610.2860028314153, r2_score: 0.055767339637609714\n",
            "\n",
            "n_estimators: 44, max_samples: 0.21000000000000002\n",
            "mse: 1991.1045275430965, r2_score: -0.16753540786906207\n",
            "\n",
            "n_estimators: 44, max_samples: 0.41000000000000003\n",
            "mse: 1887.1250509093147, r2_score: -0.10656436441940742\n",
            "\n",
            "n_estimators: 44, max_samples: 0.6100000000000001\n",
            "mse: 1896.5934097388367, r2_score: -0.112116380416035\n",
            "\n",
            "n_estimators: 44, max_samples: 0.81\n",
            "mse: 1689.5989483379656, r2_score: 0.009260151842928499\n",
            "\n",
            "n_estimators: 46, max_samples: 0.01\n",
            "mse: 1613.0917967222642, r2_score: 0.05412209014445968\n",
            "\n",
            "n_estimators: 46, max_samples: 0.21000000000000002\n",
            "mse: 1893.7629597758612, r2_score: -0.11045667320013441\n",
            "\n",
            "n_estimators: 46, max_samples: 0.41000000000000003\n",
            "mse: 1907.1562568571485, r2_score: -0.11831017780233011\n",
            "\n",
            "n_estimators: 46, max_samples: 0.6100000000000001\n",
            "mse: 1876.4493854851044, r2_score: -0.10030441311453586\n",
            "\n",
            "n_estimators: 46, max_samples: 0.81\n",
            "mse: 1694.8089899082756, r2_score: 0.006205109816926679\n",
            "\n",
            "n_estimators: 48, max_samples: 0.01\n",
            "mse: 1614.8458383722548, r2_score: 0.053093562658879656\n",
            "\n",
            "n_estimators: 48, max_samples: 0.21000000000000002\n",
            "mse: 1858.8605407873529, r2_score: -0.08999074113797012\n",
            "\n",
            "n_estimators: 48, max_samples: 0.41000000000000003\n",
            "mse: 1874.1037055741076, r2_score: -0.09892896330076106\n",
            "\n",
            "n_estimators: 48, max_samples: 0.6100000000000001\n",
            "mse: 1880.3543808906086, r2_score: -0.10259420771869876\n",
            "\n",
            "n_estimators: 48, max_samples: 0.81\n",
            "mse: 1696.3940069905095, r2_score: 0.005275694238795703\n",
            "\n",
            "n_estimators: 50, max_samples: 0.01\n",
            "mse: 1609.6421635809706, r2_score: 0.056144871360064075\n",
            "\n",
            "n_estimators: 50, max_samples: 0.21000000000000002\n",
            "mse: 1926.4863650018947, r2_score: -0.12964488443612887\n",
            "\n",
            "n_estimators: 50, max_samples: 0.41000000000000003\n",
            "mse: 1876.2322038840236, r2_score: -0.10017706309062135\n",
            "\n",
            "n_estimators: 50, max_samples: 0.6100000000000001\n",
            "mse: 1882.607656854415, r2_score: -0.10391547409876689\n",
            "\n",
            "n_estimators: 50, max_samples: 0.81\n",
            "mse: 1698.519647365392, r2_score: 0.0040292702727302565\n",
            "\n"
          ]
        }
      ]
    },
    {
      "cell_type": "markdown",
      "source": [
        "Лучший результат при n_estimators=12, max_samples=0.81"
      ],
      "metadata": {
        "id": "1Z5qyalXTq_j"
      }
    },
    {
      "cell_type": "markdown",
      "source": [
        "## Использование встроенной модели бэггинга (1 балл)\n",
        "\n",
        "Решите задачу, используя:\n",
        "- `sklearn.ensemble.BaggingRegressor`. В качестве базовой модели попробуйте линейную регрессию, дерево и SVM\n",
        "- `sklearn.ensemble.RandomForestRegressor`\n",
        "\n",
        "Какая модель дает лучший результат? Попробуйте улучшить его, перебрав несколько гиперпараметров (как у базовой модели, так и у ансамбля).\n",
        "\n"
      ],
      "metadata": {
        "id": "jLVRU23TrTfj"
      }
    },
    {
      "cell_type": "code",
      "source": [
        "estimators = [line_regression, tree, svr]\n",
        "\n",
        "for estimator in estimators:\n",
        "    bagg = BaggingRegressor(estimator, n_estimators=12)\n",
        "    bagg.fit(X_train, y_train)\n",
        "    y_pred = bagg.predict(X_test)\n",
        "\n",
        "    print(f'base_estimator_ctor: {estimator}')\n",
        "    print(f'mse: {mse(y_test, y_pred)}, r2_score: {r2_score(y_test, y_pred)}\\n')"
      ],
      "metadata": {
        "id": "ugjjfpES2kk1",
        "colab": {
          "base_uri": "https://localhost:8080/"
        },
        "outputId": "e65319ab-6d85-4fcc-a1a5-306912229f00"
      },
      "execution_count": 78,
      "outputs": [
        {
          "output_type": "stream",
          "name": "stdout",
          "text": [
            "base_estimator_ctor: LinearRegression()\n",
            "mse: 1373.0515609819633, r2_score: 0.19487586306960925\n",
            "\n",
            "base_estimator_ctor: DecisionTreeRegressor(max_depth=10)\n",
            "mse: 1823.2434355661903, r2_score: -0.06910573440112255\n",
            "\n",
            "base_estimator_ctor: LinearSVR()\n",
            "mse: 1427.085492276405, r2_score: 0.16319167615729802\n",
            "\n"
          ]
        }
      ]
    },
    {
      "cell_type": "markdown",
      "source": [
        "**Ответ:** лучший результат при деревьях"
      ],
      "metadata": {
        "id": "neb6xa0aWUYo"
      }
    },
    {
      "cell_type": "code",
      "source": [
        "for max_depth in range(10, 20):\n",
        "    tree = DecisionTreeRegressor(random_state=42, max_depth=max_depth)\n",
        "    bagg = BaggingRegressor(tree, n_estimators=10)\n",
        "    bagg.fit(X_train, y_train)\n",
        "    y_pred = bagg.predict(X_test)\n",
        "\n",
        "    print(f'max_depth: {max_depth}')\n",
        "    print(f'mse: {mse(y_test, y_pred)}, r2_score: {r2_score(y_test, y_pred)}\\n')\n"
      ],
      "metadata": {
        "colab": {
          "base_uri": "https://localhost:8080/"
        },
        "id": "Y9Xg0TTrVfi1",
        "outputId": "5881bea0-faec-4b06-899e-df0b601aa3fd"
      },
      "execution_count": 79,
      "outputs": [
        {
          "output_type": "stream",
          "name": "stdout",
          "text": [
            "max_depth: 10\n",
            "mse: 1534.5551940626592, r2_score: 0.10017404932109719\n",
            "\n",
            "max_depth: 11\n",
            "mse: 1971.2337054923937, r2_score: -0.1558836397138823\n",
            "\n",
            "max_depth: 12\n",
            "mse: 2491.467312146904, r2_score: -0.4609360102602198\n",
            "\n",
            "max_depth: 13\n",
            "mse: 2012.4549501422796, r2_score: -0.18005477790347868\n",
            "\n",
            "max_depth: 14\n",
            "mse: 2050.7704210706906, r2_score: -0.2025220408518973\n",
            "\n",
            "max_depth: 15\n",
            "mse: 1750.3157894247186, r2_score: -0.026342731301642663\n",
            "\n",
            "max_depth: 16\n",
            "mse: 2135.3599676303033, r2_score: -0.2521232995391056\n",
            "\n",
            "max_depth: 17\n",
            "mse: 2920.0242897240437, r2_score: -0.7122314288026441\n",
            "\n",
            "max_depth: 18\n",
            "mse: 1672.8331549782636, r2_score: 0.0190912064750135\n",
            "\n",
            "max_depth: 19\n",
            "mse: 2103.6273007093355, r2_score: -0.23351603321840564\n",
            "\n"
          ]
        }
      ]
    },
    {
      "cell_type": "markdown",
      "source": [
        "Лучший результат при глубине 18"
      ],
      "metadata": {
        "id": "ZYBrM-MDXEhn"
      }
    },
    {
      "cell_type": "markdown",
      "source": [
        "# Бустинг (максимум 3 балла)"
      ],
      "metadata": {
        "id": "H-jNmNEEqMU6"
      }
    },
    {
      "cell_type": "markdown",
      "source": [
        "## Бустинг своими руками (2 балла)\n",
        "\n",
        "Решите задачу при помощи алгоритма бустинга, используя в качестве базовой модели:\n",
        "- Линейную регрессию\n",
        "- Дерево\n",
        "- Случайный лес\n",
        "\n",
        "Какая модель дает лучший результат? Попробуйте улучшить его, перебрав несколько гиперпараметров (как у базовой модели, так и у ансамбля)."
      ],
      "metadata": {
        "id": "dd9LV-ot4cke"
      }
    },
    {
      "cell_type": "code",
      "source": [
        "from abc import ABC, abstractmethod\n",
        "from collections import deque\n",
        "from typing import Tuple\n",
        "\n",
        "from sklearn.dummy import DummyRegressor\n",
        "\n",
        "\n",
        "class Loss(ABC):\n",
        "    \"\"\"\n",
        "    Базовый класс для функции потерь\n",
        "    \"\"\"\n",
        "    @abstractmethod\n",
        "    def forward(self, y_true: pd.Series, y_pred: pd.Series) -> float:\n",
        "        \"\"\"\n",
        "        Метод, вычисляющий значение функции потерь\n",
        "        \"\"\"\n",
        "        pass\n",
        "\n",
        "    @abstractmethod\n",
        "    def backward(self, y_true: pd.Series, y_pred: pd.Series) -> pd.Series:\n",
        "        \"\"\"\n",
        "        Метод, вычисляющий значение градиента функции потерь по предсказаниям модели\n",
        "        \"\"\"\n",
        "        pass\n",
        "\n",
        "\n",
        "class MSELoss(Loss):\n",
        "    def forward(self, y_pred: pd.Series, y_true: pd.Series) -> float:  # посчитаем значение ошибки\n",
        "        return ((np.array(y_pred) - np.array(y_true)) ** 2).mean()\n",
        "\n",
        "    def backward(self, y_pred: pd.Series, y_true: pd.Series) -> pd.Series:  # посчитаем производную по выходам модели\n",
        "        return np.array(y_true) - np.array(y_pred)\n",
        "\n",
        "\n",
        "class GradientBoostingRegressionSolver:\n",
        "    def __init__(\n",
        "        self,\n",
        "        base_estimator_ctor,\n",
        "        n_estimators: int = 10,\n",
        "        loss: Loss = MSELoss(),\n",
        "        learning_rate: float = 0.1,\n",
        "        early_stopping: int = 5,\n",
        "        **model_kwargs\n",
        "    ):\n",
        "        if early_stopping < 0:\n",
        "            raise ValueError\n",
        "\n",
        "        self._ctor = base_estimator_ctor\n",
        "        self._kwargs = model_kwargs\n",
        "        self._n_estimators = n_estimators\n",
        "        self._estimators = []\n",
        "        self._early_stopping = early_stopping\n",
        "        self._loss = loss\n",
        "        self._lr = learning_rate\n",
        "        self._random_state = 42\n",
        "\n",
        "    def _sample_data(self, X: pd.DataFrame, y: pd.Series, frac: float) -> Tuple[pd.DataFrame, pd.Series]:\n",
        "        x_sample = X.sample(frac=frac, random_state=self._random_state)\n",
        "        y_sample = y.loc[x_sample.index]\n",
        "        return x_sample, y_sample\n",
        "\n",
        "    def _split_data(self, X: pd.DataFrame, y: pd.Series, val_size: float) -> Tuple[pd.DataFrame, pd.DataFrame, pd.Series, pd.Series]:\n",
        "        x_val, y_val = self._sample_data(X, y, val_size)\n",
        "        x_train, y_train = X[~X.index.isin(x_val.index)], y[~y.index.isin(y_val.index)]\n",
        "        return x_train, x_val, y_train, y_val\n",
        "\n",
        "    def predict(self, X: pd.DataFrame) -> pd.Series:\n",
        "        pred = pd.DataFrame()\n",
        "        for i in range(len(self._estimators)):\n",
        "            pred[i] = self._estimators[i].predict(X)\n",
        "        return pred.sum(axis=1)\n",
        "\n",
        "    def fit(self, X: pd.DataFrame, y: pd.Series, val_size: float = 0.1):\n",
        "        x_train, x_val, y_train, y_val = self._split_data(X, y, val_size)  # Хотим получить валидационную выборку, не тратя на это время снаружи\n",
        "        base_estimator = DummyRegressor()  # Создадим и обучим базовую модель\n",
        "        base_estimator.fit(x_train, y_train)\n",
        "        self._estimators.append(base_estimator)  # Добавим базовую модель в список моделей\n",
        "\n",
        "        y_pred_train, y_pred_val = base_estimator.predict(x_train), base_estimator.predict(x_val)  # Посчитаем предсказания как на обучающей, так и на валидационной выборках\n",
        "        train_loss= self._loss.forward(y_pred_train, y_train)  # Посчитаем значение функции потерь для обучения\n",
        "        val_loss = self._loss.forward(y_pred_val, y_val) # Посчитаем значение функции потерь для валидации\n",
        "        residuals = self._loss.backward(y_pred_train, y_train)*self._lr  # Посчитаем остатки, используя градиент функции потерь\n",
        "        \n",
        "        #print(f'train loss: {train_loss}, val loss: {val_loss}')\n",
        "\n",
        "        previous_val_loss, cnt = val_loss, 0\n",
        "        for i in range(self._n_estimators - 1):\n",
        "            estimator = self._ctor(**self._kwargs)  # Создадим очередную модель\n",
        "            # 1. Обучим её и добавим в список моделей\n",
        "            estimator.fit(x_train, residuals)\n",
        "            self._estimators.append(estimator)\n",
        "            # 2. Предскажем ВСЕМ ансамблем данные из обучающей выборки, то же самое сделаем для валидационной\n",
        "            y_pred_train = self.predict(x_train)\n",
        "            y_pred_val = self.predict(x_val)\n",
        "            # 3. Посчитаем значения функции потерь (на обучении и валидации)\n",
        "            train_loss = self._loss.forward(y_pred_train, y_train)\n",
        "            val_loss =  self._loss.forward(y_pred_val, y_val)\n",
        "            # 4. Обновим остатки для обучающей выборки\n",
        "            residuals = self._loss.backward(y_pred_train, y_train) * self._lr\n",
        "            #print(f'train loss: {train_loss}, val loss: {val_loss}')\n",
        "            # Если валидационный лосс несколько (self._early_stopping) шагов подряд не уменьшается, то остановим обучение\n",
        "            if cnt >= previous_val_loss:\n",
        "                cnt += 1\n",
        "            else:\n",
        "                cnt = 0\n",
        "            previous_val_loss = val_loss\n",
        "            if cnt == self._early_stopping:\n",
        "                print(f'Валидационный лосс не уменьшается {self._early_stopping} шагов подряд, остановим обучение')\n",
        "                break"
      ],
      "metadata": {
        "id": "Sx68FEOxmxw1"
      },
      "execution_count": 80,
      "outputs": []
    },
    {
      "cell_type": "markdown",
      "source": [
        "Вопросы на дополнительный балл:\n",
        "- Почему градиент по ответам мы берем со знаком минус?\n",
        "- Почему в обучении мы домножаем на `learning_rate`, а в предсказаниях этого не делаем?"
      ],
      "metadata": {
        "id": "1_Fgwz-JfRw6"
      }
    },
    {
      "cell_type": "code",
      "source": [
        "estimators = [LinearRegression, DecisionTreeRegressor, RandomForestRegressor]\n",
        "\n",
        "for estimator in estimators:\n",
        "    boost = GradientBoostingRegressionSolver(estimator)\n",
        "    boost.fit(X_train, y_train)\n",
        "    y_pred = boost.predict(X_test)\n",
        "\n",
        "    print(f'base_estimator_ctor: {estimator}')\n",
        "    print(f'mse: {mse(y_test, y_pred)}, r2_score: {r2_score(y_test, y_pred)}\\n')"
      ],
      "metadata": {
        "id": "IWQSDxWoc2Xq",
        "colab": {
          "base_uri": "https://localhost:8080/"
        },
        "outputId": "341b7704-23d9-4acc-ba16-a6650aa82f3d"
      },
      "execution_count": 81,
      "outputs": [
        {
          "output_type": "stream",
          "name": "stdout",
          "text": [
            "base_estimator_ctor: <class 'sklearn.linear_model._base.LinearRegression'>\n",
            "mse: 1431.8573127314555, r2_score: 0.16039359636580652\n",
            "\n",
            "base_estimator_ctor: <class 'sklearn.tree._classes.DecisionTreeRegressor'>\n",
            "mse: 2811.1402687734203, r2_score: -0.6483844795076841\n",
            "\n",
            "base_estimator_ctor: <class 'sklearn.ensemble._forest.RandomForestRegressor'>\n",
            "mse: 1584.0906455686081, r2_score: 0.0711276618623029\n",
            "\n"
          ]
        }
      ]
    },
    {
      "cell_type": "markdown",
      "source": [
        "**Ответ:** лучший результат на лесе"
      ],
      "metadata": {
        "id": "x7vXnkceo-nm"
      }
    },
    {
      "cell_type": "code",
      "source": [
        "def plot_fitting_curve(parameter: str, values: list, X_train, X_test, y_train, y_test, name='title', xlabel='xlabel', ylabel='ylabel'):\n",
        "    train_curve = []\n",
        "    test_curve = []\n",
        "    for value in values:\n",
        "        model = GradientBoostingRegressionSolver(RandomForestRegressor, **{parameter: value})\n",
        "        model.fit(X_train, y_train)\n",
        "        y_pred_train, y_pred_test = model.predict(X_train), model.predict(X_test)\n",
        "        train_curve.append(mse(y_train, y_pred_train))\n",
        "        test_curve.append(mse(y_test, y_pred_test))\n",
        "    sns.lineplot(x=values, y=train_curve, label='train').set(title=name, xlabel=xlabel, ylabel=ylabel)\n",
        "    sns.lineplot(x=values, y=test_curve, label='test')"
      ],
      "metadata": {
        "id": "1lK32MAGp4ec"
      },
      "execution_count": 82,
      "outputs": []
    },
    {
      "cell_type": "code",
      "source": [
        "plot_fitting_curve('max_depth', np.arange(2, 21, 2), X_train, X_test, y_train, y_test, name='max_depth', xlabel='max_depth', ylabel='score')"
      ],
      "metadata": {
        "colab": {
          "base_uri": "https://localhost:8080/",
          "height": 296
        },
        "id": "vMOKeaYCqGep",
        "outputId": "c4b0d9e0-7168-4394-ef04-63f52d5b2927"
      },
      "execution_count": 83,
      "outputs": [
        {
          "output_type": "display_data",
          "data": {
            "text/plain": [
              "<Figure size 432x288 with 1 Axes>"
            ],
            "image/png": "[encoded data removed]"
          },
          "metadata": {
            "needs_background": "light"
          }
        }
      ]
    },
    {
      "cell_type": "code",
      "source": [
        "plot_fitting_curve('n_estimators',  np.arange(5, 21, 5), X_train, X_test, y_train, y_test, name='n_estimators', xlabel='n_estimators', ylabel='score')"
      ],
      "metadata": {
        "colab": {
          "base_uri": "https://localhost:8080/",
          "height": 296
        },
        "id": "8Ar0v4YWrj1R",
        "outputId": "4460ab86-775e-4481-a873-59d5726c997b"
      },
      "execution_count": 84,
      "outputs": [
        {
          "output_type": "display_data",
          "data": {
            "text/plain": [
              "<Figure size 432x288 with 1 Axes>"
            ],
            "image/png": "[encoded data removed]"
          },
          "metadata": {
            "needs_background": "light"
          }
        }
      ]
    },
    {
      "cell_type": "code",
      "source": [
        "plot_fitting_curve('min_samples_split', np.arange(2, 20), X_train, X_test, y_train, y_test, name='min_samples_split', xlabel='min_samples_split', ylabel='score')"
      ],
      "metadata": {
        "colab": {
          "base_uri": "https://localhost:8080/",
          "height": 296
        },
        "id": "gf8GRsn6sSzz",
        "outputId": "d6a769ae-a2b8-4a7c-ef0b-7bbe53c56abb"
      },
      "execution_count": 85,
      "outputs": [
        {
          "output_type": "display_data",
          "data": {
            "text/plain": [
              "<Figure size 432x288 with 1 Axes>"
            ],
            "image/png": "[encoded data removed]"
          },
          "metadata": {
            "needs_background": "light"
          }
        }
      ]
    },
    {
      "cell_type": "code",
      "source": [
        "boost = GradientBoostingRegressionSolver(RandomForestRegressor, max_depth=5, min_samples_split=6, n_estimators=10)\n",
        "boost.fit(X_train, y_train)\n",
        "y_pred = boost.predict(X_test)\n",
        "\n",
        "print(f'base_estimator_ctor: {RandomForestRegressor}')\n",
        "print(f'mse: {mse(y_test, y_pred)}, r2_score: {r2_score(y_test, y_pred)}\\n')"
      ],
      "metadata": {
        "colab": {
          "base_uri": "https://localhost:8080/"
        },
        "id": "-ee3m_rOu-sb",
        "outputId": "db1e3003-c585-4852-ac16-1446b42a5763"
      },
      "execution_count": 86,
      "outputs": [
        {
          "output_type": "stream",
          "name": "stdout",
          "text": [
            "base_estimator_ctor: <class 'sklearn.ensemble._forest.RandomForestRegressor'>\n",
            "mse: 1607.6694384155371, r2_score: 0.05730162955571738\n",
            "\n"
          ]
        }
      ]
    },
    {
      "cell_type": "markdown",
      "source": [
        "# Catboost (1 балл)"
      ],
      "metadata": {
        "id": "Iul0dgvdqOIa"
      }
    },
    {
      "cell_type": "markdown",
      "source": [
        "Решите эту же задачу при помощи `catboost`, не перебирая гиперпараметры. Насколько лучше или хуже справился катбуст? В качестве эксперимента также попробуйте закинуть в него данные без предобработки (разумеется, выкинув ненужные колонки). Изменилось ли качество? Каким образом?"
      ],
      "metadata": {
        "id": "QIMRGkhP5KOk"
      }
    },
    {
      "cell_type": "code",
      "source": [
        "catboosting = CatBoostRegressor(metric_period=50, random_state=42)\n",
        "catboosting.fit(X_train, y_train)\n",
        "y_pred = catboosting.predict(X_test)\n",
        "\n",
        "print(f'mse: {mse(y_test, y_pred)}, r2_score: {r2_score(y_test, y_pred)}\\n')"
      ],
      "metadata": {
        "id": "e9ewnPfYqP5P",
        "colab": {
          "base_uri": "https://localhost:8080/"
        },
        "outputId": "66cf718f-6df1-4038-da12-b0a863133962"
      },
      "execution_count": 92,
      "outputs": [
        {
          "output_type": "stream",
          "name": "stdout",
          "text": [
            "Learning rate set to 0.05367\n",
            "0:\tlearn: 48.2877724\ttotal: 4.91ms\tremaining: 4.91s\n",
            "50:\tlearn: 34.8255576\ttotal: 235ms\tremaining: 4.37s\n",
            "100:\tlearn: 29.3078506\ttotal: 374ms\tremaining: 3.33s\n",
            "150:\tlearn: 26.8487288\ttotal: 597ms\tremaining: 3.36s\n",
            "200:\tlearn: 25.5004871\ttotal: 854ms\tremaining: 3.39s\n",
            "250:\tlearn: 24.6712869\ttotal: 1.21s\tremaining: 3.6s\n",
            "300:\tlearn: 24.0301188\ttotal: 1.62s\tremaining: 3.75s\n",
            "350:\tlearn: 23.5266433\ttotal: 1.8s\tremaining: 3.33s\n",
            "400:\tlearn: 23.0420869\ttotal: 1.9s\tremaining: 2.84s\n",
            "450:\tlearn: 22.5529684\ttotal: 1.98s\tremaining: 2.41s\n",
            "500:\tlearn: 22.1748163\ttotal: 2.06s\tremaining: 2.06s\n",
            "550:\tlearn: 21.8030196\ttotal: 2.16s\tremaining: 1.76s\n",
            "600:\tlearn: 21.4846148\ttotal: 2.26s\tremaining: 1.5s\n",
            "650:\tlearn: 21.2102953\ttotal: 2.36s\tremaining: 1.26s\n",
            "700:\tlearn: 20.9729825\ttotal: 2.44s\tremaining: 1.04s\n",
            "750:\tlearn: 20.7316554\ttotal: 2.52s\tremaining: 837ms\n",
            "800:\tlearn: 20.5376977\ttotal: 2.62s\tremaining: 652ms\n",
            "850:\tlearn: 20.3259437\ttotal: 2.71s\tremaining: 474ms\n",
            "900:\tlearn: 20.0934787\ttotal: 2.79s\tremaining: 306ms\n",
            "950:\tlearn: 19.9122124\ttotal: 2.88s\tremaining: 149ms\n",
            "999:\tlearn: 19.7530517\ttotal: 2.96s\tremaining: 0us\n",
            "mse: 1535.7206496798951, r2_score: 0.09949065441108607\n",
            "\n"
          ]
        }
      ]
    },
    {
      "cell_type": "code",
      "source": [
        "X_train_new = X_train_new.drop(columns=[\"manufacturer\", \"condition\", \"amazon_category\", \"1_sub_category\", \"2_sub_category\", \"3_sub_category\"])\n",
        "X_test_new = X_test_new.drop(columns=[\"manufacturer\", \"condition\", \"amazon_category\", \"1_sub_category\", \"2_sub_category\", \"3_sub_category\"])"
      ],
      "metadata": {
        "id": "uBwyHQOOxHM1"
      },
      "execution_count": 97,
      "outputs": []
    },
    {
      "cell_type": "code",
      "source": [
        "catboosting.fit(X_train_new, y_train)\n",
        "y_pred = catboosting.predict(X_test_new)\n",
        "\n",
        "print(f'mse: {mse(y_test, y_pred)}, r2_score: {r2_score(y_test, y_pred)}\\n')"
      ],
      "metadata": {
        "colab": {
          "base_uri": "https://localhost:8080/"
        },
        "id": "k7sO6V0pxPcw",
        "outputId": "bc7b8d39-9074-40e8-9f34-fa6ba17ba978"
      },
      "execution_count": 98,
      "outputs": [
        {
          "output_type": "stream",
          "name": "stdout",
          "text": [
            "Learning rate set to 0.05367\n",
            "0:\tlearn: 48.7657250\ttotal: 2.37ms\tremaining: 2.37s\n",
            "50:\tlearn: 47.2544711\ttotal: 63.9ms\tremaining: 1.19s\n",
            "100:\tlearn: 46.8658673\ttotal: 124ms\tremaining: 1.11s\n",
            "150:\tlearn: 46.6884593\ttotal: 186ms\tremaining: 1.05s\n",
            "200:\tlearn: 46.4545373\ttotal: 267ms\tremaining: 1.06s\n",
            "250:\tlearn: 46.2984700\ttotal: 338ms\tremaining: 1.01s\n",
            "300:\tlearn: 46.1759020\ttotal: 400ms\tremaining: 928ms\n",
            "350:\tlearn: 46.0664447\ttotal: 463ms\tremaining: 857ms\n",
            "400:\tlearn: 45.9737387\ttotal: 546ms\tremaining: 815ms\n",
            "450:\tlearn: 45.8979389\ttotal: 608ms\tremaining: 740ms\n",
            "500:\tlearn: 45.8349759\ttotal: 678ms\tremaining: 675ms\n",
            "550:\tlearn: 45.7800725\ttotal: 738ms\tremaining: 602ms\n",
            "600:\tlearn: 45.7279410\ttotal: 808ms\tremaining: 536ms\n",
            "650:\tlearn: 45.6891223\ttotal: 877ms\tremaining: 470ms\n",
            "700:\tlearn: 45.6468587\ttotal: 941ms\tremaining: 402ms\n",
            "750:\tlearn: 45.6072473\ttotal: 1.01s\tremaining: 334ms\n",
            "800:\tlearn: 45.5776382\ttotal: 1.07s\tremaining: 267ms\n",
            "850:\tlearn: 45.5451077\ttotal: 1.14s\tremaining: 200ms\n",
            "900:\tlearn: 45.5119889\ttotal: 1.23s\tremaining: 135ms\n",
            "950:\tlearn: 45.4767145\ttotal: 1.29s\tremaining: 66.6ms\n",
            "999:\tlearn: 45.4537139\ttotal: 1.36s\tremaining: 0us\n",
            "mse: 1838.3978449130018, r2_score: -0.07799191252637483\n",
            "\n"
          ]
        }
      ]
    }
  ]
}