{
  "cells": [
    {
      "cell_type": "code",
      "execution_count": 306,
      "metadata": {
        "id": "y3DiadTG-ru-"
      },
      "outputs": [],
      "source": [
        "import pandas as pd\n",
        "import numpy as np\n",
        "from matplotlib import pyplot as plt\n",
        "from sklearn.dummy import DummyRegressor\n",
        "from sklearn.metrics import mean_squared_error as mse\n",
        "from sklearn.model_selection import train_test_split\n",
        "from sklearn.preprocessing import OneHotEncoder\n",
        "from sklearn.tree import DecisionTreeRegressor\n",
        "from sklearn.metrics import r2_score\n",
        "from sklearn.linear_model import LinearRegression\n",
        "import seaborn as sns"
      ]
    },
    {
      "cell_type": "markdown",
      "metadata": {
        "id": "-QpBS-Nd-fAO"
      },
      "source": [
        "# Домашняя работа: деревья решений"
      ]
    },
    {
      "cell_type": "markdown",
      "metadata": {
        "id": "1ZVCYFgU-5Tw"
      },
      "source": [
        "В этой домашней работе вам предстоит научиться предсказывать цены товаров из маркетплейса Azamon.\n",
        "\n",
        "Требования к домашней работе:\n",
        "- Во всех графиках должны быть подписи через title, legend, etc.\n",
        "- Во время обучения моделей проверяйте, что у вас не текут данные. Обычно это позитивно влияет на качество модели на тесте, но негативно влияет на оценку 🌚\n",
        "- Если вы сдаете работу в Google Colaboratory, убедитесь, что ваша тетрадка доступна по ссылке. Если в итоге по каким-то причинам тетрадка не будет открываться у преподавателя, задание не будет засчитано\n",
        "- Использование мемов допускается, но необходимо соблюдать меру. Несодержательная работа, состоящая только из мемов, получает 0 баллов."
      ]
    },
    {
      "cell_type": "markdown",
      "metadata": {
        "id": "JyTAlXb8CbXk"
      },
      "source": [
        "# Загрузка и подготовка данных"
      ]
    },
    {
      "cell_type": "code",
      "execution_count": 271,
      "metadata": {
        "id": "_Bfhk7qNskSS",
        "colab": {
          "base_uri": "https://localhost:8080/"
        },
        "outputId": "9a8b4c37-3cc0-4660-8759-a17d2cadf157"
      },
      "outputs": [
        {
          "output_type": "stream",
          "name": "stdout",
          "text": [
            "Downloading...\n",
            "From: https://drive.google.com/uc?id=18PVwZWFbpRbEHW-Hc8R0DUTl9CF1aQa0\n",
            "To: /content/data.csv\n",
            "\r  0% 0.00/30.0M [00:00<?, ?B/s]\r 89% 26.7M/30.0M [00:00<00:00, 265MB/s]\r100% 30.0M/30.0M [00:00<00:00, 274MB/s]\n"
          ]
        }
      ],
      "source": [
        "!gdown 18PVwZWFbpRbEHW-Hc8R0DUTl9CF1aQa0 -O data.csv"
      ]
    },
    {
      "cell_type": "code",
      "execution_count": 272,
      "metadata": {
        "id": "XFUHeIu3vcWD"
      },
      "outputs": [],
      "source": [
        "df = pd.read_csv('data.csv').drop(columns=[\n",
        "    'product_name',\n",
        "    'index',\n",
        "    'uniq_id',\n",
        "    'customers_who_bought_this_item_also_bought',\n",
        "    'items_customers_buy_after_viewing_this_item',\n",
        "    'sellers',\n",
        "    'description', # text\n",
        "    'product_information', # text\n",
        "    'product_description', # text\n",
        "    'customer_questions_and_answers', # text\n",
        "    'customer_reviews', # text\n",
        "])"
      ]
    },
    {
      "cell_type": "code",
      "execution_count": 273,
      "metadata": {
        "id": "Q5_j0kenwogy",
        "colab": {
          "base_uri": "https://localhost:8080/"
        },
        "outputId": "0ea91ba0-8664-4e3d-fae8-9f3da9fa3e39"
      },
      "outputs": [
        {
          "output_type": "execute_result",
          "data": {
            "text/plain": [
              "Index(['manufacturer', 'price', 'number_available_in_stock',\n",
              "       'number_of_reviews', 'number_of_answered_questions',\n",
              "       'average_review_rating', 'amazon_category_and_sub_category'],\n",
              "      dtype='object')"
            ]
          },
          "metadata": {},
          "execution_count": 273
        }
      ],
      "source": [
        "df.columns"
      ]
    },
    {
      "cell_type": "code",
      "execution_count": 274,
      "metadata": {
        "id": "Htzwn5h9wjri"
      },
      "outputs": [],
      "source": [
        "X, y = df.drop(columns=['price']), df.price"
      ]
    },
    {
      "cell_type": "markdown",
      "metadata": {
        "id": "O59k78A8C_yP"
      },
      "source": [
        "## Очистка данных (1 балл)\n",
        "\n",
        "Посмотрите на признаки. Есть ли в них пропуски? Какое соотношение между NaN'ами и общим количеством данных? Есть ли смысл выкидывать какие-либо данные из этого датасета?"
      ]
    },
    {
      "cell_type": "code",
      "source": [
        "df.shape"
      ],
      "metadata": {
        "colab": {
          "base_uri": "https://localhost:8080/"
        },
        "id": "icoIVQrLU_al",
        "outputId": "725191e7-d512-4580-c53c-a2889160b0af"
      },
      "execution_count": 275,
      "outputs": [
        {
          "output_type": "execute_result",
          "data": {
            "text/plain": [
              "(8547, 7)"
            ]
          },
          "metadata": {},
          "execution_count": 275
        }
      ]
    },
    {
      "cell_type": "code",
      "source": [
        "df.isna().sum()"
      ],
      "metadata": {
        "colab": {
          "base_uri": "https://localhost:8080/"
        },
        "id": "eSH4c0c0TOo6",
        "outputId": "a6cf4c5a-2717-4683-a7c6-1b5a635aec8f"
      },
      "execution_count": 276,
      "outputs": [
        {
          "output_type": "execute_result",
          "data": {
            "text/plain": [
              "manufacturer                           5\n",
              "price                                  0\n",
              "number_available_in_stock           2211\n",
              "number_of_reviews                     15\n",
              "number_of_answered_questions         673\n",
              "average_review_rating                 15\n",
              "amazon_category_and_sub_category     550\n",
              "dtype: int64"
            ]
          },
          "metadata": {},
          "execution_count": 276
        }
      ]
    },
    {
      "cell_type": "markdown",
      "source": [
        "**Мой текст:** Во всех признаках есть пропуски, удалим объекты, для которых больше 2х неизвестных признаков"
      ],
      "metadata": {
        "id": "G1S7QlKQwvFt"
      }
    },
    {
      "cell_type": "code",
      "execution_count": 277,
      "metadata": {
        "id": "hz7l2Z6mDcBi"
      },
      "outputs": [],
      "source": [
        "df = df.drop(index=df[df.isna().sum(axis=1) > 2].index)"
      ]
    },
    {
      "cell_type": "code",
      "source": [
        "df = df.reset_index(drop=True)"
      ],
      "metadata": {
        "id": "xGr6zmQF4LbO"
      },
      "execution_count": 278,
      "outputs": []
    },
    {
      "cell_type": "code",
      "source": [
        "df.isna().sum()"
      ],
      "metadata": {
        "colab": {
          "base_uri": "https://localhost:8080/"
        },
        "id": "dv-m4ULDv-qV",
        "outputId": "abbaa73d-d2a8-4f4c-d294-8f176a6a7139"
      },
      "execution_count": 279,
      "outputs": [
        {
          "output_type": "execute_result",
          "data": {
            "text/plain": [
              "manufacturer                           4\n",
              "price                                  0\n",
              "number_available_in_stock           2201\n",
              "number_of_reviews                     10\n",
              "number_of_answered_questions         665\n",
              "average_review_rating                 10\n",
              "amazon_category_and_sub_category     536\n",
              "dtype: int64"
            ]
          },
          "metadata": {},
          "execution_count": 279
        }
      ]
    },
    {
      "cell_type": "code",
      "source": [
        "X, y = df.drop(columns=['price']), df.price"
      ],
      "metadata": {
        "id": "A0Q9Hkwpxona"
      },
      "execution_count": 280,
      "outputs": []
    },
    {
      "cell_type": "markdown",
      "metadata": {
        "id": "eH688KdZDdKY"
      },
      "source": [
        "## Подготовка данных (3 балла)\n",
        "\n",
        "Обработайте признаки. Выполните кодирование категориальных признаков, заполните пропуски в числовых признаках. Обратите внимание, что в датасете есть признак, который разбивается на несколько подпризнаков. Что это за признак? Закодируйте и его.\n",
        "\n",
        "Дополнительные вопросы (+ 1 балл):\n",
        "- Какие из признаков в этом датасете лучше кодировать через ordinal encoding?\n",
        "- Какие из признаков допустимо кодировать через one-hot?\n",
        "\n",
        "Прим.: суммарно за эту секцию можно получить до 4 баллов."
      ]
    },
    {
      "cell_type": "markdown",
      "source": [
        "**Мой текст:** Лучше закодировать все категориальные признаки (amazon_category_and_sub_category) через one-hot, чтобы не приписывать никакую дополнительную иерархическую зависимость признакам. Признак number_available_in_stock можно разбить на 2: количество и состояние, еще на несколько признаков можно разбить amazon_category_and_sub_category: основная категория и все подкатегории"
      ],
      "metadata": {
        "id": "Zi-NBJuP0psl"
      }
    },
    {
      "cell_type": "code",
      "source": [
        "df_copy = df.copy()\n",
        "\n",
        "# Переведем доступное количество в численное значение и отделим состояние в отдельный признак\n",
        "df_copy[[\"number_available_in_stock\", \"condition\"]] = df_copy[\"number_available_in_stock\"].dropna().str.split(expand=True)\n",
        "df_copy[\"number_available_in_stock\"] = df_copy[\"number_available_in_stock\"].dropna().astype(float)\n",
        "\n",
        "# Переведем стоимость в численное значение\n",
        "df_copy[\"price\"] = df_copy[\"price\"].str.replace('£', '').str.replace(',', '').astype(float)\n",
        "\n",
        "# Переведем рейтинг в численное значение\n",
        "df_copy[\"average_review_rating\"] = df_copy[\"average_review_rating\"].dropna().apply(lambda x: float(x.split()[0]))\n",
        "\n",
        "# Переводим число отзывов в численное значение\n",
        "df_copy[\"number_of_reviews\"] = df_copy[\"number_of_reviews\"].dropna().str.replace(',', '').astype(float)\n",
        "\n",
        "# Переводим число ответов в численное значение\n",
        "df_copy[\"number_of_answered_questions\"] = df_copy[\"number_of_answered_questions\"].dropna().astype(float)\n",
        "\n",
        "# Заполняем пропуски по среднему и округляем там, где значения должны быть целыми\n",
        "df_copy[\"average_review_rating\"] = df_copy[\"average_review_rating\"].fillna(np.mean(df_copy[\"average_review_rating\"].dropna()))\n",
        "df_copy[\"number_of_reviews\"] = df_copy[\"number_of_reviews\"].fillna(np.mean(df_copy[\"number_of_reviews\"].dropna())).round(0)\n",
        "df_copy[\"number_of_answered_questions\"] = df_copy[\"number_of_answered_questions\"].fillna(np.mean(df_copy[\"number_of_answered_questions\"].dropna())).round(0)\n",
        "df_copy[\"number_available_in_stock\"] = df_copy[\"number_available_in_stock\"].fillna(np.mean(df_copy[\"number_available_in_stock\"].dropna()))\n",
        "\n",
        "# Заполним пропуски в текстовых данных\n",
        "df_copy[[\"manufacturer\", \"amazon_category_and_sub_category\", \"condition\"]] = df_copy[[\"manufacturer\", \"amazon_category_and_sub_category\", \"condition\"]].fillna(\"no information\")"
      ],
      "metadata": {
        "id": "nfVQrUsd29Yx"
      },
      "execution_count": 282,
      "outputs": []
    },
    {
      "cell_type": "code",
      "source": [
        "# Разделим amazon_category_and_sub_category на 5 признаков (тк максимум встречается 5 категорий) и заполним все пропуски\n",
        "df_copy[[\"amazon_category\", \"1_sub_category\", \"2_sub_category\", \"3_sub_category\", \"4_sub_category\"]] = df_copy[\"amazon_category_and_sub_category\"].str.split(\" > \", expand=True)\n",
        "df_copy[[\"1_sub_category\", \"2_sub_category\", \"3_sub_category\", \"4_sub_category\"]] = df_copy[[\"1_sub_category\", \"2_sub_category\", \"3_sub_category\", \"4_sub_category\"]].fillna(\"no_category\")\n",
        "df_copy = df_copy.drop(columns=[\"amazon_category_and_sub_category\"])"
      ],
      "metadata": {
        "id": "eyBfZrMWUspm"
      },
      "execution_count": 283,
      "outputs": []
    },
    {
      "cell_type": "code",
      "source": [
        "df_copy.isna().sum()"
      ],
      "metadata": {
        "colab": {
          "base_uri": "https://localhost:8080/"
        },
        "id": "nClN2ZT3MdYJ",
        "outputId": "0029f5cc-b257-4e57-bef1-612a258c2517"
      },
      "execution_count": 284,
      "outputs": [
        {
          "output_type": "execute_result",
          "data": {
            "text/plain": [
              "manufacturer                    0\n",
              "price                           0\n",
              "number_available_in_stock       0\n",
              "number_of_reviews               0\n",
              "number_of_answered_questions    0\n",
              "average_review_rating           0\n",
              "condition                       0\n",
              "amazon_category                 0\n",
              "1_sub_category                  0\n",
              "2_sub_category                  0\n",
              "3_sub_category                  0\n",
              "4_sub_category                  0\n",
              "dtype: int64"
            ]
          },
          "metadata": {},
          "execution_count": 284
        }
      ]
    },
    {
      "cell_type": "code",
      "source": [
        "X, y = df_copy.drop(columns=['price']), df_copy.price"
      ],
      "metadata": {
        "id": "SJ-FLtYQ4TQ1"
      },
      "execution_count": 285,
      "outputs": []
    },
    {
      "cell_type": "code",
      "source": [
        "X_train, X_test, y_train, y_test = train_test_split(df_copy, y, train_size=0.65, random_state=42)"
      ],
      "metadata": {
        "id": "nTtrzjcXaVnc"
      },
      "execution_count": 286,
      "outputs": []
    },
    {
      "cell_type": "code",
      "source": [
        "# Кодируем категориальные признаки\n",
        "\n",
        "features = [\"manufacturer\", \"condition\", \"amazon_category\", \"1_sub_category\", \"2_sub_category\", \"3_sub_category\", \"4_sub_category\"]\n",
        "X_encoded = X.copy()\n",
        "encoder = OneHotEncoder(handle_unknown='ignore')\n",
        "index_train = X_train.index\n",
        "index_test = X_test.index\n",
        "\n",
        "for feature in features:\n",
        "  encoder.fit(X_train[[feature]])\n",
        "  res = encoder.transform(X[[feature]])\n",
        "  for string in encoder.categories_:\n",
        "    arr = feature + \"_\" + string\n",
        "  X_encoded = X_encoded.join(pd.DataFrame(res.toarray(), columns=arr))\n",
        "  \n",
        "X_encoded = X_encoded.drop(columns=features)\n",
        "X_encoded.sample(10)"
      ],
      "metadata": {
        "colab": {
          "base_uri": "https://localhost:8080/",
          "height": 491
        },
        "id": "CLvxg1HPW3KA",
        "outputId": "90b23f31-caf6-4152-f555-fb613324bdf0"
      },
      "execution_count": 287,
      "outputs": [
        {
          "output_type": "execute_result",
          "data": {
            "text/plain": [
              "      number_available_in_stock  number_of_reviews  \\\n",
              "1574                   3.000000                3.0   \n",
              "6872                   3.000000                2.0   \n",
              "5305                   3.000000                9.0   \n",
              "5533                   8.735471                2.0   \n",
              "3030                   5.000000                3.0   \n",
              "3160                   5.000000                1.0   \n",
              "2237                   8.735471                1.0   \n",
              "4075                   7.000000               21.0   \n",
              "956                    7.000000                2.0   \n",
              "2807                   7.000000                1.0   \n",
              "\n",
              "      number_of_answered_questions  average_review_rating  \\\n",
              "1574                           1.0                    4.3   \n",
              "6872                           1.0                    5.0   \n",
              "5305                           2.0                    4.6   \n",
              "5533                           1.0                    5.0   \n",
              "3030                           1.0                    4.7   \n",
              "3160                           1.0                    5.0   \n",
              "2237                           2.0                    5.0   \n",
              "4075                           1.0                    4.5   \n",
              "956                            2.0                    5.0   \n",
              "2807                           1.0                    5.0   \n",
              "\n",
              "      manufacturer_16th Birthday 16th Foil Banner - 9ft  \\\n",
              "1574                                                0.0   \n",
              "6872                                                0.0   \n",
              "5305                                                0.0   \n",
              "5533                                                0.0   \n",
              "3030                                                0.0   \n",
              "3160                                                0.0   \n",
              "2237                                                0.0   \n",
              "4075                                                0.0   \n",
              "956                                                 0.0   \n",
              "2807                                                0.0   \n",
              "\n",
              "      manufacturer_1st birthday  manufacturer_24 Game  \\\n",
              "1574                        0.0                   0.0   \n",
              "6872                        0.0                   0.0   \n",
              "5305                        0.0                   0.0   \n",
              "5533                        0.0                   0.0   \n",
              "3030                        0.0                   0.0   \n",
              "3160                        0.0                   0.0   \n",
              "2237                        0.0                   0.0   \n",
              "4075                        0.0                   0.0   \n",
              "956                         0.0                   0.0   \n",
              "2807                        0.0                   0.0   \n",
              "\n",
              "      manufacturer_45\" Sunset Glow Pool  manufacturer_4M  \\\n",
              "1574                                0.0              0.0   \n",
              "6872                                0.0              0.0   \n",
              "5305                                0.0              0.0   \n",
              "5533                                0.0              0.0   \n",
              "3030                                0.0              0.0   \n",
              "3160                                0.0              0.0   \n",
              "2237                                0.0              0.0   \n",
              "4075                                0.0              0.0   \n",
              "956                                 0.0              0.0   \n",
              "2807                                0.0              0.0   \n",
              "\n",
              "      manufacturer_50Fifty  ...  3_sub_category_Vehicles  \\\n",
              "1574                   0.0  ...                      0.0   \n",
              "6872                   0.0  ...                      0.0   \n",
              "5305                   0.0  ...                      0.0   \n",
              "5533                   0.0  ...                      0.0   \n",
              "3030                   0.0  ...                      1.0   \n",
              "3160                   0.0  ...                      0.0   \n",
              "2237                   0.0  ...                      0.0   \n",
              "4075                   0.0  ...                      0.0   \n",
              "956                    0.0  ...                      0.0   \n",
              "2807                   0.0  ...                      0.0   \n",
              "\n",
              "      3_sub_category_Wagons  3_sub_category_Window Stickers  \\\n",
              "1574                    0.0                             0.0   \n",
              "6872                    0.0                             0.0   \n",
              "5305                    0.0                             0.0   \n",
              "5533                    0.0                             0.0   \n",
              "3030                    0.0                             0.0   \n",
              "3160                    0.0                             0.0   \n",
              "2237                    0.0                             0.0   \n",
              "4075                    0.0                             0.0   \n",
              "956                     0.0                             0.0   \n",
              "2807                    0.0                             0.0   \n",
              "\n",
              "      3_sub_category_Wooden Thomas  3_sub_category_no_category  \\\n",
              "1574                           0.0                         1.0   \n",
              "6872                           0.0                         1.0   \n",
              "5305                           0.0                         1.0   \n",
              "5533                           0.0                         1.0   \n",
              "3030                           0.0                         0.0   \n",
              "3160                           0.0                         1.0   \n",
              "2237                           0.0                         1.0   \n",
              "4075                           0.0                         1.0   \n",
              "956                            0.0                         1.0   \n",
              "2807                           0.0                         1.0   \n",
              "\n",
              "      4_sub_category_Figures  4_sub_category_Landscape Architecture  \\\n",
              "1574                     0.0                                    0.0   \n",
              "6872                     0.0                                    0.0   \n",
              "5305                     0.0                                    0.0   \n",
              "5533                     0.0                                    0.0   \n",
              "3030                     0.0                                    0.0   \n",
              "3160                     0.0                                    0.0   \n",
              "2237                     0.0                                    0.0   \n",
              "4075                     0.0                                    0.0   \n",
              "956                      0.0                                    0.0   \n",
              "2807                     0.0                                    0.0   \n",
              "\n",
              "      4_sub_category_Road Construction  4_sub_category_Track Construction  \\\n",
              "1574                               0.0                                0.0   \n",
              "6872                               0.0                                0.0   \n",
              "5305                               0.0                                0.0   \n",
              "5533                               0.0                                0.0   \n",
              "3030                               0.0                                0.0   \n",
              "3160                               0.0                                0.0   \n",
              "2237                               0.0                                0.0   \n",
              "4075                               0.0                                0.0   \n",
              "956                                0.0                                0.0   \n",
              "2807                               0.0                                0.0   \n",
              "\n",
              "      4_sub_category_no_category  \n",
              "1574                         1.0  \n",
              "6872                         1.0  \n",
              "5305                         1.0  \n",
              "5533                         1.0  \n",
              "3030                         1.0  \n",
              "3160                         1.0  \n",
              "2237                         1.0  \n",
              "4075                         1.0  \n",
              "956                          1.0  \n",
              "2807                         1.0  \n",
              "\n",
              "[10 rows x 2122 columns]"
            ],
            "text/html": [
              "\n",
              "  <div id=\"df-5756f7cc-76cf-4817-bdcc-378e1e93aa8f\">\n",
              "    <div class=\"colab-df-container\">\n",
              "      <div>\n",
              "<style scoped>\n",
              "    .dataframe tbody tr th:only-of-type {\n",
              "        vertical-align: middle;\n",
              "    }\n",
              "\n",
              "    .dataframe tbody tr th {\n",
              "        vertical-align: top;\n",
              "    }\n",
              "\n",
              "    .dataframe thead th {\n",
              "        text-align: right;\n",
              "    }\n",
              "</style>\n",
              "<table border=\"1\" class=\"dataframe\">\n",
              "  <thead>\n",
              "    <tr style=\"text-align: right;\">\n",
              "      <th></th>\n",
              "      <th>number_available_in_stock</th>\n",
              "      <th>number_of_reviews</th>\n",
              "      <th>number_of_answered_questions</th>\n",
              "      <th>average_review_rating</th>\n",
              "      <th>manufacturer_16th Birthday 16th Foil Banner - 9ft</th>\n",
              "      <th>manufacturer_1st birthday</th>\n",
              "      <th>manufacturer_24 Game</th>\n",
              "      <th>manufacturer_45\" Sunset Glow Pool</th>\n",
              "      <th>manufacturer_4M</th>\n",
              "      <th>manufacturer_50Fifty</th>\n",
              "      <th>...</th>\n",
              "      <th>3_sub_category_Vehicles</th>\n",
              "      <th>3_sub_category_Wagons</th>\n",
              "      <th>3_sub_category_Window Stickers</th>\n",
              "      <th>3_sub_category_Wooden Thomas</th>\n",
              "      <th>3_sub_category_no_category</th>\n",
              "      <th>4_sub_category_Figures</th>\n",
              "      <th>4_sub_category_Landscape Architecture</th>\n",
              "      <th>4_sub_category_Road Construction</th>\n",
              "      <th>4_sub_category_Track Construction</th>\n",
              "      <th>4_sub_category_no_category</th>\n",
              "    </tr>\n",
              "  </thead>\n",
              "  <tbody>\n",
              "    <tr>\n",
              "      <th>1574</th>\n",
              "      <td>3.000000</td>\n",
              "      <td>3.0</td>\n",
              "      <td>1.0</td>\n",
              "      <td>4.3</td>\n",
              "      <td>0.0</td>\n",
              "      <td>0.0</td>\n",
              "      <td>0.0</td>\n",
              "      <td>0.0</td>\n",
              "      <td>0.0</td>\n",
              "      <td>0.0</td>\n",
              "      <td>...</td>\n",
              "      <td>0.0</td>\n",
              "      <td>0.0</td>\n",
              "      <td>0.0</td>\n",
              "      <td>0.0</td>\n",
              "      <td>1.0</td>\n",
              "      <td>0.0</td>\n",
              "      <td>0.0</td>\n",
              "      <td>0.0</td>\n",
              "      <td>0.0</td>\n",
              "      <td>1.0</td>\n",
              "    </tr>\n",
              "    <tr>\n",
              "      <th>6872</th>\n",
              "      <td>3.000000</td>\n",
              "      <td>2.0</td>\n",
              "      <td>1.0</td>\n",
              "      <td>5.0</td>\n",
              "      <td>0.0</td>\n",
              "      <td>0.0</td>\n",
              "      <td>0.0</td>\n",
              "      <td>0.0</td>\n",
              "      <td>0.0</td>\n",
              "      <td>0.0</td>\n",
              "      <td>...</td>\n",
              "      <td>0.0</td>\n",
              "      <td>0.0</td>\n",
              "      <td>0.0</td>\n",
              "      <td>0.0</td>\n",
              "      <td>1.0</td>\n",
              "      <td>0.0</td>\n",
              "      <td>0.0</td>\n",
              "      <td>0.0</td>\n",
              "      <td>0.0</td>\n",
              "      <td>1.0</td>\n",
              "    </tr>\n",
              "    <tr>\n",
              "      <th>5305</th>\n",
              "      <td>3.000000</td>\n",
              "      <td>9.0</td>\n",
              "      <td>2.0</td>\n",
              "      <td>4.6</td>\n",
              "      <td>0.0</td>\n",
              "      <td>0.0</td>\n",
              "      <td>0.0</td>\n",
              "      <td>0.0</td>\n",
              "      <td>0.0</td>\n",
              "      <td>0.0</td>\n",
              "      <td>...</td>\n",
              "      <td>0.0</td>\n",
              "      <td>0.0</td>\n",
              "      <td>0.0</td>\n",
              "      <td>0.0</td>\n",
              "      <td>1.0</td>\n",
              "      <td>0.0</td>\n",
              "      <td>0.0</td>\n",
              "      <td>0.0</td>\n",
              "      <td>0.0</td>\n",
              "      <td>1.0</td>\n",
              "    </tr>\n",
              "    <tr>\n",
              "      <th>5533</th>\n",
              "      <td>8.735471</td>\n",
              "      <td>2.0</td>\n",
              "      <td>1.0</td>\n",
              "      <td>5.0</td>\n",
              "      <td>0.0</td>\n",
              "      <td>0.0</td>\n",
              "      <td>0.0</td>\n",
              "      <td>0.0</td>\n",
              "      <td>0.0</td>\n",
              "      <td>0.0</td>\n",
              "      <td>...</td>\n",
              "      <td>0.0</td>\n",
              "      <td>0.0</td>\n",
              "      <td>0.0</td>\n",
              "      <td>0.0</td>\n",
              "      <td>1.0</td>\n",
              "      <td>0.0</td>\n",
              "      <td>0.0</td>\n",
              "      <td>0.0</td>\n",
              "      <td>0.0</td>\n",
              "      <td>1.0</td>\n",
              "    </tr>\n",
              "    <tr>\n",
              "      <th>3030</th>\n",
              "      <td>5.000000</td>\n",
              "      <td>3.0</td>\n",
              "      <td>1.0</td>\n",
              "      <td>4.7</td>\n",
              "      <td>0.0</td>\n",
              "      <td>0.0</td>\n",
              "      <td>0.0</td>\n",
              "      <td>0.0</td>\n",
              "      <td>0.0</td>\n",
              "      <td>0.0</td>\n",
              "      <td>...</td>\n",
              "      <td>1.0</td>\n",
              "      <td>0.0</td>\n",
              "      <td>0.0</td>\n",
              "      <td>0.0</td>\n",
              "      <td>0.0</td>\n",
              "      <td>0.0</td>\n",
              "      <td>0.0</td>\n",
              "      <td>0.0</td>\n",
              "      <td>0.0</td>\n",
              "      <td>1.0</td>\n",
              "    </tr>\n",
              "    <tr>\n",
              "      <th>3160</th>\n",
              "      <td>5.000000</td>\n",
              "      <td>1.0</td>\n",
              "      <td>1.0</td>\n",
              "      <td>5.0</td>\n",
              "      <td>0.0</td>\n",
              "      <td>0.0</td>\n",
              "      <td>0.0</td>\n",
              "      <td>0.0</td>\n",
              "      <td>0.0</td>\n",
              "      <td>0.0</td>\n",
              "      <td>...</td>\n",
              "      <td>0.0</td>\n",
              "      <td>0.0</td>\n",
              "      <td>0.0</td>\n",
              "      <td>0.0</td>\n",
              "      <td>1.0</td>\n",
              "      <td>0.0</td>\n",
              "      <td>0.0</td>\n",
              "      <td>0.0</td>\n",
              "      <td>0.0</td>\n",
              "      <td>1.0</td>\n",
              "    </tr>\n",
              "    <tr>\n",
              "      <th>2237</th>\n",
              "      <td>8.735471</td>\n",
              "      <td>1.0</td>\n",
              "      <td>2.0</td>\n",
              "      <td>5.0</td>\n",
              "      <td>0.0</td>\n",
              "      <td>0.0</td>\n",
              "      <td>0.0</td>\n",
              "      <td>0.0</td>\n",
              "      <td>0.0</td>\n",
              "      <td>0.0</td>\n",
              "      <td>...</td>\n",
              "      <td>0.0</td>\n",
              "      <td>0.0</td>\n",
              "      <td>0.0</td>\n",
              "      <td>0.0</td>\n",
              "      <td>1.0</td>\n",
              "      <td>0.0</td>\n",
              "      <td>0.0</td>\n",
              "      <td>0.0</td>\n",
              "      <td>0.0</td>\n",
              "      <td>1.0</td>\n",
              "    </tr>\n",
              "    <tr>\n",
              "      <th>4075</th>\n",
              "      <td>7.000000</td>\n",
              "      <td>21.0</td>\n",
              "      <td>1.0</td>\n",
              "      <td>4.5</td>\n",
              "      <td>0.0</td>\n",
              "      <td>0.0</td>\n",
              "      <td>0.0</td>\n",
              "      <td>0.0</td>\n",
              "      <td>0.0</td>\n",
              "      <td>0.0</td>\n",
              "      <td>...</td>\n",
              "      <td>0.0</td>\n",
              "      <td>0.0</td>\n",
              "      <td>0.0</td>\n",
              "      <td>0.0</td>\n",
              "      <td>1.0</td>\n",
              "      <td>0.0</td>\n",
              "      <td>0.0</td>\n",
              "      <td>0.0</td>\n",
              "      <td>0.0</td>\n",
              "      <td>1.0</td>\n",
              "    </tr>\n",
              "    <tr>\n",
              "      <th>956</th>\n",
              "      <td>7.000000</td>\n",
              "      <td>2.0</td>\n",
              "      <td>2.0</td>\n",
              "      <td>5.0</td>\n",
              "      <td>0.0</td>\n",
              "      <td>0.0</td>\n",
              "      <td>0.0</td>\n",
              "      <td>0.0</td>\n",
              "      <td>0.0</td>\n",
              "      <td>0.0</td>\n",
              "      <td>...</td>\n",
              "      <td>0.0</td>\n",
              "      <td>0.0</td>\n",
              "      <td>0.0</td>\n",
              "      <td>0.0</td>\n",
              "      <td>1.0</td>\n",
              "      <td>0.0</td>\n",
              "      <td>0.0</td>\n",
              "      <td>0.0</td>\n",
              "      <td>0.0</td>\n",
              "      <td>1.0</td>\n",
              "    </tr>\n",
              "    <tr>\n",
              "      <th>2807</th>\n",
              "      <td>7.000000</td>\n",
              "      <td>1.0</td>\n",
              "      <td>1.0</td>\n",
              "      <td>5.0</td>\n",
              "      <td>0.0</td>\n",
              "      <td>0.0</td>\n",
              "      <td>0.0</td>\n",
              "      <td>0.0</td>\n",
              "      <td>0.0</td>\n",
              "      <td>0.0</td>\n",
              "      <td>...</td>\n",
              "      <td>0.0</td>\n",
              "      <td>0.0</td>\n",
              "      <td>0.0</td>\n",
              "      <td>0.0</td>\n",
              "      <td>1.0</td>\n",
              "      <td>0.0</td>\n",
              "      <td>0.0</td>\n",
              "      <td>0.0</td>\n",
              "      <td>0.0</td>\n",
              "      <td>1.0</td>\n",
              "    </tr>\n",
              "  </tbody>\n",
              "</table>\n",
              "<p>10 rows × 2122 columns</p>\n",
              "</div>\n",
              "      <button class=\"colab-df-convert\" onclick=\"convertToInteractive('df-5756f7cc-76cf-4817-bdcc-378e1e93aa8f')\"\n",
              "              title=\"Convert this dataframe to an interactive table.\"\n",
              "              style=\"display:none;\">\n",
              "        \n",
              "  <svg xmlns=\"http://www.w3.org/2000/svg\" height=\"24px\"viewBox=\"0 0 24 24\"\n",
              "       width=\"24px\">\n",
              "    <path d=\"M0 0h24v24H0V0z\" fill=\"none\"/>\n",
              "    <path d=\"M18.56 5.44l.94 2.06.94-2.06 2.06-.94-2.06-.94-.94-2.06-.94 2.06-2.06.94zm-11 1L8.5 8.5l.94-2.06 2.06-.94-2.06-.94L8.5 2.5l-.94 2.06-2.06.94zm10 10l.94 2.06.94-2.06 2.06-.94-2.06-.94-.94-2.06-.94 2.06-2.06.94z\"/><path d=\"M17.41 7.96l-1.37-1.37c-.4-.4-.92-.59-1.43-.59-.52 0-1.04.2-1.43.59L10.3 9.45l-7.72 7.72c-.78.78-.78 2.05 0 2.83L4 21.41c.39.39.9.59 1.41.59.51 0 1.02-.2 1.41-.59l7.78-7.78 2.81-2.81c.8-.78.8-2.07 0-2.86zM5.41 20L4 18.59l7.72-7.72 1.47 1.35L5.41 20z\"/>\n",
              "  </svg>\n",
              "      </button>\n",
              "      \n",
              "  <style>\n",
              "    .colab-df-container {\n",
              "      display:flex;\n",
              "      flex-wrap:wrap;\n",
              "      gap: 12px;\n",
              "    }\n",
              "\n",
              "    .colab-df-convert {\n",
              "      background-color: #E8F0FE;\n",
              "      border: none;\n",
              "      border-radius: 50%;\n",
              "      cursor: pointer;\n",
              "      display: none;\n",
              "      fill: #1967D2;\n",
              "      height: 32px;\n",
              "      padding: 0 0 0 0;\n",
              "      width: 32px;\n",
              "    }\n",
              "\n",
              "    .colab-df-convert:hover {\n",
              "      background-color: #E2EBFA;\n",
              "      box-shadow: 0px 1px 2px rgba(60, 64, 67, 0.3), 0px 1px 3px 1px rgba(60, 64, 67, 0.15);\n",
              "      fill: #174EA6;\n",
              "    }\n",
              "\n",
              "    [theme=dark] .colab-df-convert {\n",
              "      background-color: #3B4455;\n",
              "      fill: #D2E3FC;\n",
              "    }\n",
              "\n",
              "    [theme=dark] .colab-df-convert:hover {\n",
              "      background-color: #434B5C;\n",
              "      box-shadow: 0px 1px 3px 1px rgba(0, 0, 0, 0.15);\n",
              "      filter: drop-shadow(0px 1px 2px rgba(0, 0, 0, 0.3));\n",
              "      fill: #FFFFFF;\n",
              "    }\n",
              "  </style>\n",
              "\n",
              "      <script>\n",
              "        const buttonEl =\n",
              "          document.querySelector('#df-5756f7cc-76cf-4817-bdcc-378e1e93aa8f button.colab-df-convert');\n",
              "        buttonEl.style.display =\n",
              "          google.colab.kernel.accessAllowed ? 'block' : 'none';\n",
              "\n",
              "        async function convertToInteractive(key) {\n",
              "          const element = document.querySelector('#df-5756f7cc-76cf-4817-bdcc-378e1e93aa8f');\n",
              "          const dataTable =\n",
              "            await google.colab.kernel.invokeFunction('convertToInteractive',\n",
              "                                                     [key], {});\n",
              "          if (!dataTable) return;\n",
              "\n",
              "          const docLinkHtml = 'Like what you see? Visit the ' +\n",
              "            '<a target=\"_blank\" href=https://colab.research.google.com/notebooks/data_table.ipynb>data table notebook</a>'\n",
              "            + ' to learn more about interactive tables.';\n",
              "          element.innerHTML = '';\n",
              "          dataTable['output_type'] = 'display_data';\n",
              "          await google.colab.output.renderOutput(dataTable, element);\n",
              "          const docLink = document.createElement('div');\n",
              "          docLink.innerHTML = docLinkHtml;\n",
              "          element.appendChild(docLink);\n",
              "        }\n",
              "      </script>\n",
              "    </div>\n",
              "  </div>\n",
              "  "
            ]
          },
          "metadata": {},
          "execution_count": 287
        }
      ]
    },
    {
      "cell_type": "code",
      "source": [
        "X_encoded_train = X_encoded.iloc[X_train.index, :]\n",
        "y_encoded_train = y[X_train.index]\n",
        "X_encoded_test = X_encoded.iloc[X_test.index, :]\n",
        "y_encoded_test = y[X_test.index]"
      ],
      "metadata": {
        "id": "L2bsDFtbb-dj"
      },
      "execution_count": 288,
      "outputs": []
    },
    {
      "cell_type": "markdown",
      "metadata": {
        "id": "JTRoUwANEcn9"
      },
      "source": [
        "# Обучение модели (3 балла)"
      ]
    },
    {
      "cell_type": "markdown",
      "metadata": {
        "id": "AyVaKKT7FFo5"
      },
      "source": [
        "## Бейзлайн\n",
        "\n",
        "Обучите базовую модель. Для этого используйте `sklearn.dummy.DummyRegressor`. Какое качество она показывает на тесте? Посчитайте MSE, RMSE."
      ]
    },
    {
      "cell_type": "code",
      "execution_count": 292,
      "metadata": {
        "id": "-JplspUcve0J",
        "colab": {
          "base_uri": "https://localhost:8080/"
        },
        "outputId": "2aa87ab1-6678-4018-f93e-4d7024841341"
      },
      "outputs": [
        {
          "output_type": "execute_result",
          "data": {
            "text/plain": [
              "DummyRegressor()"
            ]
          },
          "metadata": {},
          "execution_count": 292
        }
      ],
      "source": [
        "dummy = DummyRegressor()\n",
        "dummy.fit(X_encoded_train, y_encoded_train)"
      ]
    },
    {
      "cell_type": "code",
      "execution_count": 293,
      "metadata": {
        "id": "zuFLTDnKF1qQ",
        "colab": {
          "base_uri": "https://localhost:8080/"
        },
        "outputId": "43dacaf6-4a6f-4c28-bbd9-db445636b93e"
      },
      "outputs": [
        {
          "output_type": "stream",
          "name": "stdout",
          "text": [
            "MSE:  1705.68209137284\n",
            "RMSE:  41.29990425379749\n",
            "r2_score:  -0.00017061319390720975\n"
          ]
        }
      ],
      "source": [
        "y_pred = dummy.predict(X_encoded_test)\n",
        "print(\"MSE: \", mse(y_encoded_test, y_pred))\n",
        "print(\"RMSE: \", mse(y_encoded_test, y_pred, squared=False))\n",
        "print(\"r2_score: \", r2_score(y_encoded_test, y_pred))"
      ]
    },
    {
      "cell_type": "markdown",
      "metadata": {
        "id": "rVW-MtPgF_vE"
      },
      "source": [
        "## Дерево решений\n",
        "\n",
        "Обучите регрессионное дерево решений, проверьте качество этой модели на тестовой выборке. Улучшилось ли качество по сравнению с базовой моделью? Оцените r2_score обученной модели."
      ]
    },
    {
      "cell_type": "code",
      "execution_count": 294,
      "metadata": {
        "id": "CUISp3CtGrRB",
        "colab": {
          "base_uri": "https://localhost:8080/"
        },
        "outputId": "92b01085-4c16-4808-89da-e15e9188acca"
      },
      "outputs": [
        {
          "output_type": "stream",
          "name": "stdout",
          "text": [
            "MSE:  2325.271802663537\n",
            "RMSE:  48.22107218492282\n",
            "r2_score:  -0.36348299397377604\n"
          ]
        }
      ],
      "source": [
        "tree = DecisionTreeRegressor()\n",
        "tree.fit(X_encoded_train, y_encoded_train)\n",
        "y_pred = tree.predict(X_encoded_test)\n",
        "\n",
        "print(\"MSE: \", mse(y_encoded_test, y_pred))\n",
        "print(\"RMSE: \", mse(y_encoded_test, y_pred, squared=False))\n",
        "print(\"r2_score: \", r2_score(y_encoded_test, y_pred))"
      ]
    },
    {
      "cell_type": "markdown",
      "source": [
        "**Мой текст:** качество ухудшилось"
      ],
      "metadata": {
        "id": "OT3OOis3B6Gn"
      }
    },
    {
      "cell_type": "markdown",
      "metadata": {
        "id": "viVY_kUMG7Jv"
      },
      "source": [
        "## Линейная регрессия\n",
        "\n",
        "Попробуйте обучить линейную регрессию с параметрами по умолчанию. Оцените r2_score на тестовой выборке. Сравните качество с деревом решений. "
      ]
    },
    {
      "cell_type": "code",
      "execution_count": 296,
      "metadata": {
        "id": "ZpPICj2tQsDS",
        "colab": {
          "base_uri": "https://localhost:8080/"
        },
        "outputId": "282543c7-aee8-47fb-c388-54dc5f51baf5"
      },
      "outputs": [
        {
          "output_type": "stream",
          "name": "stdout",
          "text": [
            "MSE:  3.991500668451647e+19\n",
            "RMSE:  6317832435.615594\n",
            "r2_score:  -2.3405191924809476e+16\n"
          ]
        }
      ],
      "source": [
        "lin_reg = LinearRegression()\n",
        "lin_reg.fit(X_encoded_train, y_encoded_train)\n",
        "y_pred = lin_reg.predict(X_encoded_test)\n",
        "\n",
        "print(\"MSE: \", mse(y_encoded_test, y_pred))\n",
        "print(\"RMSE: \", mse(y_encoded_test, y_pred, squared=False))\n",
        "print(\"r2_score: \", r2_score(y_encoded_test, y_pred))"
      ]
    },
    {
      "cell_type": "markdown",
      "metadata": {
        "id": "3J71riX2Guj3"
      },
      "source": [
        "# Гиперпараметры (2 балла)\n",
        "\n",
        "Переберите несколько гиперпараметров (не более двух-трёх). Обратите внимание, как эти параметры влияют на ошибку модели на тестовой выборке. Постройте для глубины дерева график переобучения (fitting curve) аналогичный тому, что мы строили на занятии. Найдите глубину дерева, начиная с которой модель начинает переобучаться."
      ]
    },
    {
      "cell_type": "code",
      "execution_count": 307,
      "metadata": {
        "id": "mLTTpG19Wr2l"
      },
      "outputs": [],
      "source": [
        "def plot_fitting_curve(parameter: str, values: list, X_train, X_test, y_train, y_test, name='title', xlabel='xlabel', ylabel='ylabel'):\n",
        "    train_curve = []\n",
        "    test_curve = []\n",
        "    for value in values:\n",
        "        model = DecisionTreeRegressor(**{parameter: value})\n",
        "        model.fit(X_train, y_train)\n",
        "        y_pred_train, y_pred_test = model.predict(X_train), model.predict(X_test)\n",
        "        train_curve.append(mse(y_train, y_pred_train))\n",
        "        test_curve.append(mse(y_test, y_pred_test))\n",
        "    sns.lineplot(x=values, y=train_curve, label='train').set(title=name, xlabel=xlabel, ylabel=ylabel)\n",
        "    sns.lineplot(x=values, y=test_curve, label='test')"
      ]
    },
    {
      "cell_type": "code",
      "execution_count": 310,
      "metadata": {
        "id": "5CQySD968W0J",
        "colab": {
          "base_uri": "https://localhost:8080/",
          "height": 296
        },
        "outputId": "2471075e-c46c-4d50-f8df-bf1bd0d3d778"
      },
      "outputs": [
        {
          "output_type": "display_data",
          "data": {
            "text/plain": [
              "<Figure size 432x288 with 1 Axes>"
            ],
            "image/png": "[encoded data removed]"
          },
          "metadata": {
            "needs_background": "light"
          }
        }
      ],
      "source": [
        "plot_fitting_curve('max_depth', np.arange(1, 20), X_encoded_train, X_encoded_test, y_encoded_train, y_encoded_test, 'max_depth', 'max_depth', 'mse')"
      ]
    },
    {
      "cell_type": "code",
      "source": [
        "plot_fitting_curve('min_samples_split', np.arange(5, 100, 10), X_encoded_train, X_encoded_test, y_encoded_train, y_encoded_test, 'min_samples_split', 'min_samples_split', 'mse')"
      ],
      "metadata": {
        "colab": {
          "base_uri": "https://localhost:8080/",
          "height": 296
        },
        "id": "0Mbk2zaGFiHa",
        "outputId": "60350032-ffea-495a-f349-9b3d14dedb4c"
      },
      "execution_count": 312,
      "outputs": [
        {
          "output_type": "display_data",
          "data": {
            "text/plain": [
              "<Figure size 432x288 with 1 Axes>"
            ],
            "image/png": "[encoded data removed]"
          },
          "metadata": {
            "needs_background": "light"
          }
        }
      ]
    },
    {
      "cell_type": "code",
      "source": [
        "plot_fitting_curve('max_features', np.linspace(0.1, 1, 20), X_encoded_train, X_encoded_test, y_train, y_test, 'max_featurest', 'max_features', 'mse')"
      ],
      "metadata": {
        "colab": {
          "base_uri": "https://localhost:8080/",
          "height": 296
        },
        "id": "BcgcLnjmFi75",
        "outputId": "5900fe10-3185-4c1a-fa0f-55861f8aba78"
      },
      "execution_count": 314,
      "outputs": [
        {
          "output_type": "display_data",
          "data": {
            "text/plain": [
              "<Figure size 432x288 with 1 Axes>"
            ],
            "image/png": "[encoded data removed]"
          },
          "metadata": {
            "needs_background": "light"
          }
        }
      ]
    },
    {
      "cell_type": "code",
      "source": [
        "tree = DecisionTreeRegressor(max_depth=6, min_samples_split=20, max_features=0.35)\n",
        "tree.fit(X_encoded_train, y_encoded_train)\n",
        "y_pred = tree.predict(X_encoded_test)\n",
        "\n",
        "print(\"MSE: \", mse(y_encoded_test, y_pred))\n",
        "print(\"RMSE: \", mse(y_encoded_test, y_pred, squared=False))\n",
        "print(\"r2_score: \", r2_score(y_encoded_test, y_pred))"
      ],
      "metadata": {
        "colab": {
          "base_uri": "https://localhost:8080/"
        },
        "id": "uUKFu77XHI5r",
        "outputId": "b656323c-0e25-452c-97a1-3b301d999146"
      },
      "execution_count": 316,
      "outputs": [
        {
          "output_type": "stream",
          "name": "stdout",
          "text": [
            "MSE:  1875.6495087273838\n",
            "RMSE:  43.30876942060792\n",
            "r2_score:  -0.09983538478194398\n"
          ]
        }
      ]
    },
    {
      "cell_type": "markdown",
      "source": [
        "**Мой текст:** модель начинает переобучаться примерно  с глубины 10"
      ],
      "metadata": {
        "id": "B5FXkyVhIu3G"
      }
    },
    {
      "cell_type": "markdown",
      "metadata": {
        "id": "rJlf6gJ9RBhf"
      },
      "source": [
        "# Простое ансамблирование (1 балл)\n",
        "\n",
        "В этой секции мы реализуем простой ансамбль деревьев."
      ]
    },
    {
      "cell_type": "code",
      "execution_count": 346,
      "metadata": {
        "id": "Ht7wq9TqUfvZ"
      },
      "outputs": [],
      "source": [
        "class EnsembleTreeRegressor:\n",
        "    def __init__(self, num_trees=5, samples_frac=0.8, **model_kwargs):\n",
        "        self._num_trees = num_trees\n",
        "        self._samples_frac = samples_frac\n",
        "        self._trees = [DecisionTreeRegressor(**model_kwargs) for _ in range(num_trees)]\n",
        "\n",
        "    def fit(self, x: pd.DataFrame, y: pd.Series):\n",
        "        for tree in self._trees:\n",
        "            tree_x = x.sample(frac=self._samples_frac, random_state=42)\n",
        "            tree_y = y[tree_x.index]\n",
        "            tree.fit(tree_x, tree_y)\n",
        "\n",
        "    def predict(self, x: pd.DataFrame):\n",
        "        res = []\n",
        "        for i in range(self._num_trees):\n",
        "          res.append(self._trees[i].predict(x))\n",
        "        return sum(res) / len(res)"
      ]
    },
    {
      "cell_type": "markdown",
      "metadata": {
        "id": "FCxogZPuVZCF"
      },
      "source": [
        "Проверьте, работает ли этот ансамбль лучше обычного дерева с параметрами по умолчанию?\n",
        "\n",
        "Дополнительно переберите максимальную глубину дерева. Проверьте, насколько отличается момент начала переобучения у одиночного дерева и у ансамбля. Зависит ли этот момент от числа деревьев (`num_trees`)? От числа примеров для каждого дерева (`samples_frac`)? Постройте график fitting curve."
      ]
    },
    {
      "cell_type": "code",
      "source": [
        "etr = EnsembleTreeRegressor()\n",
        "etr.fit(X_encoded_train, y_encoded_train)\n",
        "y_pred = etr.predict(X_encoded_test)\n",
        "\n",
        "print(\"MSE: \", mse(y_encoded_test, y_pred))\n",
        "print(\"RMSE: \", mse(y_encoded_test, y_pred, squared=False))\n",
        "print(\"r2_score: \", r2_score(y_encoded_test, y_pred))"
      ],
      "metadata": {
        "colab": {
          "base_uri": "https://localhost:8080/"
        },
        "id": "IJIxt7D6LXQY",
        "outputId": "2c04d601-4c01-4a80-a277-c894b53758fc"
      },
      "execution_count": 347,
      "outputs": [
        {
          "output_type": "stream",
          "name": "stdout",
          "text": [
            "MSE:  1667.2488288564136\n",
            "RMSE:  40.83195842543453\n",
            "r2_score:  0.022365719885112156\n"
          ]
        }
      ]
    },
    {
      "cell_type": "markdown",
      "source": [
        "**Мой текст:** ансамбль работает лучше"
      ],
      "metadata": {
        "id": "i50EUOxJO7S1"
      }
    },
    {
      "cell_type": "code",
      "source": [
        "def etr_plot_fitting_curve(parameter: str, values: list, X_train, X_test, y_train, y_test, name='title', xlabel='xlabel', ylabel='ylabel', num_trees=5, samples_frac=0.8):\n",
        "    train_curve = []\n",
        "    test_curve = []\n",
        "    for value in values:\n",
        "        model = EnsembleTreeRegressor(**{parameter: value}, num_trees=num_trees, samples_frac=samples_frac)\n",
        "        model.fit(X_train, y_train)\n",
        "        y_pred_train, y_pred_test = model.predict(X_train), model.predict(X_test)\n",
        "        train_curve.append(mse(y_train, y_pred_train))\n",
        "        test_curve.append(mse(y_test, y_pred_test))\n",
        "    sns.lineplot(x=values, y=train_curve, label='train').set(title=name, xlabel=xlabel, ylabel=ylabel)\n",
        "    sns.lineplot(x=values, y=test_curve, label='test')"
      ],
      "metadata": {
        "id": "NHv7erZ_OTHJ"
      },
      "execution_count": 360,
      "outputs": []
    },
    {
      "cell_type": "code",
      "source": [
        "etr_plot_fitting_curve('max_depth', np.arange(1, 20), X_encoded_train, X_encoded_test, y_encoded_train, y_encoded_test, 'max_depth', 'max_depth', 'mse')"
      ],
      "metadata": {
        "colab": {
          "base_uri": "https://localhost:8080/",
          "height": 296
        },
        "id": "-UCcPAJiOXyJ",
        "outputId": "ff9b87b9-3be7-402b-bca1-de532f734553"
      },
      "execution_count": 361,
      "outputs": [
        {
          "output_type": "display_data",
          "data": {
            "text/plain": [
              "<Figure size 432x288 with 1 Axes>"
            ],
            "image/png": "[encoded data removed]"
          },
          "metadata": {
            "needs_background": "light"
          }
        }
      ]
    },
    {
      "cell_type": "code",
      "execution_count": 362,
      "metadata": {
        "id": "WJrBtD3rXOTH",
        "colab": {
          "base_uri": "https://localhost:8080/",
          "height": 296
        },
        "outputId": "4bee5435-74d7-474e-c156-1ef428495004"
      },
      "outputs": [
        {
          "output_type": "display_data",
          "data": {
            "text/plain": [
              "<Figure size 432x288 with 1 Axes>"
            ],
            "image/png": "[encoded data removed]"
          },
          "metadata": {
            "needs_background": "light"
          }
        }
      ],
      "source": [
        "etr_plot_fitting_curve('max_depth', np.arange(1, 20), X_encoded_train, X_encoded_test, y_encoded_train, y_encoded_test, 'max_depth, num_trees=20', 'max_depth', 'mse', num_trees=20)"
      ]
    },
    {
      "cell_type": "code",
      "source": [
        "etr_plot_fitting_curve('max_depth', np.arange(1, 20), X_encoded_train, X_encoded_test, y_encoded_train, y_encoded_test, 'max_depth, num_trees=50', 'max_depth', 'mse', num_trees=50)"
      ],
      "metadata": {
        "colab": {
          "base_uri": "https://localhost:8080/",
          "height": 296
        },
        "id": "ifuvIEXHUC6K",
        "outputId": "9abc0521-d72c-473c-d413-87e67e97acab"
      },
      "execution_count": 363,
      "outputs": [
        {
          "output_type": "display_data",
          "data": {
            "text/plain": [
              "<Figure size 432x288 with 1 Axes>"
            ],
            "image/png": "[encoded data removed]"
          },
          "metadata": {
            "needs_background": "light"
          }
        }
      ]
    },
    {
      "cell_type": "code",
      "source": [
        "etr_plot_fitting_curve('max_depth', np.arange(1, 20), X_encoded_train, X_encoded_test, y_encoded_train, y_encoded_test, 'max_depth, samples_frac=0.1', 'max_depth', 'mse', samples_frac=0.1)"
      ],
      "metadata": {
        "colab": {
          "base_uri": "https://localhost:8080/",
          "height": 296
        },
        "id": "GD2n9EG3QWL_",
        "outputId": "528ee639-2c3e-49fc-f5c1-4de04a943a6d"
      },
      "execution_count": 364,
      "outputs": [
        {
          "output_type": "display_data",
          "data": {
            "text/plain": [
              "<Figure size 432x288 with 1 Axes>"
            ],
            "image/png": "[encoded data removed]"
          },
          "metadata": {
            "needs_background": "light"
          }
        }
      ]
    },
    {
      "cell_type": "code",
      "source": [
        "etr_plot_fitting_curve('max_depth', np.arange(1, 20), X_encoded_train, X_encoded_test, y_encoded_train, y_encoded_test, 'max_depth, samples_frac=0.3', 'max_depth', 'mse', samples_frac=0.3)"
      ],
      "metadata": {
        "colab": {
          "base_uri": "https://localhost:8080/",
          "height": 296
        },
        "id": "-E1JXsHLUqUT",
        "outputId": "00139c64-9b60-4058-cd71-669f590e26eb"
      },
      "execution_count": 365,
      "outputs": [
        {
          "output_type": "display_data",
          "data": {
            "text/plain": [
              "<Figure size 432x288 with 1 Axes>"
            ],
            "image/png": "[encoded data removed]"
          },
          "metadata": {
            "needs_background": "light"
          }
        }
      ]
    },
    {
      "cell_type": "code",
      "source": [
        "etr_plot_fitting_curve('max_depth', np.arange(1, 20), X_encoded_train, X_encoded_test, y_encoded_train, y_encoded_test, 'max_depth, samples_frac=0.9', 'max_depth', 'mse', samples_frac=0.9)"
      ],
      "metadata": {
        "colab": {
          "base_uri": "https://localhost:8080/",
          "height": 296
        },
        "id": "TpL-749NUv3F",
        "outputId": "3658e9d5-ee00-4dc0-f829-c6118e6d573c"
      },
      "execution_count": 366,
      "outputs": [
        {
          "output_type": "display_data",
          "data": {
            "text/plain": [
              "<Figure size 432x288 with 1 Axes>"
            ],
            "image/png": "[encoded data removed]"
          },
          "metadata": {
            "needs_background": "light"
          }
        }
      ]
    },
    {
      "cell_type": "markdown",
      "source": [
        "**Мой текст:** модель переобучается примерно при глубине 13-15. Сильной зависимости от других признаков нет "
      ],
      "metadata": {
        "id": "VNVWK7bNXCUb"
      }
    },
    {
      "cell_type": "code",
      "source": [
        "etr = EnsembleTreeRegressor(max_depth=3, num_trees=5, samples_frac=0.3)\n",
        "etr.fit(X_encoded_train, y_encoded_train)\n",
        "y_pred = etr.predict(X_encoded_test)\n",
        "\n",
        "print(\"MSE: \", mse(y_encoded_test, y_pred))\n",
        "print(\"RMSE: \", mse(y_encoded_test, y_pred, squared=False))\n",
        "print(\"r2_score: \", r2_score(y_encoded_test, y_pred))"
      ],
      "metadata": {
        "colab": {
          "base_uri": "https://localhost:8080/"
        },
        "id": "_0dcPfcEXu0M",
        "outputId": "19aa2d83-3bb5-46e9-c98d-bd6742d15143"
      },
      "execution_count": 367,
      "outputs": [
        {
          "output_type": "stream",
          "name": "stdout",
          "text": [
            "MSE:  1770.2449021954803\n",
            "RMSE:  42.07427839185694\n",
            "r2_score:  -0.03802867972143309\n"
          ]
        }
      ]
    }
  ],
  "metadata": {
    "colab": {
      "provenance": []
    },
    "gpuClass": "standard",
    "kernelspec": {
      "display_name": "Python 3",
      "name": "python3"
    },
    "language_info": {
      "name": "python"
    }
  },
  "nbformat": 4,
  "nbformat_minor": 0
}