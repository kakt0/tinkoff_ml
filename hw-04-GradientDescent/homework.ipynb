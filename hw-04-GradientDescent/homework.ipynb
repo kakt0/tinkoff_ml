{
  "cells": [
    {
      "cell_type": "markdown",
      "id": "5372eb6b",
      "metadata": {
        "id": "5372eb6b"
      },
      "source": [
        "# Домашняя работа по регуляризации и оптимизации\n",
        "\n",
        "Ниже приводится корпус данных с двумя метками: 1 и -1. К данным применяется линейная модель классификации:\n",
        "\n",
        "$f(x, \\theta) = x_1 \\theta_1 + x_2 \\theta_2 + \\theta_3.$\n",
        "\n",
        "Предлагается подобрать параметры $\\theta$ минимизируя следующую функцию ошибки:\n",
        "\n",
        "$\\mathcal{L}(\\theta) = 0.1 \\|\\theta\\|^2 + \\frac{1}{N}\\sum\\limits_{i=1}^N \\max(0, 1 - y_i f(x_i, \\theta)).$\n",
        "\n",
        "Для оптимизации предлагается использовать метод градиентного спуска с 1000 шагами размера $0.1$ из начальной точки $(1, 1, 0)$."
      ]
    },
    {
      "cell_type": "code",
      "execution_count": 1,
      "id": "84be44bf",
      "metadata": {
        "id": "84be44bf"
      },
      "outputs": [],
      "source": [
        "import numpy as np\n",
        "import yaml"
      ]
    },
    {
      "cell_type": "code",
      "execution_count": 30,
      "id": "8e381337",
      "metadata": {
        "colab": {
          "base_uri": "https://localhost:8080/"
        },
        "id": "8e381337",
        "outputId": "d5d530b1-0b18-4b93-d2a3-a721adeca8cc"
      },
      "outputs": [
        {
          "output_type": "stream",
          "name": "stdout",
          "text": [
            "Prediction: [ 1.   2.   1.   0.  -0.5]\n",
            "Loss: 0.5\n"
          ]
        }
      ],
      "source": [
        "X = np.array([\n",
        "    [0, 1],\n",
        "    [1, 1],\n",
        "    [1, 0],\n",
        "    [-0.5, 0.5],\n",
        "    [0, -0.5]\n",
        "])\n",
        "\n",
        "y = np.array([1, 1, 1, -1, -1])\n",
        "\n",
        "theta0 = np.array([1.0, 1.0, 0.0])\n",
        "\n",
        "lr = 0.1\n",
        "\n",
        "def f(X, theta):\n",
        "    theta = np.asarray(theta)\n",
        "    return (X * theta[:2]).sum(axis=-1) + theta[2]\n",
        "\n",
        "def loss(X, y, theta):\n",
        "    theta = np.asarray(theta)\n",
        "    norm = (theta ** 2).sum()\n",
        "    deltas = y * f(X, theta)\n",
        "    return 0.1 * norm + np.mean(np.maximum(0, 1 - deltas))\n",
        "\n",
        "print(\"Prediction:\", f(X, theta0))\n",
        "print(\"Loss:\", loss(X, y, theta0))"
      ]
    },
    {
      "cell_type": "code",
      "source": [
        "# Якобиан f(X, theta)\n",
        "\n",
        "def A_f(X):\n",
        "  d = np.full((5,1), 1)\n",
        "  return np.column_stack((X, d))\n",
        "\n",
        "print(\"Якобиан f(X):\\n\", A_f(X))"
      ],
      "metadata": {
        "colab": {
          "base_uri": "https://localhost:8080/"
        },
        "id": "xO3Ao4WI4_fy",
        "outputId": "1e740834-bb6d-4cd8-ec3e-85c15bb27486"
      },
      "id": "xO3Ao4WI4_fy",
      "execution_count": 73,
      "outputs": [
        {
          "output_type": "stream",
          "name": "stdout",
          "text": [
            "Якобиан f(X):\n",
            " [[ 0.   1.   1. ]\n",
            " [ 1.   1.   1. ]\n",
            " [ 1.   0.   1. ]\n",
            " [-0.5  0.5  1. ]\n",
            " [ 0.  -0.5  1. ]]\n"
          ]
        }
      ]
    },
    {
      "cell_type": "code",
      "source": [
        "# Якобиан среднего максимумов из 0 и 1-y_i*f(X)\n",
        "\n",
        "def A_max(y, X, theta):\n",
        "  res = np.zeros((5, 1))\n",
        "  for i in range(0, len(y)):\n",
        "    if 1 > y[i]*f(X, theta)[i]:\n",
        "      res[i] = -y[i]\n",
        "  return res.T@A_f(X)/len(y)"
      ],
      "metadata": {
        "id": "UXg9cchk7R3M"
      },
      "id": "UXg9cchk7R3M",
      "execution_count": 74,
      "outputs": []
    },
    {
      "cell_type": "code",
      "source": [
        "# Якобиан loss(X, y, theta)\n",
        "\n",
        "def A_l(theta):\n",
        "  theta = np.asarray(theta)\n",
        "  return 0.2*theta + A_max(y, X, theta)"
      ],
      "metadata": {
        "id": "ZtS-bNIT9_wQ"
      },
      "id": "ZtS-bNIT9_wQ",
      "execution_count": 75,
      "outputs": []
    },
    {
      "cell_type": "code",
      "source": [
        "# Шаг градиентного спуска\n",
        "\n",
        "def step(theta, lr=0.1):\n",
        "    A = A_l(theta)[0]\n",
        "    return theta - lr * A"
      ],
      "metadata": {
        "id": "O50a8689BGIK"
      },
      "id": "O50a8689BGIK",
      "execution_count": 76,
      "outputs": []
    },
    {
      "cell_type": "code",
      "execution_count": 77,
      "id": "ca79f1da",
      "metadata": {
        "colab": {
          "base_uri": "https://localhost:8080/"
        },
        "id": "ca79f1da",
        "outputId": "b20ce290-3c46-4dde-95bf-d771a5b089dd"
      },
      "outputs": [
        {
          "output_type": "stream",
          "name": "stdout",
          "text": [
            "Конечная theta:  [ 1.25218494  1.         -0.24781506]\n"
          ]
        }
      ],
      "source": [
        "# 1000 шагов градиентного спуска\n",
        "\n",
        "theta = theta0\n",
        "for _ in range(1000):\n",
        "    theta = step(theta)\n",
        "\n",
        "print(\"Конечная theta: \", theta)"
      ]
    },
    {
      "cell_type": "code",
      "execution_count": 78,
      "id": "011ca5b7",
      "metadata": {
        "colab": {
          "base_uri": "https://localhost:8080/"
        },
        "id": "011ca5b7",
        "outputId": "3d6af27d-d49a-468d-97dd-bde9539f13b5"
      },
      "outputs": [
        {
          "output_type": "stream",
          "name": "stdout",
          "text": [
            "Prediction: [ 0.75218494  2.00436988  1.00436988 -0.37390753 -0.74781506]\n",
            "Loss: 0.48815643632236133\n"
          ]
        }
      ],
      "source": [
        "print(\"Prediction:\", f(X, theta))\n",
        "print(\"Loss:\", loss(X, y, theta))\n",
        "\n",
        "with open(\"submission.yaml\", \"w\") as fp:\n",
        "    yaml.safe_dump({\"tasks\": [{\"task1\": {\"answer\": theta.tolist()}}]}, fp)"
      ]
    }
  ],
  "metadata": {
    "accelerator": "GPU",
    "colab": {
      "collapsed_sections": [],
      "provenance": []
    },
    "kernelspec": {
      "display_name": "Python 3",
      "language": "python",
      "name": "python3"
    },
    "language_info": {
      "codemirror_mode": {
        "name": "ipython",
        "version": 3
      },
      "file_extension": ".py",
      "mimetype": "text/x-python",
      "name": "python",
      "nbconvert_exporter": "python",
      "pygments_lexer": "ipython3",
      "version": "3.8.9"
    }
  },
  "nbformat": 4,
  "nbformat_minor": 5
}